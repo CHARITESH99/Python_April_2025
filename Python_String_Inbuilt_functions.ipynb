{
 "cells": [
  {
   "cell_type": "markdown",
   "id": "b82271c6-e831-4239-9fce-b269f90358b8",
   "metadata": {},
   "source": [
    "# SET 1 Functions (max used for formatting the output)"
   ]
  },
  {
   "cell_type": "code",
   "execution_count": 1,
   "id": "217e93f4-df56-4d95-9d11-1a7eae31f586",
   "metadata": {},
   "outputs": [
    {
     "data": {
      "text/plain": [
       "'Narra Venkata Pavan Charitesh'"
      ]
     },
     "execution_count": 1,
     "metadata": {},
     "output_type": "execute_result"
    }
   ],
   "source": [
    "x='Narra Venkata Pavan Charitesh'\n",
    "x"
   ]
  },
  {
   "cell_type": "code",
   "execution_count": 2,
   "id": "5b939f13-a588-45fa-ac69-e6236f45be33",
   "metadata": {},
   "outputs": [
    {
     "data": {
      "text/plain": [
       "'NARRA VENKATA PAVAN CHARITESH'"
      ]
     },
     "execution_count": 2,
     "metadata": {},
     "output_type": "execute_result"
    }
   ],
   "source": [
    "x.upper()"
   ]
  },
  {
   "cell_type": "code",
   "execution_count": 3,
   "id": "33d7923c-82b5-4f14-9e6b-be5743f4027e",
   "metadata": {},
   "outputs": [
    {
     "data": {
      "text/plain": [
       "'narra venkata pavan charitesh'"
      ]
     },
     "execution_count": 3,
     "metadata": {},
     "output_type": "execute_result"
    }
   ],
   "source": [
    "x.lower()"
   ]
  },
  {
   "cell_type": "code",
   "execution_count": 4,
   "id": "a20e4d73-cfbd-4407-a0ce-e9856c27f55a",
   "metadata": {},
   "outputs": [
    {
     "data": {
      "text/plain": [
       "False"
      ]
     },
     "execution_count": 4,
     "metadata": {},
     "output_type": "execute_result"
    }
   ],
   "source": [
    "x.isupper()"
   ]
  },
  {
   "cell_type": "code",
   "execution_count": 5,
   "id": "a3073742-1c17-4181-b2f7-9623db9bf28f",
   "metadata": {},
   "outputs": [
    {
     "data": {
      "text/plain": [
       "False"
      ]
     },
     "execution_count": 5,
     "metadata": {},
     "output_type": "execute_result"
    }
   ],
   "source": [
    "x.islower()"
   ]
  },
  {
   "cell_type": "code",
   "execution_count": 6,
   "id": "ad63144f-8542-470a-949d-ecb51a3df772",
   "metadata": {},
   "outputs": [
    {
     "data": {
      "text/plain": [
       "'Narra Venkata Pavan Charitesh'"
      ]
     },
     "execution_count": 6,
     "metadata": {},
     "output_type": "execute_result"
    }
   ],
   "source": [
    "x.title()"
   ]
  },
  {
   "cell_type": "code",
   "execution_count": 7,
   "id": "719d92e4-47e7-44ac-9e9b-ebd5f61c641a",
   "metadata": {},
   "outputs": [
    {
     "data": {
      "text/plain": [
       "'Narra venkata pavan charitesh'"
      ]
     },
     "execution_count": 7,
     "metadata": {},
     "output_type": "execute_result"
    }
   ],
   "source": [
    "x.capitalize()"
   ]
  },
  {
   "cell_type": "code",
   "execution_count": 8,
   "id": "b51378a9-6681-43d5-adef-055a00da6609",
   "metadata": {},
   "outputs": [
    {
     "data": {
      "text/plain": [
       "'nARRA vENKATA pAVAN cHARITESH'"
      ]
     },
     "execution_count": 8,
     "metadata": {},
     "output_type": "execute_result"
    }
   ],
   "source": [
    "x.swapcase()"
   ]
  },
  {
   "cell_type": "markdown",
   "id": "3ec1959b-f757-47f4-8dd5-6a5ae2fa052d",
   "metadata": {},
   "source": [
    "# SET 2 Functions"
   ]
  },
  {
   "cell_type": "code",
   "execution_count": 10,
   "id": "740692b8-d9db-4b23-8e71-a2c797563f3e",
   "metadata": {},
   "outputs": [
    {
     "data": {
      "text/plain": [
       "' data scientist '"
      ]
     },
     "execution_count": 10,
     "metadata": {},
     "output_type": "execute_result"
    }
   ],
   "source": [
    "x=' data scientist '\n",
    "x"
   ]
  },
  {
   "cell_type": "code",
   "execution_count": 11,
   "id": "3608570a-97d9-4052-9646-6deb7fa8548a",
   "metadata": {},
   "outputs": [
    {
     "data": {
      "text/plain": [
       "'data scientist'"
      ]
     },
     "execution_count": 11,
     "metadata": {},
     "output_type": "execute_result"
    }
   ],
   "source": [
    "x.strip()"
   ]
  },
  {
   "cell_type": "code",
   "execution_count": 12,
   "id": "a048ed1b-cda9-4757-93c2-5066e165fb98",
   "metadata": {},
   "outputs": [
    {
     "data": {
      "text/plain": [
       "'data scientist '"
      ]
     },
     "execution_count": 12,
     "metadata": {},
     "output_type": "execute_result"
    }
   ],
   "source": [
    "x.lstrip()"
   ]
  },
  {
   "cell_type": "code",
   "execution_count": 13,
   "id": "febba894-2c39-4ef9-a841-53b958171b4d",
   "metadata": {},
   "outputs": [
    {
     "data": {
      "text/plain": [
       "' data scientist'"
      ]
     },
     "execution_count": 13,
     "metadata": {},
     "output_type": "execute_result"
    }
   ],
   "source": [
    "x.rstrip()"
   ]
  },
  {
   "cell_type": "code",
   "execution_count": 14,
   "id": "012f144a-6f9a-42e6-aea9-81a1dc6d9c6a",
   "metadata": {},
   "outputs": [
    {
     "data": {
      "text/plain": [
       "' da20a scien20is20 '"
      ]
     },
     "execution_count": 14,
     "metadata": {},
     "output_type": "execute_result"
    }
   ],
   "source": [
    "x.replace('t','20')"
   ]
  },
  {
   "cell_type": "code",
   "execution_count": 15,
   "id": "5a4bd023-b67e-4c74-9e27-09f899ac2859",
   "metadata": {},
   "outputs": [
    {
     "data": {
      "text/plain": [
       "'- -d-a-t-a- -s-c-i-e-n-t-i-s-t- -'"
      ]
     },
     "execution_count": 15,
     "metadata": {},
     "output_type": "execute_result"
    }
   ],
   "source": [
    "x.replace('','-')"
   ]
  },
  {
   "cell_type": "markdown",
   "id": "84e3079a-bd90-4101-80b9-2e8c2f153d2b",
   "metadata": {},
   "source": [
    "#### replace(old, new, count) -- it returns a new string with the replacements."
   ]
  },
  {
   "cell_type": "code",
   "execution_count": 16,
   "id": "d49fbe55-f630-4a0f-9add-960a7751eeea",
   "metadata": {},
   "outputs": [
    {
     "data": {
      "text/plain": [
       "'-data-scientist-'"
      ]
     },
     "execution_count": 16,
     "metadata": {},
     "output_type": "execute_result"
    }
   ],
   "source": [
    "x.replace(' ','-')"
   ]
  },
  {
   "cell_type": "markdown",
   "id": "f917867b-2500-47a7-bad0-f5f95891df58",
   "metadata": {},
   "source": [
    "#### count(substring,start,end) -- returns the number of occurrences of a substring in a given string"
   ]
  },
  {
   "cell_type": "code",
   "execution_count": 18,
   "id": "ced4baee-24cf-4bdf-821d-c343263ba819",
   "metadata": {},
   "outputs": [
    {
     "data": {
      "text/plain": [
       "2"
      ]
     },
     "execution_count": 18,
     "metadata": {},
     "output_type": "execute_result"
    }
   ],
   "source": [
    "x.count('a',1,6)"
   ]
  },
  {
   "cell_type": "code",
   "execution_count": 19,
   "id": "08aa810e-4e1b-40dc-b706-c41ac669497c",
   "metadata": {},
   "outputs": [
    {
     "data": {
      "text/plain": [
       "' data scientist '"
      ]
     },
     "execution_count": 19,
     "metadata": {},
     "output_type": "execute_result"
    }
   ],
   "source": [
    "x"
   ]
  },
  {
   "cell_type": "code",
   "execution_count": 20,
   "id": "56cec3e5-7a30-46ad-85ae-37b65c503f2f",
   "metadata": {},
   "outputs": [
    {
     "data": {
      "text/plain": [
       "'data scientist'"
      ]
     },
     "execution_count": 20,
     "metadata": {},
     "output_type": "execute_result"
    }
   ],
   "source": [
    "x='data scientist'\n",
    "x"
   ]
  },
  {
   "cell_type": "markdown",
   "id": "34185a7e-251a-419d-8f64-cdb3931e3ab2",
   "metadata": {},
   "source": [
    "#### index(substring, start=..., end=...) -- returns the lowest index of the specified substring within the string\n",
    "#### find(substring, start=..., end=...)  -- find() returns -1 if substring is not found"
   ]
  },
  {
   "cell_type": "code",
   "execution_count": 21,
   "id": "fd80e8f3-de71-421a-8dca-e5918027b790",
   "metadata": {},
   "outputs": [
    {
     "data": {
      "text/plain": [
       "7"
      ]
     },
     "execution_count": 21,
     "metadata": {},
     "output_type": "execute_result"
    }
   ],
   "source": [
    "x.index('i')"
   ]
  },
  {
   "cell_type": "code",
   "execution_count": 22,
   "id": "1618baf3-12b7-402f-8e7f-1bf55154206f",
   "metadata": {},
   "outputs": [
    {
     "data": {
      "text/plain": [
       "11"
      ]
     },
     "execution_count": 22,
     "metadata": {},
     "output_type": "execute_result"
    }
   ],
   "source": [
    "x.index('i',8,len(x))"
   ]
  },
  {
   "cell_type": "code",
   "execution_count": 23,
   "id": "29e0c82a-bc4e-4fe0-b4ee-fa95954e82eb",
   "metadata": {},
   "outputs": [
    {
     "data": {
      "text/plain": [
       "9"
      ]
     },
     "execution_count": 23,
     "metadata": {},
     "output_type": "execute_result"
    }
   ],
   "source": [
    "x.find('n')"
   ]
  },
  {
   "cell_type": "markdown",
   "id": "27247147-5553-4a45-a472-756814601978",
   "metadata": {},
   "source": [
    "# SET 3 Functions"
   ]
  },
  {
   "cell_type": "code",
   "execution_count": 24,
   "id": "a92f6e09-030d-4865-9f2b-08b9ff8152f3",
   "metadata": {},
   "outputs": [
    {
     "data": {
      "text/plain": [
       "'data scientist'"
      ]
     },
     "execution_count": 24,
     "metadata": {},
     "output_type": "execute_result"
    }
   ],
   "source": [
    "x"
   ]
  },
  {
   "cell_type": "code",
   "execution_count": 26,
   "id": "6a7a5cd7-6152-4e8b-b624-78b15d5c7ca2",
   "metadata": {},
   "outputs": [
    {
     "data": {
      "text/plain": [
       "True"
      ]
     },
     "execution_count": 26,
     "metadata": {},
     "output_type": "execute_result"
    }
   ],
   "source": [
    "x.startswith('dat')"
   ]
  },
  {
   "cell_type": "code",
   "execution_count": 27,
   "id": "ce4e6fb7-4728-4982-baf0-999c03bce557",
   "metadata": {},
   "outputs": [
    {
     "data": {
      "text/plain": [
       "False"
      ]
     },
     "execution_count": 27,
     "metadata": {},
     "output_type": "execute_result"
    }
   ],
   "source": [
    "x.startswith('Data')"
   ]
  },
  {
   "cell_type": "code",
   "execution_count": 28,
   "id": "aab4f9c4-ec1d-4c2b-bc03-aca5ed514c24",
   "metadata": {},
   "outputs": [
    {
     "data": {
      "text/plain": [
       "True"
      ]
     },
     "execution_count": 28,
     "metadata": {},
     "output_type": "execute_result"
    }
   ],
   "source": [
    "x.endswith('ist')"
   ]
  },
  {
   "cell_type": "code",
   "execution_count": 29,
   "id": "abdb2fbd-562b-41e2-b1ce-61f68439dd38",
   "metadata": {},
   "outputs": [
    {
     "data": {
      "text/plain": [
       "False"
      ]
     },
     "execution_count": 29,
     "metadata": {},
     "output_type": "execute_result"
    }
   ],
   "source": [
    "x.endswith('sT')"
   ]
  },
  {
   "cell_type": "code",
   "execution_count": 30,
   "id": "cf37f660-593e-48b0-8b7b-bd4e4e611229",
   "metadata": {},
   "outputs": [
    {
     "data": {
      "text/plain": [
       "False"
      ]
     },
     "execution_count": 30,
     "metadata": {},
     "output_type": "execute_result"
    }
   ],
   "source": [
    "x.endswith('Scientist')"
   ]
  },
  {
   "cell_type": "code",
   "execution_count": 31,
   "id": "4c361664-c733-4c37-8c54-1d1e5cb3738f",
   "metadata": {},
   "outputs": [
    {
     "data": {
      "text/plain": [
       "'IND - 7013990989'"
      ]
     },
     "execution_count": 31,
     "metadata": {},
     "output_type": "execute_result"
    }
   ],
   "source": [
    "x='IND - 7013990989'\n",
    "x"
   ]
  },
  {
   "cell_type": "code",
   "execution_count": 32,
   "id": "b00484a1-7166-491a-bbef-e7e15f7062dd",
   "metadata": {},
   "outputs": [
    {
     "data": {
      "text/plain": [
       "str"
      ]
     },
     "execution_count": 32,
     "metadata": {},
     "output_type": "execute_result"
    }
   ],
   "source": [
    "type(x)"
   ]
  },
  {
   "cell_type": "code",
   "execution_count": 33,
   "id": "1a01a724-41ab-49df-9dea-2e7cc5627b65",
   "metadata": {},
   "outputs": [
    {
     "data": {
      "text/plain": [
       "False"
      ]
     },
     "execution_count": 33,
     "metadata": {},
     "output_type": "execute_result"
    }
   ],
   "source": [
    "x.isalpha()"
   ]
  },
  {
   "cell_type": "code",
   "execution_count": 34,
   "id": "ed036f8d-9a65-40c6-9741-acbd621c14cc",
   "metadata": {},
   "outputs": [
    {
     "data": {
      "text/plain": [
       "False"
      ]
     },
     "execution_count": 34,
     "metadata": {},
     "output_type": "execute_result"
    }
   ],
   "source": [
    "x.isnumeric()"
   ]
  },
  {
   "cell_type": "code",
   "execution_count": 35,
   "id": "fd6659b1-b9d7-4b44-9576-d68834346cfe",
   "metadata": {},
   "outputs": [
    {
     "data": {
      "text/plain": [
       "False"
      ]
     },
     "execution_count": 35,
     "metadata": {},
     "output_type": "execute_result"
    }
   ],
   "source": [
    "x.isalnum()"
   ]
  },
  {
   "cell_type": "code",
   "execution_count": 36,
   "id": "b624ddcc-c72e-4c64-8edd-7868d1c3649e",
   "metadata": {},
   "outputs": [
    {
     "data": {
      "text/plain": [
       "True"
      ]
     },
     "execution_count": 36,
     "metadata": {},
     "output_type": "execute_result"
    }
   ],
   "source": [
    "x='123'\n",
    "x.isnumeric()"
   ]
  },
  {
   "cell_type": "code",
   "execution_count": 37,
   "id": "acc407b4-e073-48b6-8cb1-9e28d8fd401a",
   "metadata": {},
   "outputs": [
    {
     "data": {
      "text/plain": [
       "'123'"
      ]
     },
     "execution_count": 37,
     "metadata": {},
     "output_type": "execute_result"
    }
   ],
   "source": [
    "x"
   ]
  },
  {
   "cell_type": "code",
   "execution_count": 38,
   "id": "55c8d8a8-9886-4dc9-8b11-0c8517518d9e",
   "metadata": {},
   "outputs": [
    {
     "data": {
      "text/plain": [
       "True"
      ]
     },
     "execution_count": 38,
     "metadata": {},
     "output_type": "execute_result"
    }
   ],
   "source": [
    "x='python'\n",
    "x.isalpha()"
   ]
  },
  {
   "cell_type": "code",
   "execution_count": 39,
   "id": "58646e40-bd60-48b3-952e-0d777cf70611",
   "metadata": {},
   "outputs": [
    {
     "data": {
      "text/plain": [
       "True"
      ]
     },
     "execution_count": 39,
     "metadata": {},
     "output_type": "execute_result"
    }
   ],
   "source": [
    "x.isalnum()"
   ]
  },
  {
   "cell_type": "code",
   "execution_count": 40,
   "id": "63f74782-3ad0-4660-ba17-03e2bc0b8320",
   "metadata": {},
   "outputs": [
    {
     "data": {
      "text/plain": [
       "True"
      ]
     },
     "execution_count": 40,
     "metadata": {},
     "output_type": "execute_result"
    }
   ],
   "source": [
    "x='1234'\n",
    "x.isalnum()"
   ]
  },
  {
   "cell_type": "code",
   "execution_count": null,
   "id": "47faca1c-382a-4140-9f85-051b2267e216",
   "metadata": {},
   "outputs": [],
   "source": []
  },
  {
   "cell_type": "markdown",
   "id": "62760efb-d9e7-4c75-9735-5785ee87e907",
   "metadata": {},
   "source": [
    "# Some Examples"
   ]
  },
  {
   "cell_type": "code",
   "execution_count": 43,
   "id": "ad616514-7d93-4af8-8530-073dc2d8fd40",
   "metadata": {},
   "outputs": [
    {
     "data": {
      "text/plain": [
       "'Charitesh 548 Nvp'"
      ]
     },
     "execution_count": 43,
     "metadata": {},
     "output_type": "execute_result"
    }
   ],
   "source": [
    "a = 'Charitesh 548 Nvp'\n",
    "a"
   ]
  },
  {
   "cell_type": "code",
   "execution_count": 44,
   "id": "e2d6ec08-05e1-41f5-b302-984412a6751b",
   "metadata": {},
   "outputs": [
    {
     "data": {
      "text/plain": [
       "False"
      ]
     },
     "execution_count": 44,
     "metadata": {},
     "output_type": "execute_result"
    }
   ],
   "source": [
    "a[0:4].isupper()"
   ]
  },
  {
   "cell_type": "code",
   "execution_count": 45,
   "id": "c468ecd0-bfd8-45d7-ab10-18a5460bc9d7",
   "metadata": {},
   "outputs": [
    {
     "data": {
      "text/plain": [
       "'8 nV'"
      ]
     },
     "execution_count": 45,
     "metadata": {},
     "output_type": "execute_result"
    }
   ],
   "source": [
    "a[-5:-1].swapcase()"
   ]
  },
  {
   "cell_type": "code",
   "execution_count": 46,
   "id": "f34fff7c-37c5-43da-94ba-62ea9b01154c",
   "metadata": {},
   "outputs": [
    {
     "data": {
      "text/plain": [
       "'Har'"
      ]
     },
     "execution_count": 46,
     "metadata": {},
     "output_type": "execute_result"
    }
   ],
   "source": [
    "a[1:4].title()"
   ]
  },
  {
   "cell_type": "code",
   "execution_count": 47,
   "id": "7e8ab62c-e9cf-47fd-a923-7b04877800cc",
   "metadata": {},
   "outputs": [
    {
     "data": {
      "text/plain": [
       "'Charitesh 548 Nvp'"
      ]
     },
     "execution_count": 47,
     "metadata": {},
     "output_type": "execute_result"
    }
   ],
   "source": [
    "a.zfill(4)"
   ]
  },
  {
   "cell_type": "code",
   "execution_count": 48,
   "id": "862e84e9-2fb5-40d6-a9bf-d2c5b8737e68",
   "metadata": {},
   "outputs": [
    {
     "data": {
      "text/plain": [
       "'cherry'"
      ]
     },
     "execution_count": 48,
     "metadata": {},
     "output_type": "execute_result"
    }
   ],
   "source": [
    "a='cherry'\n",
    "a"
   ]
  },
  {
   "cell_type": "code",
   "execution_count": 49,
   "id": "32336712-8861-4c7f-b02b-6616b5875708",
   "metadata": {},
   "outputs": [
    {
     "data": {
      "text/plain": [
       "'000000cherry'"
      ]
     },
     "execution_count": 49,
     "metadata": {},
     "output_type": "execute_result"
    }
   ],
   "source": [
    "a.zfill(12)"
   ]
  },
  {
   "cell_type": "code",
   "execution_count": 50,
   "id": "d52b9099-2168-476b-ac0c-079b2e63eb98",
   "metadata": {},
   "outputs": [
    {
     "data": {
      "text/plain": [
       "['c', 'erry']"
      ]
     },
     "execution_count": 50,
     "metadata": {},
     "output_type": "execute_result"
    }
   ],
   "source": [
    "a.split('h')"
   ]
  },
  {
   "cell_type": "code",
   "execution_count": 51,
   "id": "c337311a-023c-4e09-8da3-e2d8885e438e",
   "metadata": {},
   "outputs": [
    {
     "data": {
      "text/plain": [
       "'chariteshnvp'"
      ]
     },
     "execution_count": 51,
     "metadata": {},
     "output_type": "execute_result"
    }
   ],
   "source": [
    "'charitesh'+'nvp'"
   ]
  },
  {
   "cell_type": "code",
   "execution_count": 52,
   "id": "276867c6-dedc-4d37-888c-4cd0c9228402",
   "metadata": {},
   "outputs": [
    {
     "data": {
      "text/plain": [
       "'charitesh nvp'"
      ]
     },
     "execution_count": 52,
     "metadata": {},
     "output_type": "execute_result"
    }
   ],
   "source": [
    "'charitesh'+' '+'nvp'"
   ]
  },
  {
   "cell_type": "code",
   "execution_count": 53,
   "id": "258a6c01-a1a0-4677-ad63-21edd90b2b77",
   "metadata": {},
   "outputs": [
    {
     "data": {
      "text/plain": [
       "'cherry'"
      ]
     },
     "execution_count": 53,
     "metadata": {},
     "output_type": "execute_result"
    }
   ],
   "source": [
    "a"
   ]
  },
  {
   "cell_type": "code",
   "execution_count": 54,
   "id": "9088add0-af9c-4171-9e8b-07237330195d",
   "metadata": {},
   "outputs": [
    {
     "data": {
      "text/plain": [
       "'cherrycherry'"
      ]
     },
     "execution_count": 54,
     "metadata": {},
     "output_type": "execute_result"
    }
   ],
   "source": [
    "a*2"
   ]
  },
  {
   "cell_type": "code",
   "execution_count": 55,
   "id": "ef4b4996-7b05-439e-be35-f67bf11601f5",
   "metadata": {},
   "outputs": [
    {
     "data": {
      "text/plain": [
       "'cherrycherrycherrycherry'"
      ]
     },
     "execution_count": 55,
     "metadata": {},
     "output_type": "execute_result"
    }
   ],
   "source": [
    "a*4"
   ]
  },
  {
   "cell_type": "code",
   "execution_count": 56,
   "id": "348dfabc-8633-447d-ba7c-e79aef23185e",
   "metadata": {},
   "outputs": [],
   "source": [
    "x=\"Data science\"\n",
    "y=\"data engineering\"\n",
    "output : \"DATA Engineering\""
   ]
  },
  {
   "cell_type": "code",
   "execution_count": 57,
   "id": "0d12e0f1-22db-440f-8d8c-8e568cc7745b",
   "metadata": {},
   "outputs": [
    {
     "data": {
      "text/plain": [
       "'DATA Engineering'"
      ]
     },
     "execution_count": 57,
     "metadata": {},
     "output_type": "execute_result"
    }
   ],
   "source": [
    "x[0:4].upper()+' '+y[5:].capitalize()"
   ]
  },
  {
   "cell_type": "code",
   "execution_count": 58,
   "id": "4cbf60fe-92a7-44ce-9395-af9878a27ebe",
   "metadata": {},
   "outputs": [
    {
     "data": {
      "text/plain": [
       "str"
      ]
     },
     "execution_count": 58,
     "metadata": {},
     "output_type": "execute_result"
    }
   ],
   "source": [
    "x=''' '''\n",
    "type(x)"
   ]
  }
 ],
 "metadata": {
  "kernelspec": {
   "display_name": "Python 3 (ipykernel)",
   "language": "python",
   "name": "python3"
  },
  "language_info": {
   "codemirror_mode": {
    "name": "ipython",
    "version": 3
   },
   "file_extension": ".py",
   "mimetype": "text/x-python",
   "name": "python",
   "nbconvert_exporter": "python",
   "pygments_lexer": "ipython3",
   "version": "3.13.2"
  }
 },
 "nbformat": 4,
 "nbformat_minor": 5
}
