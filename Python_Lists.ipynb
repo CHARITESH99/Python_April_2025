{
 "cells": [
  {
   "cell_type": "markdown",
   "id": "7c0a9607-bacf-487d-bb39-e48840a3bf15",
   "metadata": {},
   "source": [
    "# Lists "
   ]
  },
  {
   "cell_type": "markdown",
   "id": "ca0501ca-54ba-4c76-9ca3-283a5ee258f5",
   "metadata": {},
   "source": [
    "####  Lists can hold a variety of data types, including integers, floats, strings, and even other lists.\n",
    "####  You can create a list by placing a comma-separated sequence of items inside square brackets []."
   ]
  },
  {
   "cell_type": "code",
   "execution_count": 3,
   "id": "f0591df1-8158-4361-8c94-f2be991f48ba",
   "metadata": {},
   "outputs": [
    {
     "data": {
      "text/plain": [
       "list"
      ]
     },
     "execution_count": 3,
     "metadata": {},
     "output_type": "execute_result"
    }
   ],
   "source": [
    "x = []\n",
    "type(x)"
   ]
  },
  {
   "cell_type": "code",
   "execution_count": 4,
   "id": "079958b3-a75b-46fe-9fbe-5f1d197b6aca",
   "metadata": {},
   "outputs": [
    {
     "data": {
      "text/plain": [
       "['cherry', 548, 5.9, (4+8j)]"
      ]
     },
     "execution_count": 4,
     "metadata": {},
     "output_type": "execute_result"
    }
   ],
   "source": [
    "x = ['cherry',548,5.9,4+8j]\n",
    "x"
   ]
  },
  {
   "cell_type": "code",
   "execution_count": 5,
   "id": "bd1a1276-0217-4a89-8ca0-766670bb7754",
   "metadata": {},
   "outputs": [
    {
     "data": {
      "text/plain": [
       "('cherry', 548, 5.9, (4+8j))"
      ]
     },
     "execution_count": 5,
     "metadata": {},
     "output_type": "execute_result"
    }
   ],
   "source": [
    "x[0],x[1],x[2],x[3]"
   ]
  },
  {
   "cell_type": "code",
   "execution_count": 6,
   "id": "120186a3-9d3f-4422-a741-7b8ac250dd93",
   "metadata": {},
   "outputs": [
    {
     "data": {
      "text/plain": [
       "str"
      ]
     },
     "execution_count": 6,
     "metadata": {},
     "output_type": "execute_result"
    }
   ],
   "source": [
    "type(x[0])"
   ]
  },
  {
   "cell_type": "code",
   "execution_count": 7,
   "id": "e9d4c1e6-eda7-41ec-86dc-e65e72fce444",
   "metadata": {},
   "outputs": [
    {
     "data": {
      "text/plain": [
       "(str, int, float, complex)"
      ]
     },
     "execution_count": 7,
     "metadata": {},
     "output_type": "execute_result"
    }
   ],
   "source": [
    "type(x[0]),type(x[1]),type(x[2]),type(x[3])"
   ]
  },
  {
   "cell_type": "code",
   "execution_count": 8,
   "id": "8dd1e6b2-fa8f-41b6-bd49-c535d21bc73f",
   "metadata": {},
   "outputs": [
    {
     "data": {
      "text/plain": [
       "['data science', 'data analytics']"
      ]
     },
     "execution_count": 8,
     "metadata": {},
     "output_type": "execute_result"
    }
   ],
   "source": [
    "x=[\"data science\",\"data analytics\"]\n",
    "x"
   ]
  },
  {
   "cell_type": "code",
   "execution_count": 9,
   "id": "a15af29b-7a20-4273-be4a-8fde76decb13",
   "metadata": {},
   "outputs": [
    {
     "data": {
      "text/plain": [
       "'nc'"
      ]
     },
     "execution_count": 9,
     "metadata": {},
     "output_type": "execute_result"
    }
   ],
   "source": [
    "x[0][-3:-1]"
   ]
  },
  {
   "cell_type": "code",
   "execution_count": 10,
   "id": "77d12738-818d-4042-8e17-969147ec4699",
   "metadata": {},
   "outputs": [
    {
     "data": {
      "text/plain": [
       "[['cherry', 'Vivek'], ['Daya', 'Purvi'], ['Abhijeet', 'Rahul']]"
      ]
     },
     "execution_count": 10,
     "metadata": {},
     "output_type": "execute_result"
    }
   ],
   "source": [
    "class_groups = [\n",
    "    [\"cherry\", \"Vivek\"],\n",
    "    [\"Daya\", \"Purvi\"],\n",
    "    [\"Abhijeet\", \"Rahul\"]\n",
    "]\n",
    "class_groups"
   ]
  },
  {
   "cell_type": "code",
   "execution_count": 12,
   "id": "ad82c35e-ea80-4041-b7f4-6fbb80ce45b0",
   "metadata": {},
   "outputs": [
    {
     "data": {
      "text/plain": [
       "'Daya'"
      ]
     },
     "execution_count": 12,
     "metadata": {},
     "output_type": "execute_result"
    }
   ],
   "source": [
    "class_groups[1][0]"
   ]
  },
  {
   "cell_type": "code",
   "execution_count": null,
   "id": "b71fc1f1-9899-4157-af34-6b6ab7e7cee1",
   "metadata": {},
   "outputs": [],
   "source": []
  },
  {
   "cell_type": "markdown",
   "id": "fadff052-9fe1-4d4a-8334-b5d54016c247",
   "metadata": {},
   "source": [
    "# List Functions"
   ]
  },
  {
   "cell_type": "code",
   "execution_count": 13,
   "id": "bb0fb76f-e8bd-4858-84e4-11e9970cca55",
   "metadata": {},
   "outputs": [
    {
     "data": {
      "text/plain": [
       "[7, 8, 18, 45]"
      ]
     },
     "execution_count": 13,
     "metadata": {},
     "output_type": "execute_result"
    }
   ],
   "source": [
    "list1 = [7,8,18,45]\n",
    "list1"
   ]
  },
  {
   "cell_type": "code",
   "execution_count": 18,
   "id": "7a2686a6-03f9-450a-aefd-f35e335aab8f",
   "metadata": {},
   "outputs": [],
   "source": [
    "list1.append(77)"
   ]
  },
  {
   "cell_type": "code",
   "execution_count": 19,
   "id": "6f524e8a-a80d-47fd-b67d-55ca4e2742af",
   "metadata": {},
   "outputs": [
    {
     "data": {
      "text/plain": [
       "[7, 8, 18, 45, 77, 77, 77, 77]"
      ]
     },
     "execution_count": 19,
     "metadata": {},
     "output_type": "execute_result"
    }
   ],
   "source": [
    "list1"
   ]
  },
  {
   "cell_type": "markdown",
   "id": "d1b985c5-062b-4aad-b542-ec759734cfb5",
   "metadata": {},
   "source": [
    "#### Insert - The insert() method in Python is used to insert an element at a specified position in a list. insert(index, element)"
   ]
  },
  {
   "cell_type": "code",
   "execution_count": 22,
   "id": "9247f29f-1336-4f2f-b7f2-8ec4b96cd6ea",
   "metadata": {},
   "outputs": [],
   "source": [
    "list1.insert(6,99)"
   ]
  },
  {
   "cell_type": "code",
   "execution_count": 23,
   "id": "7d214fd0-0d7f-4d88-91f0-02acc69f6153",
   "metadata": {},
   "outputs": [
    {
     "data": {
      "text/plain": [
       "[7, 8, 18, 45, 77, 77, 99, '99', 77, 77]"
      ]
     },
     "execution_count": 23,
     "metadata": {},
     "output_type": "execute_result"
    }
   ],
   "source": [
    "list1"
   ]
  },
  {
   "cell_type": "markdown",
   "id": "e2b4d876-1a71-4e3e-8e6d-0ecc9d369eb3",
   "metadata": {},
   "source": [
    "#### The pop() method in Python is used to remove and return an element from a list at a specified index. pop(index)"
   ]
  },
  {
   "cell_type": "code",
   "execution_count": 24,
   "id": "4abf7fbc-6cce-4f46-a9aa-c46bffe167c8",
   "metadata": {},
   "outputs": [
    {
     "data": {
      "text/plain": [
       "77"
      ]
     },
     "execution_count": 24,
     "metadata": {},
     "output_type": "execute_result"
    }
   ],
   "source": [
    "list1.pop(4)"
   ]
  },
  {
   "cell_type": "code",
   "execution_count": 25,
   "id": "7ec0b1a7-c2e4-4a91-9e35-dfdb39082fa8",
   "metadata": {},
   "outputs": [
    {
     "data": {
      "text/plain": [
       "'99'"
      ]
     },
     "execution_count": 25,
     "metadata": {},
     "output_type": "execute_result"
    }
   ],
   "source": [
    "list1.pop(6)"
   ]
  },
  {
   "cell_type": "code",
   "execution_count": 26,
   "id": "be7fbe2a-83d5-479f-a05a-27b17fa0ba54",
   "metadata": {},
   "outputs": [
    {
     "data": {
      "text/plain": [
       "[7, 8, 18, 45, 77, 99, 77, 77]"
      ]
     },
     "execution_count": 26,
     "metadata": {},
     "output_type": "execute_result"
    }
   ],
   "source": [
    "list1"
   ]
  },
  {
   "cell_type": "code",
   "execution_count": 27,
   "id": "6b2625b2-da85-47f6-9d1f-2e621ca6770a",
   "metadata": {},
   "outputs": [
    {
     "data": {
      "text/plain": [
       "77"
      ]
     },
     "execution_count": 27,
     "metadata": {},
     "output_type": "execute_result"
    }
   ],
   "source": [
    "list1.pop(6)"
   ]
  },
  {
   "cell_type": "code",
   "execution_count": 28,
   "id": "36df0a55-914a-4b33-9adb-3a473448569b",
   "metadata": {},
   "outputs": [
    {
     "data": {
      "text/plain": [
       "77"
      ]
     },
     "execution_count": 28,
     "metadata": {},
     "output_type": "execute_result"
    }
   ],
   "source": [
    "list1.pop(6)"
   ]
  },
  {
   "cell_type": "code",
   "execution_count": 29,
   "id": "bce0bb58-69d9-4b5f-9cee-dafcec950f32",
   "metadata": {},
   "outputs": [
    {
     "data": {
      "text/plain": [
       "[7, 8, 18, 45, 77, 99]"
      ]
     },
     "execution_count": 29,
     "metadata": {},
     "output_type": "execute_result"
    }
   ],
   "source": [
    "list1"
   ]
  },
  {
   "cell_type": "markdown",
   "id": "c0e8d4cb-e736-4a0b-8535-b55834238b6d",
   "metadata": {},
   "source": [
    "#### del - deletes the entire list values and the list name"
   ]
  },
  {
   "cell_type": "code",
   "execution_count": 30,
   "id": "e0055644-d4ce-44e2-bd09-7a1be7bcc672",
   "metadata": {},
   "outputs": [],
   "source": [
    "del list1"
   ]
  },
  {
   "cell_type": "code",
   "execution_count": 31,
   "id": "cd192ceb-3c8e-4df7-b682-928c47d4cac4",
   "metadata": {},
   "outputs": [
    {
     "ename": "NameError",
     "evalue": "name 'list1' is not defined",
     "output_type": "error",
     "traceback": [
      "\u001b[31m---------------------------------------------------------------------------\u001b[39m",
      "\u001b[31mNameError\u001b[39m                                 Traceback (most recent call last)",
      "\u001b[36mCell\u001b[39m\u001b[36m \u001b[39m\u001b[32mIn[31]\u001b[39m\u001b[32m, line 1\u001b[39m\n\u001b[32m----> \u001b[39m\u001b[32m1\u001b[39m \u001b[43mlist1\u001b[49m\n",
      "\u001b[31mNameError\u001b[39m: name 'list1' is not defined"
     ]
    }
   ],
   "source": [
    "list1"
   ]
  },
  {
   "cell_type": "code",
   "execution_count": 33,
   "id": "fe7bdadf-3256-49b9-8311-c88d4b3bba6e",
   "metadata": {},
   "outputs": [
    {
     "data": {
      "text/plain": [
       "[1, 2, 3, 4, 4, 5, 6, 6, 6, 7]"
      ]
     },
     "execution_count": 33,
     "metadata": {},
     "output_type": "execute_result"
    }
   ],
   "source": [
    "list1 = [1,2,3,4,4,5,6,6,6,7]\n",
    "list1"
   ]
  },
  {
   "cell_type": "markdown",
   "id": "052c55ed-1350-43bb-b79a-c49c3fbb2b9a",
   "metadata": {},
   "source": [
    "#### count() -- The count() method in Python is used to count the number of occurrences of a specified element in a list. count(element)"
   ]
  },
  {
   "cell_type": "code",
   "execution_count": 34,
   "id": "ec53a9c1-a496-48e9-bed0-ae544bf0f219",
   "metadata": {},
   "outputs": [
    {
     "data": {
      "text/plain": [
       "3"
      ]
     },
     "execution_count": 34,
     "metadata": {},
     "output_type": "execute_result"
    }
   ],
   "source": [
    "list1.count(6)"
   ]
  },
  {
   "cell_type": "markdown",
   "id": "02e9a705-b750-4e4d-bfb4-d19f63015b54",
   "metadata": {},
   "source": [
    "#### index() -- The index() method in Python is used to find the first occurrence of a specified element in a list and return its index (position)."
   ]
  },
  {
   "cell_type": "code",
   "execution_count": 37,
   "id": "9601220a-8d06-45af-87b4-b038b6d622b4",
   "metadata": {},
   "outputs": [
    {
     "data": {
      "text/plain": [
       "3"
      ]
     },
     "execution_count": 37,
     "metadata": {},
     "output_type": "execute_result"
    }
   ],
   "source": [
    "list1.index(4)"
   ]
  },
  {
   "cell_type": "markdown",
   "id": "70fd45e8-763f-46b9-8561-50f16198f335",
   "metadata": {},
   "source": [
    "#### remove() -- The remove() method in Python is used to remove the first occurrence of a specified element from a list. remove(element)"
   ]
  },
  {
   "cell_type": "code",
   "execution_count": 38,
   "id": "860ba461-e5d3-4269-9c16-f48d33191337",
   "metadata": {},
   "outputs": [
    {
     "data": {
      "text/plain": [
       "[1, 2, 3, 4, 4, 5, 6, 6, 6, 7]"
      ]
     },
     "execution_count": 38,
     "metadata": {},
     "output_type": "execute_result"
    }
   ],
   "source": [
    "list1"
   ]
  },
  {
   "cell_type": "code",
   "execution_count": 39,
   "id": "1b572e80-329a-4d9c-a6d2-0c832123044d",
   "metadata": {},
   "outputs": [],
   "source": [
    "list1.remove(6)"
   ]
  },
  {
   "cell_type": "code",
   "execution_count": 40,
   "id": "2a650166-51f3-4c5a-b6b3-409838278465",
   "metadata": {},
   "outputs": [
    {
     "data": {
      "text/plain": [
       "[1, 2, 3, 4, 4, 5, 6, 6, 7]"
      ]
     },
     "execution_count": 40,
     "metadata": {},
     "output_type": "execute_result"
    }
   ],
   "source": [
    "list1"
   ]
  },
  {
   "cell_type": "markdown",
   "id": "df1994bb-c504-4f78-b292-97629a07759f",
   "metadata": {},
   "source": [
    "#### clear() -- The clear() method removes all items from the list, leaving it empty. It modifies the original list in place."
   ]
  },
  {
   "cell_type": "code",
   "execution_count": 41,
   "id": "8680b947-5724-45a9-a129-72809724be16",
   "metadata": {},
   "outputs": [
    {
     "data": {
      "text/plain": [
       "[]"
      ]
     },
     "execution_count": 41,
     "metadata": {},
     "output_type": "execute_result"
    }
   ],
   "source": [
    "list1.clear()\n",
    "list1"
   ]
  },
  {
   "cell_type": "markdown",
   "id": "dca299e7-614e-4545-a540-e440edb450d8",
   "metadata": {},
   "source": [
    "#### reverse() -- The reverse() method reverses the order of the elements in the list in place. It does not return a new list."
   ]
  },
  {
   "cell_type": "code",
   "execution_count": 42,
   "id": "77c19a01-6a76-4fd1-bb7e-f2820224855d",
   "metadata": {},
   "outputs": [
    {
     "data": {
      "text/plain": [
       "['che', 'red', 'yell', 'green']"
      ]
     },
     "execution_count": 42,
     "metadata": {},
     "output_type": "execute_result"
    }
   ],
   "source": [
    "list1 = ['che','red','yell','green']\n",
    "list1"
   ]
  },
  {
   "cell_type": "code",
   "execution_count": 45,
   "id": "a84be166-52e8-482a-bd46-2f23dae398d0",
   "metadata": {},
   "outputs": [
    {
     "data": {
      "text/plain": [
       "['green', 'yell', 'red', 'che']"
      ]
     },
     "execution_count": 45,
     "metadata": {},
     "output_type": "execute_result"
    }
   ],
   "source": [
    "list1.reverse()\n",
    "list1"
   ]
  },
  {
   "cell_type": "markdown",
   "id": "3f59e1ad-943a-47f2-bf21-8cfa47e5150a",
   "metadata": {},
   "source": [
    "#### sort() -- The sort() method sorts the items of the list in ascending order by default."
   ]
  },
  {
   "cell_type": "code",
   "execution_count": 46,
   "id": "aeb88242-69f1-45c8-b5cd-333fb60f4e9d",
   "metadata": {},
   "outputs": [
    {
     "data": {
      "text/plain": [
       "['che', 'green', 'red', 'yell']"
      ]
     },
     "execution_count": 46,
     "metadata": {},
     "output_type": "execute_result"
    }
   ],
   "source": [
    "list1.sort()\n",
    "list1"
   ]
  },
  {
   "cell_type": "code",
   "execution_count": 47,
   "id": "8fe98aec-e1e1-43c2-aa76-124ab4a20f86",
   "metadata": {},
   "outputs": [
    {
     "data": {
      "text/plain": [
       "['yell', 'red', 'green', 'che']"
      ]
     },
     "execution_count": 47,
     "metadata": {},
     "output_type": "execute_result"
    }
   ],
   "source": [
    "list1.sort(reverse=True)\n",
    "list1"
   ]
  },
  {
   "cell_type": "markdown",
   "id": "251c5e28-3297-42de-a0af-413713128f17",
   "metadata": {},
   "source": [
    "### Shallow Copy \n",
    "#### Changes made in copy list(shallow copy) will be reflected in original list and vice-versa  "
   ]
  },
  {
   "cell_type": "code",
   "execution_count": 48,
   "id": "4635fce3-c74a-4a90-bd31-2eafd786e9e6",
   "metadata": {},
   "outputs": [
    {
     "data": {
      "text/plain": [
       "[1, 2, 3, 4, 5]"
      ]
     },
     "execution_count": 48,
     "metadata": {},
     "output_type": "execute_result"
    }
   ],
   "source": [
    "x = [1,2,3,4,5]\n",
    "x"
   ]
  },
  {
   "cell_type": "code",
   "execution_count": 49,
   "id": "dd957164-707e-4071-a8c5-0789b04d13f9",
   "metadata": {},
   "outputs": [
    {
     "data": {
      "text/plain": [
       "[1, 2, 3, 4, 5]"
      ]
     },
     "execution_count": 49,
     "metadata": {},
     "output_type": "execute_result"
    }
   ],
   "source": [
    "y = x \n",
    "y"
   ]
  },
  {
   "cell_type": "code",
   "execution_count": 50,
   "id": "3e6d710a-5de5-4ac1-9e70-bcf073565d27",
   "metadata": {},
   "outputs": [
    {
     "data": {
      "text/plain": [
       "[1, 2, 3, 6, 5]"
      ]
     },
     "execution_count": 50,
     "metadata": {},
     "output_type": "execute_result"
    }
   ],
   "source": [
    "y[3] = 6\n",
    "y"
   ]
  },
  {
   "cell_type": "code",
   "execution_count": 51,
   "id": "61c1a3e4-498c-42d0-b482-0f501edadbb1",
   "metadata": {},
   "outputs": [
    {
     "data": {
      "text/plain": [
       "[1, 2, 3, 6, 5]"
      ]
     },
     "execution_count": 51,
     "metadata": {},
     "output_type": "execute_result"
    }
   ],
   "source": [
    "x"
   ]
  },
  {
   "cell_type": "markdown",
   "id": "8a828265-6bf5-4f6e-aa57-b87269d6c2d1",
   "metadata": {},
   "source": [
    "### Deep Copy \n",
    "#### A deep copy creates a completely independent copy of the original object.\n",
    "#### Changes made to the deep copy do not affect the original object."
   ]
  },
  {
   "cell_type": "code",
   "execution_count": 52,
   "id": "80c599bd-d2b7-43ad-9ace-144adbc0185f",
   "metadata": {},
   "outputs": [
    {
     "data": {
      "text/plain": [
       "[10, 9, 8, 7, 6]"
      ]
     },
     "execution_count": 52,
     "metadata": {},
     "output_type": "execute_result"
    }
   ],
   "source": [
    "x = [10,9,8,7,6]\n",
    "x"
   ]
  },
  {
   "cell_type": "code",
   "execution_count": 53,
   "id": "361ea402-474e-48e8-8973-e0b26ae89a3b",
   "metadata": {},
   "outputs": [
    {
     "data": {
      "text/plain": [
       "[10, 9, 8, 7, 6]"
      ]
     },
     "execution_count": 53,
     "metadata": {},
     "output_type": "execute_result"
    }
   ],
   "source": [
    "y = x.copy()\n",
    "y"
   ]
  },
  {
   "cell_type": "code",
   "execution_count": 54,
   "id": "130c4499-0a53-4109-95a6-794ce18978d5",
   "metadata": {},
   "outputs": [
    {
     "data": {
      "text/plain": [
       "[10, 9, 88, 7, 6]"
      ]
     },
     "execution_count": 54,
     "metadata": {},
     "output_type": "execute_result"
    }
   ],
   "source": [
    "y[2] = 88\n",
    "y"
   ]
  },
  {
   "cell_type": "code",
   "execution_count": 55,
   "id": "b223558d-f2b3-4c2b-95a3-9c663d2d610a",
   "metadata": {},
   "outputs": [
    {
     "data": {
      "text/plain": [
       "[10, 9, 8, 7, 6]"
      ]
     },
     "execution_count": 55,
     "metadata": {},
     "output_type": "execute_result"
    }
   ],
   "source": [
    "x"
   ]
  }
 ],
 "metadata": {
  "kernelspec": {
   "display_name": "Python 3 (ipykernel)",
   "language": "python",
   "name": "python3"
  },
  "language_info": {
   "codemirror_mode": {
    "name": "ipython",
    "version": 3
   },
   "file_extension": ".py",
   "mimetype": "text/x-python",
   "name": "python",
   "nbconvert_exporter": "python",
   "pygments_lexer": "ipython3",
   "version": "3.13.2"
  }
 },
 "nbformat": 4,
 "nbformat_minor": 5
}
