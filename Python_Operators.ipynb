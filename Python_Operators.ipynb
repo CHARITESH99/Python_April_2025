{
 "cells": [
  {
   "cell_type": "markdown",
   "id": "838e770d-fbd3-49d0-a959-b730b2c9bd33",
   "metadata": {},
   "source": [
    "# OPERATORS"
   ]
  },
  {
   "cell_type": "markdown",
   "id": "a45878f0-9af9-4cb6-bb21-3e1f1554beab",
   "metadata": {},
   "source": [
    "## Arithmetic Operators"
   ]
  },
  {
   "cell_type": "markdown",
   "id": "1b0485e9-ed94-4464-a36d-5eb43cdd17ff",
   "metadata": {},
   "source": [
    "### Addition Operator (+)"
   ]
  },
  {
   "cell_type": "code",
   "execution_count": 1,
   "id": "e2b66a91-3d04-4233-8624-f95c5c624512",
   "metadata": {},
   "outputs": [
    {
     "data": {
      "text/plain": [
       "60"
      ]
     },
     "execution_count": 1,
     "metadata": {},
     "output_type": "execute_result"
    }
   ],
   "source": [
    "a = 20\n",
    "b = 40\n",
    "a+b"
   ]
  },
  {
   "cell_type": "markdown",
   "id": "191bed80-f377-4221-8f4e-83ea332ad0d5",
   "metadata": {},
   "source": [
    "### Subtraction Operator (-)"
   ]
  },
  {
   "cell_type": "code",
   "execution_count": 3,
   "id": "c1acbf43-ce66-4362-a15e-bd9923bc9bae",
   "metadata": {},
   "outputs": [
    {
     "data": {
      "text/plain": [
       "2"
      ]
     },
     "execution_count": 3,
     "metadata": {},
     "output_type": "execute_result"
    }
   ],
   "source": [
    "a = 548\n",
    "b = 546\n",
    "a-b"
   ]
  },
  {
   "cell_type": "markdown",
   "id": "c6a2d770-ad1c-4822-813e-e6f713c6c71a",
   "metadata": {},
   "source": [
    "### Multiplication Operator (*)"
   ]
  },
  {
   "cell_type": "code",
   "execution_count": 4,
   "id": "bc4ea290-a1d2-490f-b819-c8e0b74e3a01",
   "metadata": {},
   "outputs": [
    {
     "data": {
      "text/plain": [
       "267800"
      ]
     },
     "execution_count": 4,
     "metadata": {},
     "output_type": "execute_result"
    }
   ],
   "source": [
    "a = 520\n",
    "b = 515\n",
    "a*b"
   ]
  },
  {
   "cell_type": "markdown",
   "id": "907f7fe2-03a6-4fd7-94a1-0b43740178aa",
   "metadata": {},
   "source": [
    "### Division Operator (/)"
   ]
  },
  {
   "cell_type": "code",
   "execution_count": 5,
   "id": "8773468d-64e1-433f-82b0-f28b0d4c733d",
   "metadata": {},
   "outputs": [
    {
     "data": {
      "text/plain": [
       "1.25"
      ]
     },
     "execution_count": 5,
     "metadata": {},
     "output_type": "execute_result"
    }
   ],
   "source": [
    "a = 25\n",
    "b = 20\n",
    "a/b"
   ]
  },
  {
   "cell_type": "markdown",
   "id": "9dddc924-0fc2-4ecb-a847-9ac7d889f51c",
   "metadata": {},
   "source": [
    "### Floor Division (//) - always returns a whole number, removes decimal values"
   ]
  },
  {
   "cell_type": "code",
   "execution_count": 6,
   "id": "501491cc-0bc5-4557-9bf5-daca808e2293",
   "metadata": {},
   "outputs": [
    {
     "data": {
      "text/plain": [
       "1"
      ]
     },
     "execution_count": 6,
     "metadata": {},
     "output_type": "execute_result"
    }
   ],
   "source": [
    "a = 25\n",
    "b = 20\n",
    "a//b"
   ]
  },
  {
   "cell_type": "markdown",
   "id": "8b1dcb3f-0ac4-4393-9a76-b1ac217cb766",
   "metadata": {},
   "source": [
    "### Modular Operator (%) - returns remainder"
   ]
  },
  {
   "cell_type": "code",
   "execution_count": 7,
   "id": "1e20cabc-b331-4cc0-a7fa-424f5da8143f",
   "metadata": {},
   "outputs": [
    {
     "data": {
      "text/plain": [
       "5"
      ]
     },
     "execution_count": 7,
     "metadata": {},
     "output_type": "execute_result"
    }
   ],
   "source": [
    "a = 25\n",
    "b = 20\n",
    "a%b"
   ]
  },
  {
   "cell_type": "markdown",
   "id": "87c087c2-5fa5-4496-91c4-dd25b2f948f5",
   "metadata": {},
   "source": [
    "## Comparision Operators - always returns boolean values i.e. True or False"
   ]
  },
  {
   "cell_type": "markdown",
   "id": "f97dcb71-b550-4971-8b9e-133977950d37",
   "metadata": {},
   "source": [
    "### < , <= , > , >= , == , !="
   ]
  },
  {
   "cell_type": "code",
   "execution_count": 10,
   "id": "be75fc40-b497-4577-be52-19df5caaf81e",
   "metadata": {},
   "outputs": [
    {
     "data": {
      "text/plain": [
       "(False, False, True, True, False, True)"
      ]
     },
     "execution_count": 10,
     "metadata": {},
     "output_type": "execute_result"
    }
   ],
   "source": [
    "a = 49\n",
    "b = 45\n",
    "a<b,a<=b,a>b,a>=b,a==b,a!=b"
   ]
  },
  {
   "cell_type": "markdown",
   "id": "d767e1be-68d7-4e28-adf8-e2c2fb02e224",
   "metadata": {},
   "source": [
    "## Logical Operators "
   ]
  },
  {
   "cell_type": "markdown",
   "id": "24d8ab7f-3da6-424c-a698-eaec458b66f8",
   "metadata": {},
   "source": [
    "#### AND Operator (T T T)"
   ]
  },
  {
   "cell_type": "code",
   "execution_count": 13,
   "id": "5c1f6110-1b51-4137-b468-841757322449",
   "metadata": {},
   "outputs": [
    {
     "data": {
      "text/plain": [
       "False"
      ]
     },
     "execution_count": 13,
     "metadata": {},
     "output_type": "execute_result"
    }
   ],
   "source": [
    "x = 10\n",
    "x>2 and x<5"
   ]
  },
  {
   "cell_type": "markdown",
   "id": "e887866f-9451-443d-a4e4-7bf0f1b6415f",
   "metadata": {},
   "source": [
    "#### OR Operator (F F F)"
   ]
  },
  {
   "cell_type": "code",
   "execution_count": 14,
   "id": "2edd482d-4e2d-4e30-b597-d7d602a440d8",
   "metadata": {},
   "outputs": [
    {
     "data": {
      "text/plain": [
       "True"
      ]
     },
     "execution_count": 14,
     "metadata": {},
     "output_type": "execute_result"
    }
   ],
   "source": [
    "y = 18\n",
    "x = 45\n",
    "x<y or x>y"
   ]
  },
  {
   "cell_type": "markdown",
   "id": "c731c56a-c6f3-41e5-a80d-9fd3172c0a64",
   "metadata": {},
   "source": [
    "#### NOT Operator (T F, F T)"
   ]
  },
  {
   "cell_type": "code",
   "execution_count": 15,
   "id": "cabc26f3-0ba7-4f51-9c15-3e59e60fcd40",
   "metadata": {},
   "outputs": [
    {
     "data": {
      "text/plain": [
       "True"
      ]
     },
     "execution_count": 15,
     "metadata": {},
     "output_type": "execute_result"
    }
   ],
   "source": [
    "x = 23\n",
    "not(x>5 and x<4)"
   ]
  },
  {
   "cell_type": "markdown",
   "id": "63a838dd-068d-4de8-a8d3-e9772078c458",
   "metadata": {},
   "source": [
    "## Identity and Membership Operators "
   ]
  },
  {
   "cell_type": "markdown",
   "id": "261444b6-fb7a-4370-ad41-74d455916573",
   "metadata": {},
   "source": [
    "### is, is not (here is refers to the reference address but not the values inside x)"
   ]
  },
  {
   "cell_type": "code",
   "execution_count": 20,
   "id": "c26cfedb-bb9e-4128-b010-21588131e874",
   "metadata": {},
   "outputs": [
    {
     "data": {
      "text/plain": [
       "False"
      ]
     },
     "execution_count": 20,
     "metadata": {},
     "output_type": "execute_result"
    }
   ],
   "source": [
    "x = [1,2,3,4]\n",
    "y = [1,2,3,4]\n",
    "x is y"
   ]
  },
  {
   "cell_type": "code",
   "execution_count": 21,
   "id": "9b37529d-7126-4694-8812-ac0ff140e476",
   "metadata": {},
   "outputs": [
    {
     "data": {
      "text/plain": [
       "True"
      ]
     },
     "execution_count": 21,
     "metadata": {},
     "output_type": "execute_result"
    }
   ],
   "source": [
    "x = [1,2,3,4]\n",
    "y = x\n",
    "x is y"
   ]
  },
  {
   "cell_type": "code",
   "execution_count": 25,
   "id": "9f1aecfe-b6f6-4d3c-9049-cf3abd14d891",
   "metadata": {},
   "outputs": [
    {
     "data": {
      "text/plain": [
       "False"
      ]
     },
     "execution_count": 25,
     "metadata": {},
     "output_type": "execute_result"
    }
   ],
   "source": [
    "x = [1,2,3,4]\n",
    "y = x.copy()\n",
    "z = x \n",
    "x is z\n",
    "y is x"
   ]
  },
  {
   "cell_type": "code",
   "execution_count": 29,
   "id": "c2b94fa0-2fd3-42cf-b579-b6a2a2460a30",
   "metadata": {},
   "outputs": [
    {
     "data": {
      "text/plain": [
       "True"
      ]
     },
     "execution_count": 29,
     "metadata": {},
     "output_type": "execute_result"
    }
   ],
   "source": [
    "x = [1,2,3,4]\n",
    "y = [1,2,3,4]\n",
    "x is not y\n",
    "y = x\n",
    "x is not y\n",
    "y = x.copy()\n",
    "y is not x"
   ]
  },
  {
   "cell_type": "markdown",
   "id": "58ddc52c-8cb4-4689-85a1-a6d0b900a28a",
   "metadata": {},
   "source": [
    "### in, not in "
   ]
  },
  {
   "cell_type": "code",
   "execution_count": 31,
   "id": "56a4dcb7-6474-4052-b153-4685fd611927",
   "metadata": {},
   "outputs": [
    {
     "data": {
      "text/plain": [
       "True"
      ]
     },
     "execution_count": 31,
     "metadata": {},
     "output_type": "execute_result"
    }
   ],
   "source": [
    "x = \"Data Science\" \n",
    "y = \"Data Science\"\n",
    "x in y"
   ]
  },
  {
   "cell_type": "code",
   "execution_count": 34,
   "id": "2815bca7-b419-48ce-9e8c-4cb597552728",
   "metadata": {},
   "outputs": [
    {
     "data": {
      "text/plain": [
       "True"
      ]
     },
     "execution_count": 34,
     "metadata": {},
     "output_type": "execute_result"
    }
   ],
   "source": [
    "x = \" data s\"\n",
    "y = \"data s\"\n",
    "y in x"
   ]
  },
  {
   "cell_type": "code",
   "execution_count": 35,
   "id": "38169f40-d03f-4f0e-bdba-d8982bebbd41",
   "metadata": {},
   "outputs": [
    {
     "data": {
      "text/plain": [
       "True"
      ]
     },
     "execution_count": 35,
     "metadata": {},
     "output_type": "execute_result"
    }
   ],
   "source": [
    "x = \"fun\"\n",
    "y = \"not fun\"\n",
    "y not in x"
   ]
  },
  {
   "cell_type": "code",
   "execution_count": 40,
   "id": "ef972760-f012-41bd-a022-f81945543e41",
   "metadata": {},
   "outputs": [
    {
     "data": {
      "text/plain": [
       "False"
      ]
     },
     "execution_count": 40,
     "metadata": {},
     "output_type": "execute_result"
    }
   ],
   "source": [
    "x = \"fun\"\n",
    "y = \"not fun\"\n",
    "x not in y"
   ]
  },
  {
   "cell_type": "markdown",
   "id": "9a2a4fcc-44d0-49c2-ab90-3ad9989acf1d",
   "metadata": {},
   "source": [
    "## Binary Form "
   ]
  },
  {
   "cell_type": "code",
   "execution_count": 41,
   "id": "88ab72e5-3699-4454-9b5d-1014378c075f",
   "metadata": {},
   "outputs": [
    {
     "data": {
      "text/plain": [
       "'0b11110'"
      ]
     },
     "execution_count": 41,
     "metadata": {},
     "output_type": "execute_result"
    }
   ],
   "source": [
    "bin(30)"
   ]
  },
  {
   "cell_type": "code",
   "execution_count": 42,
   "id": "5724862b-0f3d-470a-9ef6-b020433ff2bc",
   "metadata": {},
   "outputs": [
    {
     "data": {
      "text/plain": [
       "12"
      ]
     },
     "execution_count": 42,
     "metadata": {},
     "output_type": "execute_result"
    }
   ],
   "source": [
    "12&12"
   ]
  },
  {
   "cell_type": "code",
   "execution_count": 43,
   "id": "a401d511-0aa8-4598-8e51-f844daa85416",
   "metadata": {},
   "outputs": [
    {
     "data": {
      "text/plain": [
       "23"
      ]
     },
     "execution_count": 43,
     "metadata": {},
     "output_type": "execute_result"
    }
   ],
   "source": [
    "23|23"
   ]
  }
 ],
 "metadata": {
  "kernelspec": {
   "display_name": "Python 3 (ipykernel)",
   "language": "python",
   "name": "python3"
  },
  "language_info": {
   "codemirror_mode": {
    "name": "ipython",
    "version": 3
   },
   "file_extension": ".py",
   "mimetype": "text/x-python",
   "name": "python",
   "nbconvert_exporter": "python",
   "pygments_lexer": "ipython3",
   "version": "3.13.2"
  }
 },
 "nbformat": 4,
 "nbformat_minor": 5
}
