{
 "cells": [
  {
   "cell_type": "code",
   "execution_count": 1,
   "id": "a1e2e7a8-db90-45ca-8722-036468e9cdd3",
   "metadata": {},
   "outputs": [],
   "source": [
    "retail_inventory = {\n",
    "    \"Electronics\": {\n",
    "        \"Laptop\": [55000, 30, \"Dell\"],\n",
    "        \"Mobile\": [25000, 50, \"Samsung\"],\n",
    "        \"Tablet\": [18000, 20, \"Lenovo\"],\n",
    "        \"Smart Watch\": [7999, 40, \"Noise\"]\n",
    "    },\n",
    "    \"Apparel\": {\n",
    "        \"T-Shirt\": [499, 100, \"H&M\"],\n",
    "        \"Jeans\": [1199, 60, \"Levi's\"],\n",
    "        \"Jacket\": [2499, 25, \"Puma\"]\n",
    "    },\n",
    "    \"Home Appliances\": {\n",
    "        \"Microwave\": [8500, 15, \"LG\"],\n",
    "        \"Vacuum Cleaner\": [7000, 10, \"Philips\"],\n",
    "        \"Refrigerator\": [30000, 8, \"Samsung\"]\n",
    "    }\n",
    "}"
   ]
  },
  {
   "cell_type": "code",
   "execution_count": 2,
   "id": "b26f6fe9-b2fb-4c1e-82fe-e6d50925f1b1",
   "metadata": {},
   "outputs": [
    {
     "data": {
      "text/plain": [
       "{'Electronics': {'Laptop': [55000, 30, 'Dell'],\n",
       "  'Mobile': [25000, 50, 'Samsung'],\n",
       "  'Tablet': [18000, 20, 'Lenovo'],\n",
       "  'Smart Watch': [7999, 40, 'Noise']},\n",
       " 'Apparel': {'T-Shirt': [499, 100, 'H&M'],\n",
       "  'Jeans': [1199, 60, \"Levi's\"],\n",
       "  'Jacket': [2499, 25, 'Puma']},\n",
       " 'Home Appliances': {'Microwave': [8500, 15, 'LG'],\n",
       "  'Vacuum Cleaner': [7000, 10, 'Philips'],\n",
       "  'Refrigerator': [30000, 8, 'Samsung']}}"
      ]
     },
     "execution_count": 2,
     "metadata": {},
     "output_type": "execute_result"
    }
   ],
   "source": [
    "retail_inventory"
   ]
  },
  {
   "cell_type": "markdown",
   "id": "ee7641cf-8a28-49be-a946-86d4482e08e6",
   "metadata": {},
   "source": [
    "## LEVEL 1"
   ]
  },
  {
   "cell_type": "markdown",
   "id": "b4a2319b-d2ad-4770-932d-9b4668c15358",
   "metadata": {},
   "source": [
    "#### 1. Get all the keys from a dictionary"
   ]
  },
  {
   "cell_type": "code",
   "execution_count": 3,
   "id": "f96c44f1-542a-4965-bba0-aebb29625663",
   "metadata": {},
   "outputs": [
    {
     "data": {
      "text/plain": [
       "dict_keys(['Electronics', 'Apparel', 'Home Appliances'])"
      ]
     },
     "execution_count": 3,
     "metadata": {},
     "output_type": "execute_result"
    }
   ],
   "source": [
    "retail_inventory.keys()"
   ]
  },
  {
   "cell_type": "markdown",
   "id": "048c3a89-194d-4408-89e5-21b515f7dc88",
   "metadata": {},
   "source": [
    "#### 2. Get all the values from a dictionary"
   ]
  },
  {
   "cell_type": "code",
   "execution_count": 4,
   "id": "31b49736-d354-4dbd-bd64-acfaee73810b",
   "metadata": {},
   "outputs": [
    {
     "data": {
      "text/plain": [
       "dict_values([{'Laptop': [55000, 30, 'Dell'], 'Mobile': [25000, 50, 'Samsung'], 'Tablet': [18000, 20, 'Lenovo'], 'Smart Watch': [7999, 40, 'Noise']}, {'T-Shirt': [499, 100, 'H&M'], 'Jeans': [1199, 60, \"Levi's\"], 'Jacket': [2499, 25, 'Puma']}, {'Microwave': [8500, 15, 'LG'], 'Vacuum Cleaner': [7000, 10, 'Philips'], 'Refrigerator': [30000, 8, 'Samsung']}])"
      ]
     },
     "execution_count": 4,
     "metadata": {},
     "output_type": "execute_result"
    }
   ],
   "source": [
    "retail_inventory.values()"
   ]
  },
  {
   "cell_type": "markdown",
   "id": "a7050443-bc29-4e11-8610-60061392cc3a",
   "metadata": {},
   "source": [
    "#### 3. Retrieve the value for a specific key safely"
   ]
  },
  {
   "cell_type": "code",
   "execution_count": 11,
   "id": "33a5a3e8-b03f-46d7-a89c-e89d1bdec461",
   "metadata": {},
   "outputs": [
    {
     "data": {
      "text/plain": [
       "'Samsung'"
      ]
     },
     "execution_count": 11,
     "metadata": {},
     "output_type": "execute_result"
    }
   ],
   "source": [
    "retail_inventory.get(\"Electronics\").get(\"Mobile\")[2]"
   ]
  },
  {
   "cell_type": "markdown",
   "id": "b679c975-80c7-4abd-a7ff-bba3c00d031b",
   "metadata": {},
   "source": [
    "#### 4. Check if a key exists in a dictionary"
   ]
  },
  {
   "cell_type": "code",
   "execution_count": 18,
   "id": "aa6695b7-5c8d-4d86-8542-967c8778dc0f",
   "metadata": {},
   "outputs": [
    {
     "name": "stdout",
     "output_type": "stream",
     "text": [
      "yes\n"
     ]
    }
   ],
   "source": [
    "if 'Mobile' in retail_inventory.get('Electronics') :\n",
    "    print('yes')\n",
    "else :\n",
    "    print('no')"
   ]
  },
  {
   "cell_type": "markdown",
   "id": "5ea91926-f13a-4657-a721-f25279412ff2",
   "metadata": {},
   "source": [
    "#### 5. Remove a key and return its value"
   ]
  },
  {
   "cell_type": "code",
   "execution_count": 42,
   "id": "c6bb3322-90e1-45c7-9369-f92401d00991",
   "metadata": {},
   "outputs": [
    {
     "data": {
      "text/plain": [
       "[7000, 10, 'Philips']"
      ]
     },
     "execution_count": 42,
     "metadata": {},
     "output_type": "execute_result"
    }
   ],
   "source": [
    "retail_inventory['Home Appliances'].pop('Vacuum Cleaner')"
   ]
  },
  {
   "cell_type": "code",
   "execution_count": 43,
   "id": "7313b820-a73e-433b-a120-dfc9359e9737",
   "metadata": {},
   "outputs": [
    {
     "data": {
      "text/plain": [
       "{'Electronics': {'Laptop': [55000, 30, 'Dell'],\n",
       "  'Mobile': [25000, 50, 'Samsung'],\n",
       "  'Tablet': [18000, 20, 'Lenovo'],\n",
       "  'Smart Watch': [7999, 40, 'Noise']},\n",
       " 'Apparel': {'T-Shirt': [499, 100, 'H&M'],\n",
       "  'Jeans': [1199, 60, \"Levi's\"],\n",
       "  'Jacket': [2499, 25, 'Puma']},\n",
       " 'Home Appliances': {'Refrigerator': [30000, 8, 'Samsung']}}"
      ]
     },
     "execution_count": 43,
     "metadata": {},
     "output_type": "execute_result"
    }
   ],
   "source": [
    "retail_inventory"
   ]
  },
  {
   "cell_type": "code",
   "execution_count": 44,
   "id": "9e28249f-40fe-475e-a6cf-e32919d61425",
   "metadata": {},
   "outputs": [
    {
     "data": {
      "text/plain": [
       "{'Electronics': {'Laptop': [55000, 30, 'Dell'],\n",
       "  'Mobile': [25000, 50, 'Samsung'],\n",
       "  'Tablet': [18000, 20, 'Lenovo'],\n",
       "  'Smart Watch': [7999, 40, 'Noise']},\n",
       " 'Apparel': {'T-Shirt': [499, 100, 'H&M'],\n",
       "  'Jeans': [1199, 60, \"Levi's\"],\n",
       "  'Jacket': [2499, 25, 'Puma']},\n",
       " 'Home Appliances': {'Microwave': [8500, 15, 'LG'],\n",
       "  'Vacuum Cleaner': [7000, 10, 'Philips'],\n",
       "  'Refrigerator': [30000, 8, 'Samsung']}}"
      ]
     },
     "execution_count": 44,
     "metadata": {},
     "output_type": "execute_result"
    }
   ],
   "source": [
    "retail_inventory = {\n",
    "    \"Electronics\": {\n",
    "        \"Laptop\": [55000, 30, \"Dell\"],\n",
    "        \"Mobile\": [25000, 50, \"Samsung\"],\n",
    "        \"Tablet\": [18000, 20, \"Lenovo\"],\n",
    "        \"Smart Watch\": [7999, 40, \"Noise\"]\n",
    "    },\n",
    "    \"Apparel\": {\n",
    "        \"T-Shirt\": [499, 100, \"H&M\"],\n",
    "        \"Jeans\": [1199, 60, \"Levi's\"],\n",
    "        \"Jacket\": [2499, 25, \"Puma\"]\n",
    "    },\n",
    "    \"Home Appliances\": {\n",
    "        \"Microwave\": [8500, 15, \"LG\"],\n",
    "        \"Vacuum Cleaner\": [7000, 10, \"Philips\"],\n",
    "        \"Refrigerator\": [30000, 8, \"Samsung\"]\n",
    "    }\n",
    "}\n",
    "retail_inventory"
   ]
  },
  {
   "cell_type": "markdown",
   "id": "396c20f7-1f00-4890-990e-12036aeb7485",
   "metadata": {},
   "source": [
    "#### 6. Copy a dictionary"
   ]
  },
  {
   "cell_type": "code",
   "execution_count": 46,
   "id": "50587e9e-29d1-44db-9b16-ac160393cade",
   "metadata": {},
   "outputs": [
    {
     "data": {
      "text/plain": [
       "{'Electronics': {'Laptop': [55000, 30, 'Dell'],\n",
       "  'Mobile': [25000, 50, 'Samsung'],\n",
       "  'Tablet': [18000, 20, 'Lenovo'],\n",
       "  'Smart Watch': [7999, 40, 'Noise']},\n",
       " 'Apparel': {'T-Shirt': [499, 100, 'H&M'],\n",
       "  'Jeans': [1199, 60, \"Levi's\"],\n",
       "  'Jacket': [2499, 25, 'Puma']},\n",
       " 'Home Appliances': {'Microwave': [8500, 15, 'LG'],\n",
       "  'Vacuum Cleaner': [7000, 10, 'Philips'],\n",
       "  'Refrigerator': [30000, 8, 'Samsung']}}"
      ]
     },
     "execution_count": 46,
     "metadata": {},
     "output_type": "execute_result"
    }
   ],
   "source": [
    "retail_inventory_1 = retail_inventory.copy()\n",
    "retail_inventory_1"
   ]
  },
  {
   "cell_type": "markdown",
   "id": "146d18a7-3112-4975-acf7-378e7d0e5d61",
   "metadata": {},
   "source": [
    "#### 7. Remove all key-value pairs from a dictionary"
   ]
  },
  {
   "cell_type": "code",
   "execution_count": 48,
   "id": "4eaeec93-a249-4a28-844b-44ed9b9ef26c",
   "metadata": {},
   "outputs": [
    {
     "data": {
      "text/plain": [
       "{}"
      ]
     },
     "execution_count": 48,
     "metadata": {},
     "output_type": "execute_result"
    }
   ],
   "source": [
    "retail_inventory_1.clear()\n",
    "retail_inventory_1"
   ]
  },
  {
   "cell_type": "markdown",
   "id": "e42b62c6-e9d0-456a-9c3c-4bb815a7595d",
   "metadata": {},
   "source": [
    "#### 8. Add or update a value for a key"
   ]
  },
  {
   "cell_type": "code",
   "execution_count": 51,
   "id": "a4734dc8-762a-454b-91bf-988322dec8c8",
   "metadata": {},
   "outputs": [
    {
     "data": {
      "text/plain": [
       "{'Electronics': {'Laptop': [55000, 30, 'Dell'],\n",
       "  'Mobile': [25000, 50, 'Samsung'],\n",
       "  'Tablet': [18000, 20, 'Lenovo'],\n",
       "  'Smart Watch': [7999, 40, 'Noise']},\n",
       " 'Apparel': {'T-Shirt': [499, 100, 'H&M'],\n",
       "  'Jeans': [1199, 60, \"Levi's\"],\n",
       "  'Jacket': [2499, 25, 'Puma']},\n",
       " 'Home Appliances': {'Microwave': [8500, 15, 'LG'],\n",
       "  'Vacuum Cleaner': [7000, 10, 'Philips'],\n",
       "  'Refrigerator': [30000, 8, 'Samsung']},\n",
       " 'Brands': 'puma'}"
      ]
     },
     "execution_count": 51,
     "metadata": {},
     "output_type": "execute_result"
    }
   ],
   "source": [
    "retail_inventory.update({'Brands':'puma'})\n",
    "retail_inventory"
   ]
  },
  {
   "cell_type": "markdown",
   "id": "bc75ed3b-dbc1-4922-8629-4cdf8e626825",
   "metadata": {},
   "source": [
    "#### 9. Retrieve both keys and values"
   ]
  },
  {
   "cell_type": "code",
   "execution_count": 52,
   "id": "794787cb-d15c-4bb7-a3f5-86fb4a065a9e",
   "metadata": {},
   "outputs": [
    {
     "data": {
      "text/plain": [
       "dict_items([('Electronics', {'Laptop': [55000, 30, 'Dell'], 'Mobile': [25000, 50, 'Samsung'], 'Tablet': [18000, 20, 'Lenovo'], 'Smart Watch': [7999, 40, 'Noise']}), ('Apparel', {'T-Shirt': [499, 100, 'H&M'], 'Jeans': [1199, 60, \"Levi's\"], 'Jacket': [2499, 25, 'Puma']}), ('Home Appliances', {'Microwave': [8500, 15, 'LG'], 'Vacuum Cleaner': [7000, 10, 'Philips'], 'Refrigerator': [30000, 8, 'Samsung']}), ('Brands', 'puma')])"
      ]
     },
     "execution_count": 52,
     "metadata": {},
     "output_type": "execute_result"
    }
   ],
   "source": [
    "retail_inventory.items()"
   ]
  },
  {
   "cell_type": "markdown",
   "id": "19e713cd-06d5-4398-84cc-039bb7fba8a8",
   "metadata": {},
   "source": [
    "#### 10. Create an empty dictionary"
   ]
  },
  {
   "cell_type": "code",
   "execution_count": 55,
   "id": "99e64aa6-d440-47ed-86e1-6db0f5d9a812",
   "metadata": {},
   "outputs": [
    {
     "data": {
      "text/plain": [
       "{}"
      ]
     },
     "execution_count": 55,
     "metadata": {},
     "output_type": "execute_result"
    }
   ],
   "source": [
    "retail_inventory_1={}\n",
    "retail_inventory_1"
   ]
  },
  {
   "cell_type": "markdown",
   "id": "448ef5d8-4e8e-4fe6-91b3-666954edcd9e",
   "metadata": {},
   "source": [
    "## LEVEL 2"
   ]
  },
  {
   "cell_type": "markdown",
   "id": "dbfc5447-eb78-4e8e-bf81-ebff82ef744f",
   "metadata": {},
   "source": [
    "#### 1. Assign a default value to a missing key"
   ]
  },
  {
   "cell_type": "code",
   "execution_count": 59,
   "id": "3ef5058f-8948-4015-96e1-d009f2c02810",
   "metadata": {},
   "outputs": [],
   "source": [
    "retail_inventory_1 = {\n",
    "    \"Electronics\": {\n",
    "        \"Laptop\": [55000, 30, \"Dell\"],\n",
    "        \"Mobile\": [25000, 50, \"Samsung\"],\n",
    "        \"Tablet\": [],\n",
    "        \"Smart Watch\": [7999, 40, \"Noise\"]\n",
    "    },\n",
    "    \"Apparel\": {\n",
    "        \"T-Shirt\": [499, 100, \"H&M\"],\n",
    "        \"Jeans\": [1199, 60, \"Levi's\"],\n",
    "        \"Jacket\": [2499, 25, \"Puma\"]\n",
    "    },\n",
    "    \"Home Appliances\": {\n",
    "        \"Microwave\": [8500, 15, \"LG\"],\n",
    "        \"Vacuum Cleaner\": [7000, 10, \"Philips\"],\n",
    "        \"Refrigerator\": [30000, 8, \"Samsung\"]\n",
    "    }\n",
    "}"
   ]
  },
  {
   "cell_type": "code",
   "execution_count": 60,
   "id": "4554e670-4e41-4f5b-9a77-66743db8f84a",
   "metadata": {},
   "outputs": [
    {
     "data": {
      "text/plain": [
       "{'Electronics': {'Laptop': [55000, 30, 'Dell'],\n",
       "  'Mobile': [25000, 50, 'Samsung'],\n",
       "  'Tablet': [],\n",
       "  'Smart Watch': [7999, 40, 'Noise']},\n",
       " 'Apparel': {'T-Shirt': [499, 100, 'H&M'],\n",
       "  'Jeans': [1199, 60, \"Levi's\"],\n",
       "  'Jacket': [2499, 25, 'Puma']},\n",
       " 'Home Appliances': {'Microwave': [8500, 15, 'LG'],\n",
       "  'Vacuum Cleaner': [7000, 10, 'Philips'],\n",
       "  'Refrigerator': [30000, 8, 'Samsung']}}"
      ]
     },
     "execution_count": 60,
     "metadata": {},
     "output_type": "execute_result"
    }
   ],
   "source": [
    "retail_inventory_1"
   ]
  },
  {
   "cell_type": "code",
   "execution_count": 66,
   "id": "d0bdf7e8-82c4-479b-94eb-afd23b643f42",
   "metadata": {},
   "outputs": [
    {
     "data": {
      "text/plain": [
       "[55000, 60, 'Acer']"
      ]
     },
     "execution_count": 66,
     "metadata": {},
     "output_type": "execute_result"
    }
   ],
   "source": [
    "retail_inventory_1['Electronics'].setdefault('Lappy',[55000,60,'Acer'])"
   ]
  },
  {
   "cell_type": "code",
   "execution_count": 67,
   "id": "a32b310d-e918-4000-85a6-c0cad3db98de",
   "metadata": {},
   "outputs": [
    {
     "data": {
      "text/plain": [
       "{'Electronics': {'Laptop': [55000, 30, 'Dell'],\n",
       "  'Mobile': [25000, 50, 'Samsung'],\n",
       "  'Tablet': [],\n",
       "  'Smart Watch': [7999, 40, 'Noise'],\n",
       "  'Lappy': [55000, 60, 'Acer']},\n",
       " 'Apparel': {'T-Shirt': [499, 100, 'H&M'],\n",
       "  'Jeans': [1199, 60, \"Levi's\"],\n",
       "  'Jacket': [2499, 25, 'Puma']},\n",
       " 'Home Appliances': {'Microwave': [8500, 15, 'LG'],\n",
       "  'Vacuum Cleaner': [7000, 10, 'Philips'],\n",
       "  'Refrigerator': [30000, 8, 'Samsung']}}"
      ]
     },
     "execution_count": 67,
     "metadata": {},
     "output_type": "execute_result"
    }
   ],
   "source": [
    "retail_inventory_1"
   ]
  },
  {
   "cell_type": "markdown",
   "id": "141f83ce-eebc-4663-b248-b4812646185e",
   "metadata": {},
   "source": [
    "#### 2. Merge two dictionaries."
   ]
  },
  {
   "cell_type": "code",
   "execution_count": 68,
   "id": "b0546163-b233-4caf-a6ad-213633999c37",
   "metadata": {},
   "outputs": [
    {
     "data": {
      "text/plain": [
       "{'Electronics': {'Laptop': [55000, 30, 'Dell'],\n",
       "  'Mobile': [25000, 50, 'Samsung'],\n",
       "  'Tablet': [18000, 20, 'Lenovo'],\n",
       "  'Smart Watch': [7999, 40, 'Noise']},\n",
       " 'Apparel': {'T-Shirt': [499, 100, 'H&M'],\n",
       "  'Jeans': [1199, 60, \"Levi's\"],\n",
       "  'Jacket': [2499, 25, 'Puma']},\n",
       " 'Home Appliances': {'Microwave': [8500, 15, 'LG'],\n",
       "  'Vacuum Cleaner': [7000, 10, 'Philips'],\n",
       "  'Refrigerator': [30000, 8, 'Samsung']},\n",
       " 'Brands': 'puma'}"
      ]
     },
     "execution_count": 68,
     "metadata": {},
     "output_type": "execute_result"
    }
   ],
   "source": [
    "retail_inventory"
   ]
  },
  {
   "cell_type": "code",
   "execution_count": 69,
   "id": "b3ff2a7b-7fa8-4a1c-99fa-5439ca4a429f",
   "metadata": {},
   "outputs": [
    {
     "data": {
      "text/plain": [
       "{'Electronics': {'Laptop': [55000, 30, 'Dell'],\n",
       "  'Mobile': [25000, 50, 'Samsung'],\n",
       "  'Tablet': [],\n",
       "  'Smart Watch': [7999, 40, 'Noise'],\n",
       "  'Lappy': [55000, 60, 'Acer']},\n",
       " 'Apparel': {'T-Shirt': [499, 100, 'H&M'],\n",
       "  'Jeans': [1199, 60, \"Levi's\"],\n",
       "  'Jacket': [2499, 25, 'Puma']},\n",
       " 'Home Appliances': {'Microwave': [8500, 15, 'LG'],\n",
       "  'Vacuum Cleaner': [7000, 10, 'Philips'],\n",
       "  'Refrigerator': [30000, 8, 'Samsung']}}"
      ]
     },
     "execution_count": 69,
     "metadata": {},
     "output_type": "execute_result"
    }
   ],
   "source": [
    "retail_inventory_1"
   ]
  },
  {
   "cell_type": "code",
   "execution_count": 70,
   "id": "f4bbea8c-1458-4a82-a8c8-a8b0c8e7a89a",
   "metadata": {},
   "outputs": [],
   "source": [
    "retail_inventory.update(retail_inventory_1)"
   ]
  },
  {
   "cell_type": "code",
   "execution_count": 71,
   "id": "9a95e8e9-63a2-4d58-8112-0681928c33c6",
   "metadata": {},
   "outputs": [
    {
     "data": {
      "text/plain": [
       "{'Electronics': {'Laptop': [55000, 30, 'Dell'],\n",
       "  'Mobile': [25000, 50, 'Samsung'],\n",
       "  'Tablet': [],\n",
       "  'Smart Watch': [7999, 40, 'Noise'],\n",
       "  'Lappy': [55000, 60, 'Acer']},\n",
       " 'Apparel': {'T-Shirt': [499, 100, 'H&M'],\n",
       "  'Jeans': [1199, 60, \"Levi's\"],\n",
       "  'Jacket': [2499, 25, 'Puma']},\n",
       " 'Home Appliances': {'Microwave': [8500, 15, 'LG'],\n",
       "  'Vacuum Cleaner': [7000, 10, 'Philips'],\n",
       "  'Refrigerator': [30000, 8, 'Samsung']},\n",
       " 'Brands': 'puma'}"
      ]
     },
     "execution_count": 71,
     "metadata": {},
     "output_type": "execute_result"
    }
   ],
   "source": [
    "retail_inventory"
   ]
  },
  {
   "cell_type": "markdown",
   "id": "89af744a-b554-4d05-a52c-94366f8d56ad",
   "metadata": {},
   "source": [
    "#### 3. Use .get() with a default return value if key is not found."
   ]
  },
  {
   "cell_type": "code",
   "execution_count": 73,
   "id": "aa6b1e79-6bfe-494c-8fd9-659e5dc7e18a",
   "metadata": {},
   "outputs": [
    {
     "data": {
      "text/plain": [
       "[45000, 60, 'oppo']"
      ]
     },
     "execution_count": 73,
     "metadata": {},
     "output_type": "execute_result"
    }
   ],
   "source": [
    "retail_inventory['Electronics'].get('Phone',[45000,60,'oppo'])"
   ]
  },
  {
   "cell_type": "code",
   "execution_count": 74,
   "id": "084e13e2-9835-4ff8-8cf2-69f00762f700",
   "metadata": {},
   "outputs": [
    {
     "data": {
      "text/plain": [
       "{'Electronics': {'Laptop': [55000, 30, 'Dell'],\n",
       "  'Mobile': [25000, 50, 'Samsung'],\n",
       "  'Tablet': [],\n",
       "  'Smart Watch': [7999, 40, 'Noise'],\n",
       "  'Lappy': [55000, 60, 'Acer']},\n",
       " 'Apparel': {'T-Shirt': [499, 100, 'H&M'],\n",
       "  'Jeans': [1199, 60, \"Levi's\"],\n",
       "  'Jacket': [2499, 25, 'Puma']},\n",
       " 'Home Appliances': {'Microwave': [8500, 15, 'LG'],\n",
       "  'Vacuum Cleaner': [7000, 10, 'Philips'],\n",
       "  'Refrigerator': [30000, 8, 'Samsung']},\n",
       " 'Brands': 'puma'}"
      ]
     },
     "execution_count": 74,
     "metadata": {},
     "output_type": "execute_result"
    }
   ],
   "source": [
    "retail_inventory"
   ]
  },
  {
   "cell_type": "markdown",
   "id": "430fc936-af05-4c23-91b9-234646186b87",
   "metadata": {},
   "source": [
    "#### 4.  Difference between .pop() and .popitem()"
   ]
  },
  {
   "cell_type": "code",
   "execution_count": 75,
   "id": "a2106430-7cba-44ef-8285-46526a25919a",
   "metadata": {},
   "outputs": [
    {
     "data": {
      "text/plain": [
       "[55000, 60, 'Acer']"
      ]
     },
     "execution_count": 75,
     "metadata": {},
     "output_type": "execute_result"
    }
   ],
   "source": [
    "retail_inventory['Electronics'].pop('Lappy')"
   ]
  },
  {
   "cell_type": "code",
   "execution_count": 76,
   "id": "6b977ad6-ce98-4686-b29e-b3677fb77856",
   "metadata": {},
   "outputs": [
    {
     "data": {
      "text/plain": [
       "('Smart Watch', [7999, 40, 'Noise'])"
      ]
     },
     "execution_count": 76,
     "metadata": {},
     "output_type": "execute_result"
    }
   ],
   "source": [
    "retail_inventory['Electronics'].popitem()"
   ]
  },
  {
   "cell_type": "markdown",
   "id": "ad8971d2-a83d-46b4-ac37-c048a5c9778a",
   "metadata": {},
   "source": [
    "#### 5. Remove a key from a dictionary"
   ]
  },
  {
   "cell_type": "code",
   "execution_count": 77,
   "id": "feb31c84-67e4-4c0b-9ae9-b9bbc66538e3",
   "metadata": {},
   "outputs": [
    {
     "data": {
      "text/plain": [
       "{'Electronics': {'Laptop': [55000, 30, 'Dell'],\n",
       "  'Mobile': [25000, 50, 'Samsung'],\n",
       "  'Tablet': []},\n",
       " 'Apparel': {'T-Shirt': [499, 100, 'H&M'],\n",
       "  'Jeans': [1199, 60, \"Levi's\"],\n",
       "  'Jacket': [2499, 25, 'Puma']},\n",
       " 'Home Appliances': {'Microwave': [8500, 15, 'LG'],\n",
       "  'Vacuum Cleaner': [7000, 10, 'Philips'],\n",
       "  'Refrigerator': [30000, 8, 'Samsung']},\n",
       " 'Brands': 'puma'}"
      ]
     },
     "execution_count": 77,
     "metadata": {},
     "output_type": "execute_result"
    }
   ],
   "source": [
    "retail_inventory\n"
   ]
  },
  {
   "cell_type": "code",
   "execution_count": 78,
   "id": "754f237a-aee8-458b-af8e-331a98d7d79a",
   "metadata": {},
   "outputs": [],
   "source": [
    "del retail_inventory['Apparel']['Jeans']"
   ]
  },
  {
   "cell_type": "code",
   "execution_count": 79,
   "id": "b1870ba2-41eb-46e0-918b-60ec2b3be35d",
   "metadata": {},
   "outputs": [
    {
     "data": {
      "text/plain": [
       "{'Electronics': {'Laptop': [55000, 30, 'Dell'],\n",
       "  'Mobile': [25000, 50, 'Samsung'],\n",
       "  'Tablet': []},\n",
       " 'Apparel': {'T-Shirt': [499, 100, 'H&M'], 'Jacket': [2499, 25, 'Puma']},\n",
       " 'Home Appliances': {'Microwave': [8500, 15, 'LG'],\n",
       "  'Vacuum Cleaner': [7000, 10, 'Philips'],\n",
       "  'Refrigerator': [30000, 8, 'Samsung']},\n",
       " 'Brands': 'puma'}"
      ]
     },
     "execution_count": 79,
     "metadata": {},
     "output_type": "execute_result"
    }
   ],
   "source": [
    "retail_inventory"
   ]
  },
  {
   "cell_type": "markdown",
   "id": "12910445-0e0e-46c8-817e-7fbe0ebff2b5",
   "metadata": {},
   "source": [
    "#### 6. Get the number of keys in a dictionary"
   ]
  },
  {
   "cell_type": "code",
   "execution_count": 81,
   "id": "af531649-c987-4e58-b3eb-3314b1c2608f",
   "metadata": {},
   "outputs": [
    {
     "data": {
      "text/plain": [
       "3"
      ]
     },
     "execution_count": 81,
     "metadata": {},
     "output_type": "execute_result"
    }
   ],
   "source": [
    "len(retail_inventory['Apparel']['T-Shirt'])"
   ]
  },
  {
   "cell_type": "markdown",
   "id": "fed0669c-5049-4efa-a5e6-cceb920862bc",
   "metadata": {},
   "source": [
    "#### 7. Converting a list of tuples into a dictionary"
   ]
  },
  {
   "cell_type": "code",
   "execution_count": 82,
   "id": "9f89e445-5b00-477d-aa27-96cf87704b76",
   "metadata": {},
   "outputs": [],
   "source": [
    "tuple1 = [('Apple','Red'),('Mango','Yellow'),('Grapes','Green')]"
   ]
  },
  {
   "cell_type": "code",
   "execution_count": 83,
   "id": "156eac7d-b070-48ac-9184-f29e2c72fe3c",
   "metadata": {},
   "outputs": [
    {
     "data": {
      "text/plain": [
       "[('Apple', 'Red'), ('Mango', 'Yellow'), ('Grapes', 'Green')]"
      ]
     },
     "execution_count": 83,
     "metadata": {},
     "output_type": "execute_result"
    }
   ],
   "source": [
    "tuple1"
   ]
  },
  {
   "cell_type": "code",
   "execution_count": 84,
   "id": "2589c906-2018-4311-ab53-1b3625173281",
   "metadata": {},
   "outputs": [
    {
     "data": {
      "text/plain": [
       "{'Apple': 'Red', 'Mango': 'Yellow', 'Grapes': 'Green'}"
      ]
     },
     "execution_count": 84,
     "metadata": {},
     "output_type": "execute_result"
    }
   ],
   "source": [
    "dict(tuple1)"
   ]
  },
  {
   "cell_type": "markdown",
   "id": "18cbeaf5-6f8d-4030-9a92-f7ce5ce5843a",
   "metadata": {},
   "source": [
    "#### 8. Creating a dictionary from two lists: one of keys and one of values"
   ]
  },
  {
   "cell_type": "code",
   "execution_count": 85,
   "id": "c4187b57-68b1-4842-bd34-73876c806454",
   "metadata": {},
   "outputs": [],
   "source": [
    "list1 = ['Name','Age','Course','Batch']\n",
    "list2 = ['cherry',22,'DS','March']"
   ]
  },
  {
   "cell_type": "code",
   "execution_count": 86,
   "id": "833c7ddb-7c22-49e2-8aaf-45b7f434caad",
   "metadata": {},
   "outputs": [
    {
     "data": {
      "text/plain": [
       "{'Name': 'cherry', 'Age': 22, 'Course': 'DS', 'Batch': 'March'}"
      ]
     },
     "execution_count": 86,
     "metadata": {},
     "output_type": "execute_result"
    }
   ],
   "source": [
    "dict(zip(list1,list2))"
   ]
  },
  {
   "cell_type": "markdown",
   "id": "b97197b4-e465-463e-94ab-51efd8bb4ddb",
   "metadata": {},
   "source": [
    "#### 9. Checking if two dictionaries have the same keys"
   ]
  },
  {
   "cell_type": "code",
   "execution_count": 87,
   "id": "446ad733-dc27-4db0-900f-f280cfc5ba75",
   "metadata": {},
   "outputs": [],
   "source": [
    "dict1 = {'Name' : 'cherry','Age':22,'Course':'DS','Batch':'March'}"
   ]
  },
  {
   "cell_type": "code",
   "execution_count": 88,
   "id": "14f4f240-1410-4614-9542-b7eee107e1d4",
   "metadata": {},
   "outputs": [
    {
     "data": {
      "text/plain": [
       "{'Name': 'cherry', 'Age': 22, 'Course': 'DS', 'Batch': 'March'}"
      ]
     },
     "execution_count": 88,
     "metadata": {},
     "output_type": "execute_result"
    }
   ],
   "source": [
    "dict1"
   ]
  },
  {
   "cell_type": "code",
   "execution_count": 89,
   "id": "37bb7e41-598f-4ce1-a408-13338df3aa37",
   "metadata": {},
   "outputs": [
    {
     "data": {
      "text/plain": [
       "{'FName': 'Narra', 'Age': 22, 'Course': 'DS', 'Batch': 'March'}"
      ]
     },
     "execution_count": 89,
     "metadata": {},
     "output_type": "execute_result"
    }
   ],
   "source": [
    "dict2 = {'FName' : 'Narra','Age':22,'Course':'DS','Batch':'March'}\n",
    "dict2"
   ]
  },
  {
   "cell_type": "code",
   "execution_count": 92,
   "id": "502fc935-63f4-489f-93ce-ec5fe4c8f16f",
   "metadata": {},
   "outputs": [
    {
     "name": "stdout",
     "output_type": "stream",
     "text": [
      "No\n"
     ]
    }
   ],
   "source": [
    "if dict1.keys() == dict2.keys() :\n",
    "    print('Yes')\n",
    "else :\n",
    "    print('No')"
   ]
  },
  {
   "cell_type": "markdown",
   "id": "c6f3f7b3-959c-4b47-b3e5-ac753aaf28aa",
   "metadata": {},
   "source": [
    "#### 10. Checking if a dictionary is empty"
   ]
  },
  {
   "cell_type": "code",
   "execution_count": 93,
   "id": "68fd9753-92bf-4662-a4e3-644dbabbba4b",
   "metadata": {},
   "outputs": [
    {
     "data": {
      "text/plain": [
       "{'Name': 'cherry', 'Age': 22, 'Course': 'DS', 'Batch': 'March'}"
      ]
     },
     "execution_count": 93,
     "metadata": {},
     "output_type": "execute_result"
    }
   ],
   "source": [
    "dict1"
   ]
  },
  {
   "cell_type": "code",
   "execution_count": 94,
   "id": "af139fd8-e7c5-460a-88ba-71ef974fcfcd",
   "metadata": {},
   "outputs": [
    {
     "name": "stdout",
     "output_type": "stream",
     "text": [
      "Not Empty\n"
     ]
    }
   ],
   "source": [
    "if len(dict1) ==0 :\n",
    "    print(\"Empty\")\n",
    "else :\n",
    "    print(\"Not Empty\")"
   ]
  },
  {
   "cell_type": "code",
   "execution_count": 95,
   "id": "3f73dc6c-5b67-497e-ae5c-1d45cb224a4b",
   "metadata": {},
   "outputs": [],
   "source": [
    "dict1.clear()"
   ]
  },
  {
   "cell_type": "code",
   "execution_count": 96,
   "id": "58e80326-ee00-4c49-af10-c1b382e21a0f",
   "metadata": {},
   "outputs": [
    {
     "name": "stdout",
     "output_type": "stream",
     "text": [
      "Empty\n"
     ]
    }
   ],
   "source": [
    "if len(dict1) ==0 :\n",
    "    print(\"Empty\")\n",
    "else :\n",
    "    print(\"Not Empty\")"
   ]
  }
 ],
 "metadata": {
  "kernelspec": {
   "display_name": "Python 3 (ipykernel)",
   "language": "python",
   "name": "python3"
  },
  "language_info": {
   "codemirror_mode": {
    "name": "ipython",
    "version": 3
   },
   "file_extension": ".py",
   "mimetype": "text/x-python",
   "name": "python",
   "nbconvert_exporter": "python",
   "pygments_lexer": "ipython3",
   "version": "3.13.2"
  }
 },
 "nbformat": 4,
 "nbformat_minor": 5
}
