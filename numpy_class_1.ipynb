{
 "cells": [
  {
   "cell_type": "code",
   "execution_count": 2,
   "id": "3a4a58f9-f971-4b08-a86d-cfa2153b3e52",
   "metadata": {},
   "outputs": [],
   "source": [
    "import numpy as np"
   ]
  },
  {
   "cell_type": "code",
   "execution_count": 4,
   "id": "a3736f1a-324a-491f-ac2d-a80dab162e5a",
   "metadata": {},
   "outputs": [],
   "source": [
    "x=[1,2,3]"
   ]
  },
  {
   "cell_type": "code",
   "execution_count": 5,
   "id": "cf835746-43d0-4097-a0ce-e40b73ba1677",
   "metadata": {},
   "outputs": [],
   "source": [
    "y=np.array(x)"
   ]
  },
  {
   "cell_type": "code",
   "execution_count": 6,
   "id": "2beb1724-0169-415b-83a8-0904bd7825da",
   "metadata": {},
   "outputs": [
    {
     "data": {
      "text/plain": [
       "array([1, 2, 3])"
      ]
     },
     "execution_count": 6,
     "metadata": {},
     "output_type": "execute_result"
    }
   ],
   "source": [
    "y"
   ]
  },
  {
   "cell_type": "code",
   "execution_count": 201,
   "id": "fce2c1bd-f5a2-4767-b343-539bf7ed754d",
   "metadata": {},
   "outputs": [
    {
     "data": {
      "text/plain": [
       "numpy.ndarray"
      ]
     },
     "execution_count": 201,
     "metadata": {},
     "output_type": "execute_result"
    }
   ],
   "source": [
    "type(y)"
   ]
  },
  {
   "cell_type": "code",
   "execution_count": 10,
   "id": "a4e0bb25-4f33-4fd7-bd19-acd8f06bfebe",
   "metadata": {},
   "outputs": [
    {
     "ename": "TypeError",
     "evalue": "unsupported operand type(s) for /: 'list' and 'int'",
     "output_type": "error",
     "traceback": [
      "\u001b[31m---------------------------------------------------------------------------\u001b[39m",
      "\u001b[31mTypeError\u001b[39m                                 Traceback (most recent call last)",
      "\u001b[36mCell\u001b[39m\u001b[36m \u001b[39m\u001b[32mIn[10]\u001b[39m\u001b[32m, line 1\u001b[39m\n\u001b[32m----> \u001b[39m\u001b[32m1\u001b[39m \u001b[43mx\u001b[49m\u001b[43m/\u001b[49m\u001b[32;43m2\u001b[39;49m\n",
      "\u001b[31mTypeError\u001b[39m: unsupported operand type(s) for /: 'list' and 'int'"
     ]
    }
   ],
   "source": [
    "x/2"
   ]
  },
  {
   "cell_type": "code",
   "execution_count": 11,
   "id": "0d9520c8-b0e9-44e4-a6cd-29e3628e6c67",
   "metadata": {},
   "outputs": [
    {
     "data": {
      "text/plain": [
       "array([0.5, 1. , 1.5])"
      ]
     },
     "execution_count": 11,
     "metadata": {},
     "output_type": "execute_result"
    }
   ],
   "source": [
    "y/2"
   ]
  },
  {
   "cell_type": "code",
   "execution_count": 12,
   "id": "bc207bd9-cde6-426b-a71a-5e5ac4633d2e",
   "metadata": {},
   "outputs": [
    {
     "data": {
      "text/plain": [
       "[1.5, 2.5, 3.5, 4.4, 5.5]"
      ]
     },
     "execution_count": 12,
     "metadata": {},
     "output_type": "execute_result"
    }
   ],
   "source": [
    "x = [1.5,2.5,3.5,4.4,5.5]\n",
    "x"
   ]
  },
  {
   "cell_type": "code",
   "execution_count": 13,
   "id": "95c666d6-5a30-43f5-a478-ca86eb7f7a7b",
   "metadata": {},
   "outputs": [
    {
     "data": {
      "text/plain": [
       "array([1.5, 2.5, 3.5, 4.4, 5.5])"
      ]
     },
     "execution_count": 13,
     "metadata": {},
     "output_type": "execute_result"
    }
   ],
   "source": [
    "y = np.array(x)\n",
    "y"
   ]
  },
  {
   "cell_type": "markdown",
   "id": "671aff80-bc4c-4291-aec1-85cc0daa578e",
   "metadata": {},
   "source": [
    "#### 2D array"
   ]
  },
  {
   "cell_type": "code",
   "execution_count": 15,
   "id": "3ff3da75-6738-4b17-9229-f94b4136fa3e",
   "metadata": {},
   "outputs": [
    {
     "data": {
      "text/plain": [
       "[[1, 2], [3, 4]]"
      ]
     },
     "execution_count": 15,
     "metadata": {},
     "output_type": "execute_result"
    }
   ],
   "source": [
    "x = [ [1,2],[3,4] ]\n",
    "x"
   ]
  },
  {
   "cell_type": "code",
   "execution_count": 16,
   "id": "343539a8-0d41-4695-8192-924ec9197dea",
   "metadata": {
    "scrolled": true
   },
   "outputs": [
    {
     "data": {
      "text/plain": [
       "array([[1, 2],\n",
       "       [3, 4]])"
      ]
     },
     "execution_count": 16,
     "metadata": {},
     "output_type": "execute_result"
    }
   ],
   "source": [
    "y = np.array(x)\n",
    "y"
   ]
  },
  {
   "cell_type": "code",
   "execution_count": 34,
   "id": "3b19ca63-7e00-4c4d-8097-bdd5a95be483",
   "metadata": {},
   "outputs": [],
   "source": [
    "x = np.array([1,2,3,4])\n",
    "y = np.array([[1,2],[2,3]])"
   ]
  },
  {
   "cell_type": "code",
   "execution_count": 35,
   "id": "282cd833-6d6a-484d-8d29-fa3552fe3c4e",
   "metadata": {},
   "outputs": [
    {
     "data": {
      "text/plain": [
       "array([1, 2, 3, 4])"
      ]
     },
     "execution_count": 35,
     "metadata": {},
     "output_type": "execute_result"
    }
   ],
   "source": [
    "x"
   ]
  },
  {
   "cell_type": "code",
   "execution_count": 36,
   "id": "10f2c004-20b0-4493-bff0-27fd2be206c2",
   "metadata": {},
   "outputs": [
    {
     "data": {
      "text/plain": [
       "array([[1, 2],\n",
       "       [2, 3]])"
      ]
     },
     "execution_count": 36,
     "metadata": {},
     "output_type": "execute_result"
    }
   ],
   "source": [
    "y"
   ]
  },
  {
   "cell_type": "markdown",
   "id": "48277480-dce3-47a0-bbaa-28552604fc78",
   "metadata": {},
   "source": [
    "#### Array Functions"
   ]
  },
  {
   "cell_type": "code",
   "execution_count": 37,
   "id": "dfde59b0-f32e-4dab-a43e-6a7d3efd2124",
   "metadata": {},
   "outputs": [
    {
     "name": "stdout",
     "output_type": "stream",
     "text": [
      "class:  ndarray\n",
      "shape:  (4,)\n",
      "strides:  (8,)\n",
      "itemsize:  8\n",
      "aligned:  True\n",
      "contiguous:  True\n",
      "fortran:  True\n",
      "data pointer: 0x278b35d1e30\n",
      "byteorder:  little\n",
      "byteswap:  False\n",
      "type: int64\n"
     ]
    }
   ],
   "source": [
    "np.info(x)"
   ]
  },
  {
   "cell_type": "code",
   "execution_count": 38,
   "id": "fcff16fd-08da-429c-ac7f-966aa2617d3b",
   "metadata": {},
   "outputs": [
    {
     "name": "stdout",
     "output_type": "stream",
     "text": [
      "class:  ndarray\n",
      "shape:  (2, 2)\n",
      "strides:  (16, 8)\n",
      "itemsize:  8\n",
      "aligned:  True\n",
      "contiguous:  True\n",
      "fortran:  False\n",
      "data pointer: 0x278b35d13b0\n",
      "byteorder:  little\n",
      "byteswap:  False\n",
      "type: int64\n"
     ]
    }
   ],
   "source": [
    "np.info(y)"
   ]
  },
  {
   "cell_type": "code",
   "execution_count": 27,
   "id": "ea3a2cc9-9fa2-4396-926e-0f33e1e6fa73",
   "metadata": {},
   "outputs": [
    {
     "data": {
      "text/plain": [
       "(dtype('int64'), dtype('int64'))"
      ]
     },
     "execution_count": 27,
     "metadata": {},
     "output_type": "execute_result"
    }
   ],
   "source": [
    "x.dtype,y.dtype"
   ]
  },
  {
   "cell_type": "code",
   "execution_count": 39,
   "id": "35da8c59-899a-4e9d-9ae0-033cea479b5b",
   "metadata": {},
   "outputs": [
    {
     "data": {
      "text/plain": [
       "4"
      ]
     },
     "execution_count": 39,
     "metadata": {},
     "output_type": "execute_result"
    }
   ],
   "source": [
    "len(x)"
   ]
  },
  {
   "cell_type": "code",
   "execution_count": 40,
   "id": "b83e1edb-1d46-4153-825e-20b3a3216c05",
   "metadata": {},
   "outputs": [
    {
     "data": {
      "text/plain": [
       "2"
      ]
     },
     "execution_count": 40,
     "metadata": {},
     "output_type": "execute_result"
    }
   ],
   "source": [
    "len(y)"
   ]
  },
  {
   "cell_type": "code",
   "execution_count": 41,
   "id": "26eca85e-33dd-4098-9e0e-4cf37e5b0938",
   "metadata": {},
   "outputs": [
    {
     "data": {
      "text/plain": [
       "1"
      ]
     },
     "execution_count": 41,
     "metadata": {},
     "output_type": "execute_result"
    }
   ],
   "source": [
    "x.ndim"
   ]
  },
  {
   "cell_type": "code",
   "execution_count": 42,
   "id": "f597447d-f09f-458b-9eaf-a440dd719c17",
   "metadata": {},
   "outputs": [
    {
     "data": {
      "text/plain": [
       "2"
      ]
     },
     "execution_count": 42,
     "metadata": {},
     "output_type": "execute_result"
    }
   ],
   "source": [
    "y.ndim"
   ]
  },
  {
   "cell_type": "code",
   "execution_count": 43,
   "id": "e7d18bbc-5067-4bfb-8ad7-b763b74822bf",
   "metadata": {},
   "outputs": [
    {
     "data": {
      "text/plain": [
       "8"
      ]
     },
     "execution_count": 43,
     "metadata": {},
     "output_type": "execute_result"
    }
   ],
   "source": [
    "x.itemsize"
   ]
  },
  {
   "cell_type": "code",
   "execution_count": 44,
   "id": "321da41d-ef5c-42ab-94a4-d8dfa1efb0c6",
   "metadata": {},
   "outputs": [
    {
     "data": {
      "text/plain": [
       "8"
      ]
     },
     "execution_count": 44,
     "metadata": {},
     "output_type": "execute_result"
    }
   ],
   "source": [
    "y.itemsize"
   ]
  },
  {
   "cell_type": "markdown",
   "id": "47056a92-9933-4508-9f58-2913ea441325",
   "metadata": {},
   "source": [
    "### Data Creation Functions"
   ]
  },
  {
   "cell_type": "code",
   "execution_count": 45,
   "id": "141674a6-f2ed-4e1f-a0ea-242a363230af",
   "metadata": {},
   "outputs": [
    {
     "data": {
      "text/plain": [
       "array([0, 2, 4, 6, 8])"
      ]
     },
     "execution_count": 45,
     "metadata": {},
     "output_type": "execute_result"
    }
   ],
   "source": [
    "np.arange(0,10,2)"
   ]
  },
  {
   "cell_type": "code",
   "execution_count": 46,
   "id": "06b10279-fc2c-4549-81cc-92c1af6d3307",
   "metadata": {},
   "outputs": [
    {
     "data": {
      "text/plain": [
       "array([10,  8,  6,  4,  2])"
      ]
     },
     "execution_count": 46,
     "metadata": {},
     "output_type": "execute_result"
    }
   ],
   "source": [
    "np.arange(10,0,-2)"
   ]
  },
  {
   "cell_type": "code",
   "execution_count": 54,
   "id": "f6691f23-0e5f-47b5-abe8-1384854efee7",
   "metadata": {},
   "outputs": [
    {
     "data": {
      "text/plain": [
       "8"
      ]
     },
     "execution_count": 54,
     "metadata": {},
     "output_type": "execute_result"
    }
   ],
   "source": [
    "np.random.randint(10)"
   ]
  },
  {
   "cell_type": "code",
   "execution_count": 56,
   "id": "cd938e21-4ae6-4c09-ad66-49dba326989f",
   "metadata": {},
   "outputs": [
    {
     "data": {
      "text/plain": [
       "array([99, 49, 47, 89, 24, 74, 23, 60, 69, 21, 80, 13, 65, 48, 69, 40, 75,\n",
       "       12, 46, 83, 54, 97, 21, 31, 65, 24, 80, 81, 66, 70, 77, 60, 67, 24,\n",
       "       10, 63, 43, 95, 66, 87, 16, 80, 71, 89, 37, 93, 21, 21, 46, 34, 60,\n",
       "       53, 93, 66, 54, 87, 47, 75, 62, 26, 77, 55, 69, 47, 55, 62, 20, 92,\n",
       "       94, 79, 31, 92, 99, 74, 70, 84, 90, 56, 87, 19, 74, 13, 72, 15, 65,\n",
       "       74, 50, 60, 81, 29, 88, 76, 56, 57, 49, 85, 78, 85, 83, 66],\n",
       "      dtype=int32)"
      ]
     },
     "execution_count": 56,
     "metadata": {},
     "output_type": "execute_result"
    }
   ],
   "source": [
    "np.random.randint(10,100,100)"
   ]
  },
  {
   "cell_type": "code",
   "execution_count": 64,
   "id": "b0b79a00-e745-4d68-a332-61ceb09d21ed",
   "metadata": {},
   "outputs": [
    {
     "data": {
      "text/plain": [
       "array([0.18057018, 0.98703694, 0.49153797, 0.34896391, 0.70414715,\n",
       "       0.93553782, 0.3038561 , 0.54025487, 0.90687388, 0.4586773 ])"
      ]
     },
     "execution_count": 64,
     "metadata": {},
     "output_type": "execute_result"
    }
   ],
   "source": [
    "np.random.rand(10)"
   ]
  },
  {
   "cell_type": "markdown",
   "id": "6fd672b1-379c-40b8-ac9a-861c2342b848",
   "metadata": {},
   "source": [
    "##### normal distribution of data"
   ]
  },
  {
   "cell_type": "code",
   "execution_count": 70,
   "id": "f8029c99-1173-4d38-b3eb-846c46af9286",
   "metadata": {},
   "outputs": [
    {
     "data": {
      "text/plain": [
       "array([ 1.07281439, -0.07108757, -0.94546524,  0.2223129 , -0.46319676,\n",
       "       -0.49451179,  0.02769882,  0.21521511, -1.00782815, -1.17374873])"
      ]
     },
     "execution_count": 70,
     "metadata": {},
     "output_type": "execute_result"
    }
   ],
   "source": [
    "np.random.randn(10)"
   ]
  },
  {
   "cell_type": "code",
   "execution_count": 76,
   "id": "9c7a1bed-d81e-4fb5-a727-ba572d41fc52",
   "metadata": {},
   "outputs": [
    {
     "data": {
      "text/plain": [
       "np.float64(-0.0003161721616284433)"
      ]
     },
     "execution_count": 76,
     "metadata": {},
     "output_type": "execute_result"
    }
   ],
   "source": [
    "np.random.randn(1000000) .mean()"
   ]
  },
  {
   "cell_type": "code",
   "execution_count": 77,
   "id": "5408ea58-00df-4e75-84a4-b95f6825971d",
   "metadata": {
    "scrolled": true
   },
   "outputs": [
    {
     "data": {
      "text/plain": [
       "np.float64(1.1737756569261169)"
      ]
     },
     "execution_count": 77,
     "metadata": {},
     "output_type": "execute_result"
    }
   ],
   "source": [
    "np.random.randn(10) .std()"
   ]
  },
  {
   "cell_type": "markdown",
   "id": "43ebfae6-fd87-47fc-82ec-92a3f99aa5a2",
   "metadata": {},
   "source": [
    "#### Creating 2D array using random"
   ]
  },
  {
   "cell_type": "code",
   "execution_count": 80,
   "id": "d1a14df2-36b1-4497-b86b-8eebc728d3e1",
   "metadata": {},
   "outputs": [
    {
     "data": {
      "text/plain": [
       "array([[1, 4],\n",
       "       [6, 4]], dtype=int32)"
      ]
     },
     "execution_count": 80,
     "metadata": {},
     "output_type": "execute_result"
    }
   ],
   "source": [
    "x = np.random.randint(0,10,(2,2))\n",
    "x"
   ]
  },
  {
   "cell_type": "code",
   "execution_count": 81,
   "id": "f6ba3084-f206-44a5-8d6e-595d1905213f",
   "metadata": {},
   "outputs": [
    {
     "data": {
      "text/plain": [
       "array([[2, 9],\n",
       "       [0, 0]], dtype=int32)"
      ]
     },
     "execution_count": 81,
     "metadata": {},
     "output_type": "execute_result"
    }
   ],
   "source": [
    "y=np.random.randint(0,10,(2,2))\n",
    "y"
   ]
  },
  {
   "cell_type": "code",
   "execution_count": 82,
   "id": "e11e17b0-36d3-4190-aa5f-d75f0d8f5fa4",
   "metadata": {},
   "outputs": [],
   "source": [
    "z = 10"
   ]
  },
  {
   "cell_type": "code",
   "execution_count": 83,
   "id": "aa45d490-55b7-469f-9e8e-b87c6596f975",
   "metadata": {},
   "outputs": [
    {
     "data": {
      "text/plain": [
       "array([[ 3, 13],\n",
       "       [ 6,  4]], dtype=int32)"
      ]
     },
     "execution_count": 83,
     "metadata": {},
     "output_type": "execute_result"
    }
   ],
   "source": [
    "np.add(x,y)"
   ]
  },
  {
   "cell_type": "code",
   "execution_count": 85,
   "id": "8394a75a-a5d3-4820-83a1-e44045faffe5",
   "metadata": {},
   "outputs": [
    {
     "data": {
      "text/plain": [
       "array([[5, 5, 2, 6, 3],\n",
       "       [0, 4, 8, 3, 9],\n",
       "       [1, 8, 4, 3, 2],\n",
       "       [2, 0, 3, 0, 7],\n",
       "       [8, 1, 2, 8, 1]], dtype=int32)"
      ]
     },
     "execution_count": 85,
     "metadata": {},
     "output_type": "execute_result"
    }
   ],
   "source": [
    "x=np.random.randint(0,10,(5,5))\n",
    "x"
   ]
  },
  {
   "cell_type": "code",
   "execution_count": 86,
   "id": "96d2dbd6-b6dc-45bd-86b7-a8b83cb6c923",
   "metadata": {},
   "outputs": [
    {
     "data": {
      "text/plain": [
       "array([[3, 2],\n",
       "       [0, 7],\n",
       "       [8, 1]], dtype=int32)"
      ]
     },
     "execution_count": 86,
     "metadata": {},
     "output_type": "execute_result"
    }
   ],
   "source": [
    "x[2:5,3:5]"
   ]
  },
  {
   "cell_type": "code",
   "execution_count": 87,
   "id": "18aa8ddf-02eb-4491-bf6d-d866f8e9a1c2",
   "metadata": {},
   "outputs": [
    {
     "data": {
      "text/plain": [
       "array([[3, 0],\n",
       "       [2, 8]], dtype=int32)"
      ]
     },
     "execution_count": 87,
     "metadata": {},
     "output_type": "execute_result"
    }
   ],
   "source": [
    "x[3:5,2:4]"
   ]
  },
  {
   "cell_type": "code",
   "execution_count": 89,
   "id": "7a8a834e-5892-4f59-ac08-7c9567888c83",
   "metadata": {},
   "outputs": [
    {
     "data": {
      "text/plain": [
       "array([[1, 8, 4],\n",
       "       [2, 0, 3]], dtype=int32)"
      ]
     },
     "execution_count": 89,
     "metadata": {},
     "output_type": "execute_result"
    }
   ],
   "source": [
    "x[-3:-1,-5:-2]"
   ]
  },
  {
   "cell_type": "markdown",
   "id": "ac4f1662-f0cb-4bfc-a753-f249edda2d2b",
   "metadata": {},
   "source": [
    "### Built In Functions"
   ]
  },
  {
   "cell_type": "code",
   "execution_count": 90,
   "id": "23f226c0-c305-41f1-94d6-b3bfb9766510",
   "metadata": {},
   "outputs": [],
   "source": [
    "x = np.random.randint(0,10,(2,2))\n",
    "y = np.random.randint(0,10,(2,2))"
   ]
  },
  {
   "cell_type": "code",
   "execution_count": 91,
   "id": "a2c9b863-6c2a-42e8-b534-caa2a1059224",
   "metadata": {},
   "outputs": [
    {
     "data": {
      "text/plain": [
       "array([[6, 8],\n",
       "       [9, 6]], dtype=int32)"
      ]
     },
     "execution_count": 91,
     "metadata": {},
     "output_type": "execute_result"
    }
   ],
   "source": [
    "x"
   ]
  },
  {
   "cell_type": "code",
   "execution_count": 92,
   "id": "f0710479-c632-4b2c-8adf-6f8f9079fe98",
   "metadata": {},
   "outputs": [
    {
     "data": {
      "text/plain": [
       "array([[7, 7],\n",
       "       [6, 3]], dtype=int32)"
      ]
     },
     "execution_count": 92,
     "metadata": {},
     "output_type": "execute_result"
    }
   ],
   "source": [
    "y"
   ]
  },
  {
   "cell_type": "code",
   "execution_count": 93,
   "id": "afdb340b-6e21-4377-b426-163d125e317c",
   "metadata": {},
   "outputs": [
    {
     "data": {
      "text/plain": [
       "array([[13, 15],\n",
       "       [15,  9]], dtype=int32)"
      ]
     },
     "execution_count": 93,
     "metadata": {},
     "output_type": "execute_result"
    }
   ],
   "source": [
    "np.add(x,y)"
   ]
  },
  {
   "cell_type": "code",
   "execution_count": 94,
   "id": "c6f96beb-6254-4fb4-b555-40b8f6fb1396",
   "metadata": {},
   "outputs": [
    {
     "data": {
      "text/plain": [
       "array([[-1,  1],\n",
       "       [ 3,  3]], dtype=int32)"
      ]
     },
     "execution_count": 94,
     "metadata": {},
     "output_type": "execute_result"
    }
   ],
   "source": [
    "np.subtract(x,y)"
   ]
  },
  {
   "cell_type": "code",
   "execution_count": 95,
   "id": "3daf77f0-5189-4bd7-9795-673344e80b39",
   "metadata": {},
   "outputs": [
    {
     "data": {
      "text/plain": [
       "array([[42, 56],\n",
       "       [54, 18]], dtype=int32)"
      ]
     },
     "execution_count": 95,
     "metadata": {},
     "output_type": "execute_result"
    }
   ],
   "source": [
    "np.multiply(x,y)"
   ]
  },
  {
   "cell_type": "code",
   "execution_count": 96,
   "id": "b59c30e4-c710-4878-b007-68ec6c47433d",
   "metadata": {},
   "outputs": [
    {
     "data": {
      "text/plain": [
       "array([[0.85714286, 1.14285714],\n",
       "       [1.5       , 2.        ]])"
      ]
     },
     "execution_count": 96,
     "metadata": {},
     "output_type": "execute_result"
    }
   ],
   "source": [
    "np.divide(x,y)"
   ]
  },
  {
   "cell_type": "code",
   "execution_count": 97,
   "id": "7ccf6f61-fe98-46c4-9bd2-c55ebece5c70",
   "metadata": {},
   "outputs": [
    {
     "data": {
      "text/plain": [
       "array([[0, 1],\n",
       "       [1, 2]], dtype=int32)"
      ]
     },
     "execution_count": 97,
     "metadata": {},
     "output_type": "execute_result"
    }
   ],
   "source": [
    "np.floor_divide(x,y)"
   ]
  },
  {
   "cell_type": "code",
   "execution_count": 98,
   "id": "78042207-f6d1-4994-a888-b3a683ec549e",
   "metadata": {},
   "outputs": [
    {
     "data": {
      "text/plain": [
       "array([[6, 1],\n",
       "       [3, 0]], dtype=int32)"
      ]
     },
     "execution_count": 98,
     "metadata": {},
     "output_type": "execute_result"
    }
   ],
   "source": [
    "np.mod(x,y)"
   ]
  },
  {
   "cell_type": "code",
   "execution_count": 99,
   "id": "4d185571-d308-4b26-9baa-5b628e0e451e",
   "metadata": {},
   "outputs": [
    {
     "data": {
      "text/plain": [
       "array([[36, 64],\n",
       "       [81, 36]], dtype=int32)"
      ]
     },
     "execution_count": 99,
     "metadata": {},
     "output_type": "execute_result"
    }
   ],
   "source": [
    "np.power(x,2)"
   ]
  },
  {
   "cell_type": "code",
   "execution_count": 100,
   "id": "d3e6ba05-591e-4537-aaba-3fb37fb4c0f9",
   "metadata": {},
   "outputs": [
    {
     "data": {
      "text/plain": [
       "array([[343, 343],\n",
       "       [216,  27]], dtype=int32)"
      ]
     },
     "execution_count": 100,
     "metadata": {},
     "output_type": "execute_result"
    }
   ],
   "source": [
    "np.power(y,3)"
   ]
  },
  {
   "cell_type": "markdown",
   "id": "9421b4bd-f169-4602-96c9-88bde1cc3cf4",
   "metadata": {},
   "source": [
    "#### Round off"
   ]
  },
  {
   "cell_type": "code",
   "execution_count": 101,
   "id": "72cd645e-02dc-4cb2-9210-0f970ed35770",
   "metadata": {},
   "outputs": [
    {
     "data": {
      "text/plain": [
       "array([[1.6, 2.3],\n",
       "       [3.5, 3.9]])"
      ]
     },
     "execution_count": 101,
     "metadata": {},
     "output_type": "execute_result"
    }
   ],
   "source": [
    "y=np.array([[1.6,2.3],[3.5,3.9]])\n",
    "y"
   ]
  },
  {
   "cell_type": "code",
   "execution_count": 102,
   "id": "41b8762a-0d0b-44e4-8226-698900fe7c39",
   "metadata": {},
   "outputs": [
    {
     "data": {
      "text/plain": [
       "array([[2., 2.],\n",
       "       [4., 4.]])"
      ]
     },
     "execution_count": 102,
     "metadata": {},
     "output_type": "execute_result"
    }
   ],
   "source": [
    "np.round(y)"
   ]
  },
  {
   "cell_type": "code",
   "execution_count": 103,
   "id": "c0fb7987-9a7d-4ff5-847c-08fe62a69eb3",
   "metadata": {},
   "outputs": [
    {
     "data": {
      "text/plain": [
       "array([[-1.6, -2.3, -3.5, -3.9]])"
      ]
     },
     "execution_count": 103,
     "metadata": {},
     "output_type": "execute_result"
    }
   ],
   "source": [
    "y=np.array([[-1.6,-2.3,-3.5,-3.9]])\n",
    "y"
   ]
  },
  {
   "cell_type": "code",
   "execution_count": 104,
   "id": "b35dfbbd-9332-43e7-a559-bf726c6055a9",
   "metadata": {},
   "outputs": [
    {
     "data": {
      "text/plain": [
       "array([[-2., -2., -4., -4.]])"
      ]
     },
     "execution_count": 104,
     "metadata": {},
     "output_type": "execute_result"
    }
   ],
   "source": [
    "np.round(y)"
   ]
  },
  {
   "cell_type": "code",
   "execution_count": 105,
   "id": "975c992c-9b82-4ec8-99ba-8d833f718ee9",
   "metadata": {},
   "outputs": [],
   "source": [
    "y = np.array([1.6, 2.3, 3.5, 3.9])"
   ]
  },
  {
   "cell_type": "code",
   "execution_count": 106,
   "id": "b2bd60ad-8d88-49c6-bc31-6e129c4b9ddb",
   "metadata": {},
   "outputs": [
    {
     "data": {
      "text/plain": [
       "array([1.6, 2.3, 3.5, 3.9])"
      ]
     },
     "execution_count": 106,
     "metadata": {},
     "output_type": "execute_result"
    }
   ],
   "source": [
    "y"
   ]
  },
  {
   "cell_type": "code",
   "execution_count": 107,
   "id": "31b252c1-bf8e-49b5-a3d2-66c522945b6e",
   "metadata": {},
   "outputs": [
    {
     "data": {
      "text/plain": [
       "array([1., 2., 3., 3.])"
      ]
     },
     "execution_count": 107,
     "metadata": {},
     "output_type": "execute_result"
    }
   ],
   "source": [
    "np.floor(y)"
   ]
  },
  {
   "cell_type": "code",
   "execution_count": 108,
   "id": "16c09ce1-78eb-4bd3-8446-9fc63c28a370",
   "metadata": {},
   "outputs": [
    {
     "data": {
      "text/plain": [
       "array([2., 3., 4., 4.])"
      ]
     },
     "execution_count": 108,
     "metadata": {},
     "output_type": "execute_result"
    }
   ],
   "source": [
    "np.ceil(y)"
   ]
  },
  {
   "cell_type": "code",
   "execution_count": 109,
   "id": "d4045ffe-ad14-4244-89c0-b57e46fcd359",
   "metadata": {},
   "outputs": [
    {
     "data": {
      "text/plain": [
       "array([1., 2., 3., 3.])"
      ]
     },
     "execution_count": 109,
     "metadata": {},
     "output_type": "execute_result"
    }
   ],
   "source": [
    "np.fix(y)"
   ]
  },
  {
   "cell_type": "code",
   "execution_count": 110,
   "id": "0a3f9781-ce42-45e7-8e6d-0c9a0d8c5c5a",
   "metadata": {},
   "outputs": [
    {
     "data": {
      "text/plain": [
       "array([-1.6, -2.3, -3.5, -3.9])"
      ]
     },
     "execution_count": 110,
     "metadata": {},
     "output_type": "execute_result"
    }
   ],
   "source": [
    "y = np.array([-1.6, -2.3, -3.5, -3.9])\n",
    "y"
   ]
  },
  {
   "cell_type": "code",
   "execution_count": 111,
   "id": "1c6ec377-6389-43ce-a763-b6fdd1395065",
   "metadata": {},
   "outputs": [
    {
     "data": {
      "text/plain": [
       "array([-2., -3., -4., -4.])"
      ]
     },
     "execution_count": 111,
     "metadata": {},
     "output_type": "execute_result"
    }
   ],
   "source": [
    "np.floor(y)"
   ]
  },
  {
   "cell_type": "code",
   "execution_count": 112,
   "id": "88e7e0f3-1cfa-4ccd-a257-affe3080853b",
   "metadata": {},
   "outputs": [
    {
     "data": {
      "text/plain": [
       "array([-1., -2., -3., -3.])"
      ]
     },
     "execution_count": 112,
     "metadata": {},
     "output_type": "execute_result"
    }
   ],
   "source": [
    "np.ceil(y)"
   ]
  },
  {
   "cell_type": "code",
   "execution_count": 113,
   "id": "6f0a0300-aa3c-44d0-aa85-ffd985c908e6",
   "metadata": {},
   "outputs": [
    {
     "data": {
      "text/plain": [
       "array([-1., -2., -3., -3.])"
      ]
     },
     "execution_count": 113,
     "metadata": {},
     "output_type": "execute_result"
    }
   ],
   "source": [
    "np.fix(y)"
   ]
  },
  {
   "cell_type": "markdown",
   "id": "e3599b35-eab0-4ec4-a90f-0979b2a131b3",
   "metadata": {},
   "source": [
    "### log and exponential"
   ]
  },
  {
   "cell_type": "code",
   "execution_count": 114,
   "id": "d966753a-fde9-45b1-82f8-ef687d7809d7",
   "metadata": {},
   "outputs": [
    {
     "data": {
      "text/plain": [
       "2.718281828459045"
      ]
     },
     "execution_count": 114,
     "metadata": {},
     "output_type": "execute_result"
    }
   ],
   "source": [
    "import math\n",
    "math.e"
   ]
  },
  {
   "cell_type": "code",
   "execution_count": 115,
   "id": "b718a5c1-e866-4e6e-aa40-961f764910bf",
   "metadata": {},
   "outputs": [
    {
     "data": {
      "text/plain": [
       "3.141592653589793"
      ]
     },
     "execution_count": 115,
     "metadata": {},
     "output_type": "execute_result"
    }
   ],
   "source": [
    "math.pi"
   ]
  },
  {
   "cell_type": "code",
   "execution_count": 116,
   "id": "379f8452-bf57-4011-8be8-1ce52946039c",
   "metadata": {},
   "outputs": [
    {
     "data": {
      "text/plain": [
       "6.283185307179586"
      ]
     },
     "execution_count": 116,
     "metadata": {},
     "output_type": "execute_result"
    }
   ],
   "source": [
    "math.tau"
   ]
  },
  {
   "cell_type": "code",
   "execution_count": 117,
   "id": "0f8522d1-ddb9-4029-938b-a08d350ba190",
   "metadata": {},
   "outputs": [
    {
     "data": {
      "text/plain": [
       "np.float64(0.1353352832366127)"
      ]
     },
     "execution_count": 117,
     "metadata": {},
     "output_type": "execute_result"
    }
   ],
   "source": [
    "np.exp(-2)"
   ]
  },
  {
   "cell_type": "code",
   "execution_count": 118,
   "id": "2c5d3740-0134-4149-9806-36714a44e58a",
   "metadata": {},
   "outputs": [
    {
     "data": {
      "text/plain": [
       "np.float64(0.1353352832366127)"
      ]
     },
     "execution_count": 118,
     "metadata": {},
     "output_type": "execute_result"
    }
   ],
   "source": [
    "np.power(2.718281828459045,-2)"
   ]
  },
  {
   "cell_type": "code",
   "execution_count": 119,
   "id": "488abeb9-a932-49e2-b876-542d6bac89f2",
   "metadata": {},
   "outputs": [
    {
     "data": {
      "text/plain": [
       "np.float64(7.38905609893065)"
      ]
     },
     "execution_count": 119,
     "metadata": {},
     "output_type": "execute_result"
    }
   ],
   "source": [
    "np.exp(2)"
   ]
  },
  {
   "cell_type": "code",
   "execution_count": 120,
   "id": "4132c027-4eb0-4fb4-bfc1-248a8e0f9c68",
   "metadata": {},
   "outputs": [
    {
     "data": {
      "text/plain": [
       "np.float64(6.38905609893065)"
      ]
     },
     "execution_count": 120,
     "metadata": {},
     "output_type": "execute_result"
    }
   ],
   "source": [
    "np.expm1(2)"
   ]
  },
  {
   "cell_type": "code",
   "execution_count": 121,
   "id": "ce71ef5c-60b6-46fd-9ea2-09c98aad68be",
   "metadata": {},
   "outputs": [
    {
     "data": {
      "text/plain": [
       "array([[6, 8],\n",
       "       [9, 6]], dtype=int32)"
      ]
     },
     "execution_count": 121,
     "metadata": {},
     "output_type": "execute_result"
    }
   ],
   "source": [
    "x"
   ]
  },
  {
   "cell_type": "code",
   "execution_count": 122,
   "id": "4e1f78b2-3dea-42ed-ac58-1484b2554ac5",
   "metadata": {},
   "outputs": [
    {
     "data": {
      "text/plain": [
       "array([-1.6, -2.3, -3.5, -3.9])"
      ]
     },
     "execution_count": 122,
     "metadata": {},
     "output_type": "execute_result"
    }
   ],
   "source": [
    "y"
   ]
  },
  {
   "cell_type": "code",
   "execution_count": 123,
   "id": "3efeee7f-9c87-4099-a013-691f7cff478f",
   "metadata": {},
   "outputs": [
    {
     "data": {
      "text/plain": [
       "array([1.6, 2.3, 3.5, 3.9])"
      ]
     },
     "execution_count": 123,
     "metadata": {},
     "output_type": "execute_result"
    }
   ],
   "source": [
    "-1*y"
   ]
  },
  {
   "cell_type": "code",
   "execution_count": 124,
   "id": "a9126f74-4e32-440e-8881-1e199f92f226",
   "metadata": {},
   "outputs": [
    {
     "data": {
      "text/plain": [
       "array([1.6, 2.3, 3.5, 3.9])"
      ]
     },
     "execution_count": 124,
     "metadata": {},
     "output_type": "execute_result"
    }
   ],
   "source": [
    "y*-1"
   ]
  },
  {
   "cell_type": "code",
   "execution_count": 125,
   "id": "722ba931-53ea-4e3b-b0e2-12c0fd8e6ae2",
   "metadata": {},
   "outputs": [
    {
     "data": {
      "text/plain": [
       "array([-1.6, -2.3, -3.5, -3.9])"
      ]
     },
     "execution_count": 125,
     "metadata": {},
     "output_type": "execute_result"
    }
   ],
   "source": [
    "y"
   ]
  },
  {
   "cell_type": "code",
   "execution_count": 126,
   "id": "9a0ff5e6-d87d-4a21-afad-189b19b6b05c",
   "metadata": {},
   "outputs": [
    {
     "data": {
      "text/plain": [
       "array([1.6, 2.3, 3.5, 3.9])"
      ]
     },
     "execution_count": 126,
     "metadata": {},
     "output_type": "execute_result"
    }
   ],
   "source": [
    "-1*y"
   ]
  },
  {
   "cell_type": "code",
   "execution_count": 127,
   "id": "309e54ee-3f69-4cc4-b17c-dc2b0058e806",
   "metadata": {},
   "outputs": [
    {
     "data": {
      "text/plain": [
       "array([-1.6, -2.3, -3.5, -3.9])"
      ]
     },
     "execution_count": 127,
     "metadata": {},
     "output_type": "execute_result"
    }
   ],
   "source": [
    "y"
   ]
  },
  {
   "cell_type": "code",
   "execution_count": 128,
   "id": "37017a4f-ef85-4177-8df9-5fcc24d34498",
   "metadata": {},
   "outputs": [
    {
     "data": {
      "text/plain": [
       "array([0.20189652, 0.10025884, 0.03019738, 0.02024191])"
      ]
     },
     "execution_count": 128,
     "metadata": {},
     "output_type": "execute_result"
    }
   ],
   "source": [
    "np.exp(y)"
   ]
  },
  {
   "cell_type": "code",
   "execution_count": 130,
   "id": "e8e0ce12-9aab-4e2d-b400-e670aede95da",
   "metadata": {},
   "outputs": [
    {
     "data": {
      "text/plain": [
       "array([1.6, 2.3, 3.5, 3.9])"
      ]
     },
     "execution_count": 130,
     "metadata": {},
     "output_type": "execute_result"
    }
   ],
   "source": [
    "-1*y"
   ]
  },
  {
   "cell_type": "code",
   "execution_count": 132,
   "id": "563ad187-0fef-43d4-825b-a1494805d72e",
   "metadata": {},
   "outputs": [
    {
     "data": {
      "text/plain": [
       "array([0.20189652, 0.10025884, 0.03019738, 0.02024191])"
      ]
     },
     "execution_count": 132,
     "metadata": {},
     "output_type": "execute_result"
    }
   ],
   "source": [
    "y\n",
    "np.exp(y)"
   ]
  },
  {
   "cell_type": "code",
   "execution_count": 133,
   "id": "d8b9c74a-1968-405d-9162-6f2e4467f4b8",
   "metadata": {},
   "outputs": [
    {
     "data": {
      "text/plain": [
       "np.float64(1.0)"
      ]
     },
     "execution_count": 133,
     "metadata": {},
     "output_type": "execute_result"
    }
   ],
   "source": [
    "np.log(math.e)"
   ]
  },
  {
   "cell_type": "code",
   "execution_count": 134,
   "id": "be90843d-4907-4d7f-bfc2-d5078f8b3435",
   "metadata": {},
   "outputs": [
    {
     "data": {
      "text/plain": [
       "np.float64(1.0)"
      ]
     },
     "execution_count": 134,
     "metadata": {},
     "output_type": "execute_result"
    }
   ],
   "source": [
    "np.log2(2)"
   ]
  },
  {
   "cell_type": "code",
   "execution_count": 135,
   "id": "f9521357-7a17-40b3-8cb8-7d80741e56f8",
   "metadata": {},
   "outputs": [
    {
     "data": {
      "text/plain": [
       "np.float64(1.0)"
      ]
     },
     "execution_count": 135,
     "metadata": {},
     "output_type": "execute_result"
    }
   ],
   "source": [
    "np.log10(10)"
   ]
  },
  {
   "cell_type": "code",
   "execution_count": 136,
   "id": "db5e32e6-c67c-490a-8edd-ccf70fe1269e",
   "metadata": {},
   "outputs": [
    {
     "data": {
      "text/plain": [
       "np.float64(4.0)"
      ]
     },
     "execution_count": 136,
     "metadata": {},
     "output_type": "execute_result"
    }
   ],
   "source": [
    "np.log2(16)"
   ]
  },
  {
   "cell_type": "markdown",
   "id": "e923f343-ed74-4436-becc-480d63d36a6e",
   "metadata": {},
   "source": [
    "###  statistical functions"
   ]
  },
  {
   "cell_type": "code",
   "execution_count": 138,
   "id": "346c7a6f-4b75-42a4-beea-c7ac30d9e61b",
   "metadata": {},
   "outputs": [],
   "source": [
    "data=np.array([10,11,15,21,36,1000])"
   ]
  },
  {
   "cell_type": "code",
   "execution_count": 139,
   "id": "f0a833d3-39ba-4523-b18e-d16f6232b813",
   "metadata": {},
   "outputs": [
    {
     "data": {
      "text/plain": [
       "np.float64(182.16666666666666)"
      ]
     },
     "execution_count": 139,
     "metadata": {},
     "output_type": "execute_result"
    }
   ],
   "source": [
    "np.mean(data)"
   ]
  },
  {
   "cell_type": "code",
   "execution_count": 140,
   "id": "cd426ba4-0e75-49c0-b16f-88feb4304a71",
   "metadata": {},
   "outputs": [
    {
     "data": {
      "text/plain": [
       "1093"
      ]
     },
     "execution_count": 140,
     "metadata": {},
     "output_type": "execute_result"
    }
   ],
   "source": [
    "(10+11+15+21+36+1000)"
   ]
  },
  {
   "cell_type": "code",
   "execution_count": 141,
   "id": "f891229c-1d5a-40cb-a15a-ac80680fcdb3",
   "metadata": {},
   "outputs": [
    {
     "data": {
      "text/plain": [
       "182.16666666666666"
      ]
     },
     "execution_count": 141,
     "metadata": {},
     "output_type": "execute_result"
    }
   ],
   "source": [
    "(10+11+15+21+36+1000)/6"
   ]
  },
  {
   "cell_type": "code",
   "execution_count": 142,
   "id": "c1a64e96-0721-49c3-83ee-d1259ccc421c",
   "metadata": {},
   "outputs": [
    {
     "data": {
      "text/plain": [
       "np.float64(18.0)"
      ]
     },
     "execution_count": 142,
     "metadata": {},
     "output_type": "execute_result"
    }
   ],
   "source": [
    "np.median(data)"
   ]
  },
  {
   "cell_type": "code",
   "execution_count": 143,
   "id": "8aa30b57-9926-4945-88b4-58f53305cd44",
   "metadata": {},
   "outputs": [],
   "source": [
    "data=np.array([-20,0,30,50,10])"
   ]
  },
  {
   "cell_type": "code",
   "execution_count": 144,
   "id": "94a17f8a-efbf-48ce-b1ed-ead30c72303d",
   "metadata": {},
   "outputs": [
    {
     "data": {
      "text/plain": [
       "array([-6.8, -2.8,  3.2,  7.2, -0.8])"
      ]
     },
     "execution_count": 144,
     "metadata": {},
     "output_type": "execute_result"
    }
   ],
   "source": [
    "(data-data.mean())/len(data)"
   ]
  },
  {
   "cell_type": "code",
   "execution_count": 145,
   "id": "1f207e82-344b-4ae9-81e9-fe841c27e13b",
   "metadata": {},
   "outputs": [
    {
     "data": {
      "text/plain": [
       "np.float64(14.0)"
      ]
     },
     "execution_count": 145,
     "metadata": {},
     "output_type": "execute_result"
    }
   ],
   "source": [
    "data.mean()"
   ]
  },
  {
   "cell_type": "code",
   "execution_count": 146,
   "id": "28da8339-f120-45c8-9415-55d618c1ae6c",
   "metadata": {},
   "outputs": [
    {
     "data": {
      "text/plain": [
       "5"
      ]
     },
     "execution_count": 146,
     "metadata": {},
     "output_type": "execute_result"
    }
   ],
   "source": [
    "len(data)"
   ]
  },
  {
   "cell_type": "code",
   "execution_count": 147,
   "id": "122653c7-d47e-4ac0-bf50-abbff4fbc32d",
   "metadata": {},
   "outputs": [
    {
     "data": {
      "text/plain": [
       "array([-34., -14.,  16.,  36.,  -4.])"
      ]
     },
     "execution_count": 147,
     "metadata": {},
     "output_type": "execute_result"
    }
   ],
   "source": [
    "data-data.mean()"
   ]
  },
  {
   "cell_type": "code",
   "execution_count": 148,
   "id": "f9bdeb2f-b7bb-45d3-9f95-857549be7536",
   "metadata": {},
   "outputs": [
    {
     "data": {
      "text/plain": [
       "np.float64(24.166091947189145)"
      ]
     },
     "execution_count": 148,
     "metadata": {},
     "output_type": "execute_result"
    }
   ],
   "source": [
    "np.std(data)"
   ]
  },
  {
   "cell_type": "code",
   "execution_count": 149,
   "id": "8820620a-7de9-4124-9aa0-5452130b724c",
   "metadata": {},
   "outputs": [
    {
     "data": {
      "text/plain": [
       "np.float64(24.166091947189145)"
      ]
     },
     "execution_count": 149,
     "metadata": {},
     "output_type": "execute_result"
    }
   ],
   "source": [
    "np.sqrt(sum((data-data.mean())**2)/5)"
   ]
  },
  {
   "cell_type": "code",
   "execution_count": 150,
   "id": "b7b5a6c4-58d1-4644-9ba3-d8a1afa58581",
   "metadata": {},
   "outputs": [
    {
     "data": {
      "text/plain": [
       "np.float64(584.0)"
      ]
     },
     "execution_count": 150,
     "metadata": {},
     "output_type": "execute_result"
    }
   ],
   "source": [
    "np.var(data)"
   ]
  },
  {
   "cell_type": "code",
   "execution_count": 151,
   "id": "0d37b78e-9436-4321-8681-25db634b4382",
   "metadata": {},
   "outputs": [
    {
     "data": {
      "text/plain": [
       "array([-20,   0,  30,  50,  10])"
      ]
     },
     "execution_count": 151,
     "metadata": {},
     "output_type": "execute_result"
    }
   ],
   "source": [
    "data"
   ]
  },
  {
   "cell_type": "code",
   "execution_count": 152,
   "id": "841f9f95-7dc4-488b-93fb-0d9918f0ca5f",
   "metadata": {},
   "outputs": [
    {
     "data": {
      "text/plain": [
       "np.float64(0.0)"
      ]
     },
     "execution_count": 152,
     "metadata": {},
     "output_type": "execute_result"
    }
   ],
   "source": [
    "np.quantile(data,0.25)"
   ]
  },
  {
   "cell_type": "code",
   "execution_count": 153,
   "id": "3a736d84-1fd7-440f-8a9c-55345cdbf762",
   "metadata": {},
   "outputs": [
    {
     "data": {
      "text/plain": [
       "np.float64(10.0)"
      ]
     },
     "execution_count": 153,
     "metadata": {},
     "output_type": "execute_result"
    }
   ],
   "source": [
    "np.quantile(data,0.50)"
   ]
  },
  {
   "cell_type": "code",
   "execution_count": 154,
   "id": "39106bcc-571e-46d1-b3dc-99f43b884f69",
   "metadata": {},
   "outputs": [
    {
     "data": {
      "text/plain": [
       "np.float64(30.0)"
      ]
     },
     "execution_count": 154,
     "metadata": {},
     "output_type": "execute_result"
    }
   ],
   "source": [
    "np.quantile(data,0.75)"
   ]
  },
  {
   "cell_type": "code",
   "execution_count": 155,
   "id": "86531aa2-d764-4b97-99d8-cb5fa5633314",
   "metadata": {},
   "outputs": [
    {
     "data": {
      "text/plain": [
       "np.int64(-20)"
      ]
     },
     "execution_count": 155,
     "metadata": {},
     "output_type": "execute_result"
    }
   ],
   "source": [
    "np.min(data)"
   ]
  },
  {
   "cell_type": "code",
   "execution_count": 156,
   "id": "1a1dfd84-f946-4ea5-939d-00c4d77fa09c",
   "metadata": {},
   "outputs": [
    {
     "data": {
      "text/plain": [
       "np.int64(50)"
      ]
     },
     "execution_count": 156,
     "metadata": {},
     "output_type": "execute_result"
    }
   ],
   "source": [
    "np.max(data)"
   ]
  },
  {
   "cell_type": "markdown",
   "id": "89279c59-2488-4751-9eb8-a9a578981da6",
   "metadata": {},
   "source": [
    "### Trignometric Functions"
   ]
  },
  {
   "cell_type": "code",
   "execution_count": 157,
   "id": "5df1f485-0e66-4350-a3d0-e9b77ca0b254",
   "metadata": {},
   "outputs": [],
   "source": [
    "x = 2"
   ]
  },
  {
   "cell_type": "code",
   "execution_count": 159,
   "id": "b647c616-7561-49bf-aa1d-c6ade0f846ac",
   "metadata": {},
   "outputs": [
    {
     "data": {
      "text/plain": [
       "np.float64(0.9092974268256817)"
      ]
     },
     "execution_count": 159,
     "metadata": {},
     "output_type": "execute_result"
    }
   ],
   "source": [
    "x\n",
    "np.sin(x)"
   ]
  },
  {
   "cell_type": "code",
   "execution_count": 160,
   "id": "5b777923-790a-40e8-a82d-168ade31960b",
   "metadata": {},
   "outputs": [
    {
     "data": {
      "text/plain": [
       "(np.float64(-0.4161468365471424), np.float64(-2.185039863261519))"
      ]
     },
     "execution_count": 160,
     "metadata": {},
     "output_type": "execute_result"
    }
   ],
   "source": [
    "np.cos(x),np.tan(x)"
   ]
  },
  {
   "cell_type": "code",
   "execution_count": 161,
   "id": "5bb59735-a774-4bfb-9ea0-05deb5c12ad0",
   "metadata": {},
   "outputs": [
    {
     "name": "stderr",
     "output_type": "stream",
     "text": [
      "C:\\Users\\cherry\\AppData\\Local\\Temp\\ipykernel_13160\\1524129805.py:1: RuntimeWarning: invalid value encountered in arcsin\n",
      "  np.arcsin(x)\n"
     ]
    },
    {
     "data": {
      "text/plain": [
       "np.float64(nan)"
      ]
     },
     "execution_count": 161,
     "metadata": {},
     "output_type": "execute_result"
    }
   ],
   "source": [
    "np.arcsin(x)"
   ]
  },
  {
   "cell_type": "code",
   "execution_count": 162,
   "id": "6d22e5f6-bf8c-4f23-a6f5-04229861fba7",
   "metadata": {},
   "outputs": [
    {
     "data": {
      "text/plain": [
       "np.float64(1.1071487177940904)"
      ]
     },
     "execution_count": 162,
     "metadata": {},
     "output_type": "execute_result"
    }
   ],
   "source": [
    "np.arctan(x)"
   ]
  },
  {
   "cell_type": "code",
   "execution_count": 163,
   "id": "3de1fbd4-587c-4d3a-b005-8cbccd115beb",
   "metadata": {},
   "outputs": [
    {
     "data": {
      "text/plain": [
       "(np.float64(3.6268604078470186),\n",
       " np.float64(3.7621956910836314),\n",
       " np.float64(0.9640275800758169))"
      ]
     },
     "execution_count": 163,
     "metadata": {},
     "output_type": "execute_result"
    }
   ],
   "source": [
    "np.sinh(x),np.cosh(x),np.tanh(x)"
   ]
  },
  {
   "cell_type": "code",
   "execution_count": 164,
   "id": "f38d7e51-1319-43d4-86ba-51fc006e25d4",
   "metadata": {},
   "outputs": [],
   "source": [
    "x=np.array([10,9,8,7])"
   ]
  },
  {
   "cell_type": "code",
   "execution_count": 165,
   "id": "fadbffee-79b4-4b1c-b25f-71b2caf26a43",
   "metadata": {},
   "outputs": [
    {
     "data": {
      "text/plain": [
       "array([10,  9,  8,  7])"
      ]
     },
     "execution_count": 165,
     "metadata": {},
     "output_type": "execute_result"
    }
   ],
   "source": [
    "x"
   ]
  },
  {
   "cell_type": "code",
   "execution_count": 166,
   "id": "a7e757e4-b2f8-4633-895b-00c74920355a",
   "metadata": {},
   "outputs": [
    {
     "data": {
      "text/plain": [
       "np.int64(34)"
      ]
     },
     "execution_count": 166,
     "metadata": {},
     "output_type": "execute_result"
    }
   ],
   "source": [
    "np.sum(x)"
   ]
  },
  {
   "cell_type": "code",
   "execution_count": 167,
   "id": "f88ba51e-6bb6-42bc-b029-283afd818d47",
   "metadata": {},
   "outputs": [
    {
     "data": {
      "text/plain": [
       "np.int64(5040)"
      ]
     },
     "execution_count": 167,
     "metadata": {},
     "output_type": "execute_result"
    }
   ],
   "source": [
    "np.prod(x)"
   ]
  },
  {
   "cell_type": "code",
   "execution_count": 168,
   "id": "8b85826d-bf91-4537-923d-7c28a36d60f7",
   "metadata": {},
   "outputs": [
    {
     "data": {
      "text/plain": [
       "array([10, 19, 27, 34])"
      ]
     },
     "execution_count": 168,
     "metadata": {},
     "output_type": "execute_result"
    }
   ],
   "source": [
    "np.cumsum(x)"
   ]
  },
  {
   "cell_type": "code",
   "execution_count": 169,
   "id": "95db35f6-0aef-40dd-aa9a-b1e2e556c827",
   "metadata": {},
   "outputs": [
    {
     "data": {
      "text/plain": [
       "array([  10,   90,  720, 5040])"
      ]
     },
     "execution_count": 169,
     "metadata": {},
     "output_type": "execute_result"
    }
   ],
   "source": [
    "np.cumprod(x)"
   ]
  },
  {
   "cell_type": "markdown",
   "id": "22b3b9b5-7f6d-43fa-a33c-f284e8087c4c",
   "metadata": {},
   "source": [
    "### axis = 0 , axis = 1"
   ]
  },
  {
   "cell_type": "code",
   "execution_count": 171,
   "id": "d989c551-c2cd-441a-8dbf-07ff069f76f6",
   "metadata": {},
   "outputs": [
    {
     "data": {
      "text/plain": [
       "array([[0, 6, 4],\n",
       "       [9, 1, 0],\n",
       "       [6, 6, 4]], dtype=int32)"
      ]
     },
     "execution_count": 171,
     "metadata": {},
     "output_type": "execute_result"
    }
   ],
   "source": [
    "x=np.random.randint(0,10,(3,3))\n",
    "x"
   ]
  },
  {
   "cell_type": "code",
   "execution_count": 172,
   "id": "2224ce75-3368-458b-a8ab-9c9839e48764",
   "metadata": {},
   "outputs": [
    {
     "data": {
      "text/plain": [
       "np.int64(36)"
      ]
     },
     "execution_count": 172,
     "metadata": {},
     "output_type": "execute_result"
    }
   ],
   "source": [
    "x.sum()"
   ]
  },
  {
   "cell_type": "code",
   "execution_count": 173,
   "id": "e2d1ceff-0b60-4519-96c9-7b88041d2ad5",
   "metadata": {},
   "outputs": [
    {
     "data": {
      "text/plain": [
       "array([15, 13,  8])"
      ]
     },
     "execution_count": 173,
     "metadata": {},
     "output_type": "execute_result"
    }
   ],
   "source": [
    "x.sum(axis=0)"
   ]
  },
  {
   "cell_type": "code",
   "execution_count": 174,
   "id": "d3cea4db-75a6-4d42-85f9-5d33989b8299",
   "metadata": {},
   "outputs": [
    {
     "data": {
      "text/plain": [
       "array([10, 10, 16])"
      ]
     },
     "execution_count": 174,
     "metadata": {},
     "output_type": "execute_result"
    }
   ],
   "source": [
    "x.sum(axis=1)"
   ]
  },
  {
   "cell_type": "code",
   "execution_count": 175,
   "id": "c2a5b91b-3cb4-4e99-ae8b-cb885f46f15d",
   "metadata": {},
   "outputs": [],
   "source": [
    "x=np.random.randint(0,2,(4,4))"
   ]
  },
  {
   "cell_type": "code",
   "execution_count": 176,
   "id": "59495b24-8bee-42ee-9584-88836b63de83",
   "metadata": {},
   "outputs": [
    {
     "data": {
      "text/plain": [
       "array([[1, 1, 1, 0],\n",
       "       [0, 1, 1, 0],\n",
       "       [0, 1, 1, 0],\n",
       "       [1, 0, 0, 1]], dtype=int32)"
      ]
     },
     "execution_count": 176,
     "metadata": {},
     "output_type": "execute_result"
    }
   ],
   "source": [
    "x"
   ]
  },
  {
   "cell_type": "code",
   "execution_count": 179,
   "id": "5d4ede62-103e-481d-98d1-f56a8a1b329c",
   "metadata": {},
   "outputs": [
    {
     "data": {
      "text/plain": [
       "np.float64(0.5625)"
      ]
     },
     "execution_count": 179,
     "metadata": {},
     "output_type": "execute_result"
    }
   ],
   "source": [
    "x.mean()"
   ]
  },
  {
   "cell_type": "code",
   "execution_count": 180,
   "id": "3216aba2-b130-4f5c-a019-2e670a215066",
   "metadata": {},
   "outputs": [
    {
     "data": {
      "text/plain": [
       "array([0.5 , 0.75, 0.75, 0.25])"
      ]
     },
     "execution_count": 180,
     "metadata": {},
     "output_type": "execute_result"
    }
   ],
   "source": [
    "x.mean(axis = 0)"
   ]
  },
  {
   "cell_type": "code",
   "execution_count": 181,
   "id": "1cc349f7-39d9-46b3-b43f-c4eb9c0c4acb",
   "metadata": {},
   "outputs": [
    {
     "data": {
      "text/plain": [
       "array([0.75, 0.5 , 0.5 , 0.5 ])"
      ]
     },
     "execution_count": 181,
     "metadata": {},
     "output_type": "execute_result"
    }
   ],
   "source": [
    "x.mean(axis = 1)"
   ]
  },
  {
   "cell_type": "code",
   "execution_count": 182,
   "id": "e4efe992-af12-4273-ab62-1ad7f4bcc429",
   "metadata": {},
   "outputs": [],
   "source": [
    "x=np.random.randint(0,10,(4,4))"
   ]
  },
  {
   "cell_type": "code",
   "execution_count": 183,
   "id": "6f8c5d55-369f-4234-b2fd-a9240f6a5806",
   "metadata": {},
   "outputs": [
    {
     "data": {
      "text/plain": [
       "array([[6, 7, 9, 5],\n",
       "       [9, 2, 2, 9],\n",
       "       [9, 1, 4, 4],\n",
       "       [5, 6, 1, 9]], dtype=int32)"
      ]
     },
     "execution_count": 183,
     "metadata": {},
     "output_type": "execute_result"
    }
   ],
   "source": [
    "x"
   ]
  },
  {
   "cell_type": "code",
   "execution_count": 184,
   "id": "ae386ca5-5e9b-4a4f-bcf7-5dfb261530d2",
   "metadata": {},
   "outputs": [
    {
     "data": {
      "text/plain": [
       "array([9, 7, 9, 9], dtype=int32)"
      ]
     },
     "execution_count": 184,
     "metadata": {},
     "output_type": "execute_result"
    }
   ],
   "source": [
    "x.max(axis=0)"
   ]
  },
  {
   "cell_type": "code",
   "execution_count": 185,
   "id": "391b3610-7568-4bd2-b705-bc483a4cfa90",
   "metadata": {},
   "outputs": [
    {
     "data": {
      "text/plain": [
       "array([9, 9, 9, 9], dtype=int32)"
      ]
     },
     "execution_count": 185,
     "metadata": {},
     "output_type": "execute_result"
    }
   ],
   "source": [
    "x.max(axis = 1)"
   ]
  },
  {
   "cell_type": "code",
   "execution_count": 186,
   "id": "cdc20cf6-1c28-4dad-a454-fa84601c2dbe",
   "metadata": {},
   "outputs": [
    {
     "data": {
      "text/plain": [
       "array([1, 0, 0, 1])"
      ]
     },
     "execution_count": 186,
     "metadata": {},
     "output_type": "execute_result"
    }
   ],
   "source": [
    "x.argmax(axis=0)"
   ]
  },
  {
   "cell_type": "code",
   "execution_count": 187,
   "id": "7d77f083-6302-4f5e-b611-bfe927cc950d",
   "metadata": {},
   "outputs": [
    {
     "data": {
      "text/plain": [
       "array([2, 0, 0, 3])"
      ]
     },
     "execution_count": 187,
     "metadata": {},
     "output_type": "execute_result"
    }
   ],
   "source": [
    "x.argmax(axis=1)"
   ]
  },
  {
   "cell_type": "code",
   "execution_count": 188,
   "id": "1c770e4a-33df-4a76-b68c-f0a8bd169367",
   "metadata": {},
   "outputs": [
    {
     "data": {
      "text/plain": [
       "array([3, 2, 3, 2])"
      ]
     },
     "execution_count": 188,
     "metadata": {},
     "output_type": "execute_result"
    }
   ],
   "source": [
    "x.argmin(axis=0)"
   ]
  },
  {
   "cell_type": "code",
   "execution_count": 189,
   "id": "5c69cf02-7564-497e-8768-ec243c08dc36",
   "metadata": {},
   "outputs": [
    {
     "data": {
      "text/plain": [
       "array([3, 1, 1, 2])"
      ]
     },
     "execution_count": 189,
     "metadata": {},
     "output_type": "execute_result"
    }
   ],
   "source": [
    "x.argmin(axis=1)"
   ]
  },
  {
   "cell_type": "code",
   "execution_count": 190,
   "id": "0e37825f-32a7-4e02-9aa0-70c9647d1fb3",
   "metadata": {},
   "outputs": [
    {
     "data": {
      "text/plain": [
       "array([[0., 0., 0., 0., 0.],\n",
       "       [0., 0., 0., 0., 0.],\n",
       "       [0., 0., 0., 0., 0.],\n",
       "       [0., 0., 0., 0., 0.],\n",
       "       [0., 0., 0., 0., 0.]])"
      ]
     },
     "execution_count": 190,
     "metadata": {},
     "output_type": "execute_result"
    }
   ],
   "source": [
    "np.zeros((5,5))"
   ]
  },
  {
   "cell_type": "code",
   "execution_count": 191,
   "id": "fc6b6319-e1f9-483f-bd1d-259f83557997",
   "metadata": {},
   "outputs": [
    {
     "data": {
      "text/plain": [
       "array([[1., 1., 1., 1., 1., 1., 1., 1., 1., 1.],\n",
       "       [1., 1., 1., 1., 1., 1., 1., 1., 1., 1.],\n",
       "       [1., 1., 1., 1., 1., 1., 1., 1., 1., 1.],\n",
       "       [1., 1., 1., 1., 1., 1., 1., 1., 1., 1.],\n",
       "       [1., 1., 1., 1., 1., 1., 1., 1., 1., 1.],\n",
       "       [1., 1., 1., 1., 1., 1., 1., 1., 1., 1.],\n",
       "       [1., 1., 1., 1., 1., 1., 1., 1., 1., 1.],\n",
       "       [1., 1., 1., 1., 1., 1., 1., 1., 1., 1.],\n",
       "       [1., 1., 1., 1., 1., 1., 1., 1., 1., 1.],\n",
       "       [1., 1., 1., 1., 1., 1., 1., 1., 1., 1.]])"
      ]
     },
     "execution_count": 191,
     "metadata": {},
     "output_type": "execute_result"
    }
   ],
   "source": [
    "np.ones((10,10))"
   ]
  },
  {
   "cell_type": "code",
   "execution_count": 192,
   "id": "338c4e51-a7da-4b11-9e80-5f0e14763b2c",
   "metadata": {},
   "outputs": [
    {
     "data": {
      "text/plain": [
       "array([[1., 0., 0., 0., 0.],\n",
       "       [0., 1., 0., 0., 0.],\n",
       "       [0., 0., 1., 0., 0.],\n",
       "       [0., 0., 0., 1., 0.],\n",
       "       [0., 0., 0., 0., 1.]])"
      ]
     },
     "execution_count": 192,
     "metadata": {},
     "output_type": "execute_result"
    }
   ],
   "source": [
    "np.eye(5)"
   ]
  },
  {
   "cell_type": "code",
   "execution_count": 193,
   "id": "3d01ffe6-585a-44d8-9709-a9d7bc53de94",
   "metadata": {},
   "outputs": [
    {
     "data": {
      "text/plain": [
       "array([ 0.        ,  3.33333333,  6.66666667, 10.        ])"
      ]
     },
     "execution_count": 193,
     "metadata": {},
     "output_type": "execute_result"
    }
   ],
   "source": [
    "np.linspace(0,10,4)"
   ]
  },
  {
   "cell_type": "markdown",
   "id": "6941be64-28d8-473a-879d-e8b66c132f13",
   "metadata": {},
   "source": [
    "### where, any, all"
   ]
  },
  {
   "cell_type": "code",
   "execution_count": 194,
   "id": "c4baf103-7cba-4398-912a-96cf20e480e9",
   "metadata": {},
   "outputs": [
    {
     "data": {
      "text/plain": [
       "array([63, 24, 63, 22, 75, 47, 37, 45, 54, 64], dtype=int32)"
      ]
     },
     "execution_count": 194,
     "metadata": {},
     "output_type": "execute_result"
    }
   ],
   "source": [
    "data=np.random.randint(0,100,10)\n",
    "data"
   ]
  },
  {
   "cell_type": "code",
   "execution_count": 195,
   "id": "d55424f8-1375-40a2-9b75-1318b4ee8564",
   "metadata": {},
   "outputs": [
    {
     "data": {
      "text/plain": [
       "array([ True, False,  True, False,  True, False, False, False,  True,\n",
       "        True])"
      ]
     },
     "execution_count": 195,
     "metadata": {},
     "output_type": "execute_result"
    }
   ],
   "source": [
    "data>50"
   ]
  },
  {
   "cell_type": "code",
   "execution_count": 196,
   "id": "4cb85f18-5adc-4783-b0e9-be89d8d62e7e",
   "metadata": {},
   "outputs": [
    {
     "data": {
      "text/plain": [
       "array([63, 63, 75, 54, 64], dtype=int32)"
      ]
     },
     "execution_count": 196,
     "metadata": {},
     "output_type": "execute_result"
    }
   ],
   "source": [
    "data[data>50]"
   ]
  },
  {
   "cell_type": "code",
   "execution_count": 197,
   "id": "64591dc1-9d91-40b6-bc3f-d051173b3129",
   "metadata": {},
   "outputs": [
    {
     "data": {
      "text/plain": [
       "array(['high', 'low', 'high', 'low', 'high', 'low', 'low', 'low', 'high',\n",
       "       'high'], dtype='<U4')"
      ]
     },
     "execution_count": 197,
     "metadata": {},
     "output_type": "execute_result"
    }
   ],
   "source": [
    "np.where(data>50,\"high\",\"low\")"
   ]
  },
  {
   "cell_type": "code",
   "execution_count": 198,
   "id": "43ff1dfa-40ee-4ffd-b3d0-a652f9b1109f",
   "metadata": {},
   "outputs": [
    {
     "data": {
      "text/plain": [
       "np.True_"
      ]
     },
     "execution_count": 198,
     "metadata": {},
     "output_type": "execute_result"
    }
   ],
   "source": [
    "np.any(data>50)"
   ]
  },
  {
   "cell_type": "code",
   "execution_count": 199,
   "id": "1f487da4-1961-4233-ab2b-fcbd11a46fdc",
   "metadata": {},
   "outputs": [
    {
     "data": {
      "text/plain": [
       "np.False_"
      ]
     },
     "execution_count": 199,
     "metadata": {},
     "output_type": "execute_result"
    }
   ],
   "source": [
    "np.all(data>50)"
   ]
  },
  {
   "cell_type": "code",
   "execution_count": 203,
   "id": "9f523688-09a5-4603-80ad-7d5a9c8bb551",
   "metadata": {},
   "outputs": [
    {
     "data": {
      "text/plain": [
       "np.True_"
      ]
     },
     "execution_count": 203,
     "metadata": {},
     "output_type": "execute_result"
    }
   ],
   "source": [
    "np.all(data>0)"
   ]
  }
 ],
 "metadata": {
  "kernelspec": {
   "display_name": "Python 3 (ipykernel)",
   "language": "python",
   "name": "python3"
  },
  "language_info": {
   "codemirror_mode": {
    "name": "ipython",
    "version": 3
   },
   "file_extension": ".py",
   "mimetype": "text/x-python",
   "name": "python",
   "nbconvert_exporter": "python",
   "pygments_lexer": "ipython3",
   "version": "3.13.2"
  }
 },
 "nbformat": 4,
 "nbformat_minor": 5
}
