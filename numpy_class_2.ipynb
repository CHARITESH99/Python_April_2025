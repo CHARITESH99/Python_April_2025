{
 "cells": [
  {
   "cell_type": "code",
   "execution_count": 1,
   "id": "abbf548b-6f1a-4e4c-8a70-6a3aaeb987fe",
   "metadata": {},
   "outputs": [],
   "source": [
    "import numpy as np"
   ]
  },
  {
   "cell_type": "code",
   "execution_count": 2,
   "id": "42d6bfc5-2e34-462a-b0df-a90cc09a1d10",
   "metadata": {},
   "outputs": [],
   "source": [
    "array = np.random.randint(0,10,10)"
   ]
  },
  {
   "cell_type": "code",
   "execution_count": 3,
   "id": "bb3862e2-a38e-46ab-a2ae-5ba0543ded03",
   "metadata": {},
   "outputs": [
    {
     "data": {
      "text/plain": [
       "array([3, 0, 1, 3, 6, 5, 8, 8, 8, 0], dtype=int32)"
      ]
     },
     "execution_count": 3,
     "metadata": {},
     "output_type": "execute_result"
    }
   ],
   "source": [
    "array"
   ]
  },
  {
   "cell_type": "code",
   "execution_count": 5,
   "id": "ff0f26ad-7be2-4542-a802-3d97b3f61297",
   "metadata": {},
   "outputs": [
    {
     "data": {
      "text/plain": [
       "(10,)"
      ]
     },
     "execution_count": 5,
     "metadata": {},
     "output_type": "execute_result"
    }
   ],
   "source": [
    "array.shape"
   ]
  },
  {
   "cell_type": "code",
   "execution_count": 6,
   "id": "15db70d1-9426-40ab-bead-e79b1044f225",
   "metadata": {},
   "outputs": [
    {
     "data": {
      "text/plain": [
       "array([[3, 0, 1, 3, 6, 5, 8, 8, 8, 0]], dtype=int32)"
      ]
     },
     "execution_count": 6,
     "metadata": {},
     "output_type": "execute_result"
    }
   ],
   "source": [
    "array.reshape(1,10)"
   ]
  },
  {
   "cell_type": "code",
   "execution_count": 7,
   "id": "30ef3e8b-52e9-449a-a17b-d6008a0b0a76",
   "metadata": {},
   "outputs": [],
   "source": [
    "data=np.random.randint(0,10,(3,3))"
   ]
  },
  {
   "cell_type": "code",
   "execution_count": 8,
   "id": "ad57dff9-a7a6-424d-8d5a-be76991a08c6",
   "metadata": {},
   "outputs": [
    {
     "data": {
      "text/plain": [
       "array([[6, 8, 0],\n",
       "       [2, 2, 0],\n",
       "       [6, 6, 0]], dtype=int32)"
      ]
     },
     "execution_count": 8,
     "metadata": {},
     "output_type": "execute_result"
    }
   ],
   "source": [
    "data"
   ]
  },
  {
   "cell_type": "code",
   "execution_count": 9,
   "id": "6e0913a8-fcc0-4138-bc26-e05ad1ad6d04",
   "metadata": {},
   "outputs": [],
   "source": [
    "y = data.ravel()"
   ]
  },
  {
   "cell_type": "code",
   "execution_count": 10,
   "id": "6d1f4eee-cafc-47da-a152-e24493450f6a",
   "metadata": {},
   "outputs": [
    {
     "data": {
      "text/plain": [
       "array([6, 8, 0, 2, 2, 0, 6, 6, 0], dtype=int32)"
      ]
     },
     "execution_count": 10,
     "metadata": {},
     "output_type": "execute_result"
    }
   ],
   "source": [
    "y"
   ]
  },
  {
   "cell_type": "code",
   "execution_count": 11,
   "id": "f035652c-0ead-48bd-ba36-401711815eac",
   "metadata": {},
   "outputs": [],
   "source": [
    "y[0]=200"
   ]
  },
  {
   "cell_type": "code",
   "execution_count": 12,
   "id": "760e50a2-440f-47dc-a607-cb91b86ad489",
   "metadata": {},
   "outputs": [
    {
     "data": {
      "text/plain": [
       "array([200,   8,   0,   2,   2,   0,   6,   6,   0], dtype=int32)"
      ]
     },
     "execution_count": 12,
     "metadata": {},
     "output_type": "execute_result"
    }
   ],
   "source": [
    "y"
   ]
  },
  {
   "cell_type": "code",
   "execution_count": 13,
   "id": "6bafc98f-07cc-49f5-97a3-88501ea7deaf",
   "metadata": {},
   "outputs": [
    {
     "data": {
      "text/plain": [
       "array([[200,   8,   0],\n",
       "       [  2,   2,   0],\n",
       "       [  6,   6,   0]], dtype=int32)"
      ]
     },
     "execution_count": 13,
     "metadata": {},
     "output_type": "execute_result"
    }
   ],
   "source": [
    "data"
   ]
  },
  {
   "cell_type": "code",
   "execution_count": 15,
   "id": "a1df9035-0bf0-4142-8de9-68abe5cf9f29",
   "metadata": {},
   "outputs": [],
   "source": [
    "data=np.random.randint(0,10,(3,3))"
   ]
  },
  {
   "cell_type": "code",
   "execution_count": 16,
   "id": "a6b150d1-9042-4a98-a40f-f1463722078f",
   "metadata": {},
   "outputs": [
    {
     "data": {
      "text/plain": [
       "array([[3, 7, 0],\n",
       "       [0, 6, 0],\n",
       "       [2, 3, 7]], dtype=int32)"
      ]
     },
     "execution_count": 16,
     "metadata": {},
     "output_type": "execute_result"
    }
   ],
   "source": [
    "data"
   ]
  },
  {
   "cell_type": "code",
   "execution_count": 17,
   "id": "b847cc3d-5fa5-4fe8-b7de-54ce4e65ee17",
   "metadata": {},
   "outputs": [],
   "source": [
    "x = data.flatten()"
   ]
  },
  {
   "cell_type": "code",
   "execution_count": 18,
   "id": "208537a0-7ee3-4d12-9c3a-de3d75c03026",
   "metadata": {},
   "outputs": [
    {
     "data": {
      "text/plain": [
       "array([3, 7, 0, 0, 6, 0, 2, 3, 7], dtype=int32)"
      ]
     },
     "execution_count": 18,
     "metadata": {},
     "output_type": "execute_result"
    }
   ],
   "source": [
    "x"
   ]
  },
  {
   "cell_type": "code",
   "execution_count": 19,
   "id": "1dd37ec0-95e2-461f-915b-5893d31f0256",
   "metadata": {},
   "outputs": [],
   "source": [
    "x[0]=500"
   ]
  },
  {
   "cell_type": "code",
   "execution_count": 20,
   "id": "c59cb306-8106-4fdb-8cd6-853a03367dde",
   "metadata": {},
   "outputs": [
    {
     "data": {
      "text/plain": [
       "array([500,   7,   0,   0,   6,   0,   2,   3,   7], dtype=int32)"
      ]
     },
     "execution_count": 20,
     "metadata": {},
     "output_type": "execute_result"
    }
   ],
   "source": [
    "x"
   ]
  },
  {
   "cell_type": "code",
   "execution_count": 21,
   "id": "df63471b-4223-40f8-87ed-182e52faecc2",
   "metadata": {},
   "outputs": [
    {
     "data": {
      "text/plain": [
       "array([[3, 7, 0],\n",
       "       [0, 6, 0],\n",
       "       [2, 3, 7]], dtype=int32)"
      ]
     },
     "execution_count": 21,
     "metadata": {},
     "output_type": "execute_result"
    }
   ],
   "source": [
    "data"
   ]
  },
  {
   "cell_type": "code",
   "execution_count": 22,
   "id": "e2c90ff3-11fa-4bc4-b91f-8937889dbd92",
   "metadata": {},
   "outputs": [],
   "source": [
    "data = np.random.randint(0,10,(3,3))"
   ]
  },
  {
   "cell_type": "code",
   "execution_count": 23,
   "id": "bd367827-01f9-4277-b851-8d534d472996",
   "metadata": {},
   "outputs": [
    {
     "data": {
      "text/plain": [
       "array([[1, 3, 4],\n",
       "       [6, 0, 0],\n",
       "       [3, 3, 8]], dtype=int32)"
      ]
     },
     "execution_count": 23,
     "metadata": {},
     "output_type": "execute_result"
    }
   ],
   "source": [
    "data"
   ]
  },
  {
   "cell_type": "code",
   "execution_count": 24,
   "id": "27f91bd4-2abc-45b0-829a-c3e63600a2c8",
   "metadata": {},
   "outputs": [
    {
     "data": {
      "text/plain": [
       "array([[1, 6, 3],\n",
       "       [3, 0, 3],\n",
       "       [4, 0, 8]], dtype=int32)"
      ]
     },
     "execution_count": 24,
     "metadata": {},
     "output_type": "execute_result"
    }
   ],
   "source": [
    "data.T"
   ]
  },
  {
   "cell_type": "code",
   "execution_count": 25,
   "id": "a9275fa4-8796-455d-8c1c-22a7feb11134",
   "metadata": {},
   "outputs": [],
   "source": [
    "x=np.random.randint(0,10,(3,3))"
   ]
  },
  {
   "cell_type": "code",
   "execution_count": 26,
   "id": "fb21b421-7e7a-4d6f-8985-10c2056f83d3",
   "metadata": {},
   "outputs": [],
   "source": [
    "y=np.random.randint(0,10,(3,3))"
   ]
  },
  {
   "cell_type": "code",
   "execution_count": 27,
   "id": "4206a9c5-257f-4f4a-8a94-34c9ca140c5b",
   "metadata": {},
   "outputs": [
    {
     "data": {
      "text/plain": [
       "array([[4, 6, 2],\n",
       "       [7, 4, 4],\n",
       "       [8, 5, 5]], dtype=int32)"
      ]
     },
     "execution_count": 27,
     "metadata": {},
     "output_type": "execute_result"
    }
   ],
   "source": [
    "x"
   ]
  },
  {
   "cell_type": "code",
   "execution_count": 28,
   "id": "3376fc35-c369-4ebb-b709-7ac2450cb9ed",
   "metadata": {},
   "outputs": [
    {
     "data": {
      "text/plain": [
       "array([[7, 5, 1],\n",
       "       [6, 2, 2],\n",
       "       [4, 9, 9]], dtype=int32)"
      ]
     },
     "execution_count": 28,
     "metadata": {},
     "output_type": "execute_result"
    }
   ],
   "source": [
    "y"
   ]
  },
  {
   "cell_type": "code",
   "execution_count": 29,
   "id": "04c45835-d58c-425b-99b9-d19ccbd57cf2",
   "metadata": {},
   "outputs": [
    {
     "data": {
      "text/plain": [
       "array([[4, 6, 2],\n",
       "       [7, 4, 4],\n",
       "       [8, 5, 5],\n",
       "       [7, 5, 1],\n",
       "       [6, 2, 2],\n",
       "       [4, 9, 9]], dtype=int32)"
      ]
     },
     "execution_count": 29,
     "metadata": {},
     "output_type": "execute_result"
    }
   ],
   "source": [
    "np.vstack((x,y))"
   ]
  },
  {
   "cell_type": "code",
   "execution_count": 30,
   "id": "8db6bba2-1d9c-4b04-8463-fae41bccb996",
   "metadata": {},
   "outputs": [
    {
     "data": {
      "text/plain": [
       "array([[4, 6, 2, 7, 5, 1],\n",
       "       [7, 4, 4, 6, 2, 2],\n",
       "       [8, 5, 5, 4, 9, 9]], dtype=int32)"
      ]
     },
     "execution_count": 30,
     "metadata": {},
     "output_type": "execute_result"
    }
   ],
   "source": [
    "np.hstack((x,y))"
   ]
  },
  {
   "cell_type": "code",
   "execution_count": 31,
   "id": "bcb2d0a1-47d6-44cb-b70a-778e95e243c6",
   "metadata": {},
   "outputs": [],
   "source": [
    "data=np.random.randint(0,10,(4,4))"
   ]
  },
  {
   "cell_type": "code",
   "execution_count": 32,
   "id": "3a499ff4-a2c6-4854-ba25-341414735721",
   "metadata": {},
   "outputs": [
    {
     "data": {
      "text/plain": [
       "array([[3, 8, 3, 6],\n",
       "       [2, 0, 3, 6],\n",
       "       [4, 5, 5, 6],\n",
       "       [7, 3, 8, 0]], dtype=int32)"
      ]
     },
     "execution_count": 32,
     "metadata": {},
     "output_type": "execute_result"
    }
   ],
   "source": [
    "data"
   ]
  },
  {
   "cell_type": "code",
   "execution_count": 33,
   "id": "0e1ee5c6-7f10-4de4-bffd-f47b260e4508",
   "metadata": {},
   "outputs": [
    {
     "data": {
      "text/plain": [
       "[array([[3, 8, 3, 6],\n",
       "        [2, 0, 3, 6]], dtype=int32),\n",
       " array([[4, 5, 5, 6],\n",
       "        [7, 3, 8, 0]], dtype=int32)]"
      ]
     },
     "execution_count": 33,
     "metadata": {},
     "output_type": "execute_result"
    }
   ],
   "source": [
    "np.split(data,2,axis = 0)"
   ]
  },
  {
   "cell_type": "code",
   "execution_count": 34,
   "id": "060757eb-e27a-493c-821f-34cb052808f9",
   "metadata": {},
   "outputs": [
    {
     "data": {
      "text/plain": [
       "[array([[3, 8],\n",
       "        [2, 0],\n",
       "        [4, 5],\n",
       "        [7, 3]], dtype=int32),\n",
       " array([[3, 6],\n",
       "        [3, 6],\n",
       "        [5, 6],\n",
       "        [8, 0]], dtype=int32)]"
      ]
     },
     "execution_count": 34,
     "metadata": {},
     "output_type": "execute_result"
    }
   ],
   "source": [
    "np.split(data,2,axis = 1)"
   ]
  },
  {
   "cell_type": "code",
   "execution_count": 35,
   "id": "a85c4516-9865-40e3-bfcc-97a32884bc03",
   "metadata": {},
   "outputs": [
    {
     "data": {
      "text/plain": [
       "[array([[3, 8, 3, 6],\n",
       "        [2, 0, 3, 6]], dtype=int32),\n",
       " array([[4, 5, 5, 6],\n",
       "        [7, 3, 8, 0]], dtype=int32)]"
      ]
     },
     "execution_count": 35,
     "metadata": {},
     "output_type": "execute_result"
    }
   ],
   "source": [
    "np.vsplit(data,2)"
   ]
  },
  {
   "cell_type": "code",
   "execution_count": 36,
   "id": "be75fb2d-919f-431b-8e75-e3f56331acca",
   "metadata": {},
   "outputs": [
    {
     "data": {
      "text/plain": [
       "[array([[3, 8],\n",
       "        [2, 0],\n",
       "        [4, 5],\n",
       "        [7, 3]], dtype=int32),\n",
       " array([[3, 6],\n",
       "        [3, 6],\n",
       "        [5, 6],\n",
       "        [8, 0]], dtype=int32)]"
      ]
     },
     "execution_count": 36,
     "metadata": {},
     "output_type": "execute_result"
    }
   ],
   "source": [
    "np.hsplit(data,2)"
   ]
  },
  {
   "cell_type": "markdown",
   "id": "da3de0e9-c01d-4d91-85db-3f791492da33",
   "metadata": {},
   "source": [
    "### Set Functions"
   ]
  },
  {
   "cell_type": "code",
   "execution_count": 37,
   "id": "767da125-9265-436d-8a97-8563d93fe39e",
   "metadata": {},
   "outputs": [],
   "source": [
    "a = np.array([1, 2, 3, 4, 5, 2, 3])\n",
    "b = np.array([4, 5, 6, 7])"
   ]
  },
  {
   "cell_type": "code",
   "execution_count": 38,
   "id": "53a27e19-6540-402a-89aa-cc152c6e8be7",
   "metadata": {},
   "outputs": [
    {
     "data": {
      "text/plain": [
       "array([1, 2, 3, 4, 5, 2, 3])"
      ]
     },
     "execution_count": 38,
     "metadata": {},
     "output_type": "execute_result"
    }
   ],
   "source": [
    "a"
   ]
  },
  {
   "cell_type": "code",
   "execution_count": 39,
   "id": "f74d5eb9-5339-40d6-82da-207de4a34ef7",
   "metadata": {},
   "outputs": [
    {
     "data": {
      "text/plain": [
       "array([4, 5, 6, 7])"
      ]
     },
     "execution_count": 39,
     "metadata": {},
     "output_type": "execute_result"
    }
   ],
   "source": [
    "b"
   ]
  },
  {
   "cell_type": "code",
   "execution_count": 40,
   "id": "b0c0f127-957e-4620-a1e3-2a878a448d42",
   "metadata": {},
   "outputs": [
    {
     "data": {
      "text/plain": [
       "array([1, 2, 3, 4, 5])"
      ]
     },
     "execution_count": 40,
     "metadata": {},
     "output_type": "execute_result"
    }
   ],
   "source": [
    "np.unique(a)"
   ]
  },
  {
   "cell_type": "code",
   "execution_count": 41,
   "id": "57f97e1f-484e-426f-963e-c5d2475a15ec",
   "metadata": {},
   "outputs": [
    {
     "data": {
      "text/plain": [
       "array([4, 5])"
      ]
     },
     "execution_count": 41,
     "metadata": {},
     "output_type": "execute_result"
    }
   ],
   "source": [
    "np.intersect1d(a,b)"
   ]
  },
  {
   "cell_type": "code",
   "execution_count": 42,
   "id": "91e1f2c1-7c07-4f54-9ec9-f4dbc0bb1fac",
   "metadata": {},
   "outputs": [
    {
     "data": {
      "text/plain": [
       "array([6, 7])"
      ]
     },
     "execution_count": 42,
     "metadata": {},
     "output_type": "execute_result"
    }
   ],
   "source": [
    "np.setdiff1d(b,a)"
   ]
  },
  {
   "cell_type": "code",
   "execution_count": 45,
   "id": "5a764593-9f9d-4f87-902b-ca918c979842",
   "metadata": {},
   "outputs": [
    {
     "name": "stderr",
     "output_type": "stream",
     "text": [
      "C:\\Users\\cherry\\AppData\\Local\\Temp\\ipykernel_1920\\1278926644.py:1: DeprecationWarning: `in1d` is deprecated. Use `np.isin` instead.\n",
      "  np.in1d(a,b)\n"
     ]
    },
    {
     "data": {
      "text/plain": [
       "array([False, False, False,  True,  True, False, False])"
      ]
     },
     "execution_count": 45,
     "metadata": {},
     "output_type": "execute_result"
    }
   ],
   "source": [
    "np.in1d(a,b)"
   ]
  },
  {
   "cell_type": "markdown",
   "id": "beac2e2d-f17c-489a-b9d0-caf876711901",
   "metadata": {},
   "source": [
    "## Some Examples "
   ]
  },
  {
   "cell_type": "code",
   "execution_count": 46,
   "id": "159d6a8c-f987-4ac3-b101-25157989b71c",
   "metadata": {},
   "outputs": [],
   "source": [
    "sales=np.random.randint(10,100,10)"
   ]
  },
  {
   "cell_type": "code",
   "execution_count": 47,
   "id": "0654b587-1cda-499c-8117-8f1485c3655f",
   "metadata": {},
   "outputs": [
    {
     "data": {
      "text/plain": [
       "array([27, 17, 16, 98, 26, 68, 72, 41, 19, 87], dtype=int32)"
      ]
     },
     "execution_count": 47,
     "metadata": {},
     "output_type": "execute_result"
    }
   ],
   "source": [
    "sales"
   ]
  },
  {
   "cell_type": "code",
   "execution_count": 48,
   "id": "1cc1925e-ca07-400f-a6ee-80cc88d9e4ae",
   "metadata": {},
   "outputs": [
    {
     "data": {
      "text/plain": [
       "array([98, 68, 72, 87], dtype=int32)"
      ]
     },
     "execution_count": 48,
     "metadata": {},
     "output_type": "execute_result"
    }
   ],
   "source": [
    "sales[sales>50]"
   ]
  },
  {
   "cell_type": "code",
   "execution_count": 49,
   "id": "38540aaf-0957-4153-be2d-47752127042a",
   "metadata": {},
   "outputs": [
    {
     "data": {
      "text/plain": [
       "array([98, 68, 72, 87], dtype=int32)"
      ]
     },
     "execution_count": 49,
     "metadata": {},
     "output_type": "execute_result"
    }
   ],
   "source": [
    "sales[sales>sales.mean()]"
   ]
  },
  {
   "cell_type": "code",
   "execution_count": 50,
   "id": "197aa2d5-98a3-44c7-84f4-0206e4d2ebbc",
   "metadata": {},
   "outputs": [
    {
     "data": {
      "text/plain": [
       "np.float64(47.1)"
      ]
     },
     "execution_count": 50,
     "metadata": {},
     "output_type": "execute_result"
    }
   ],
   "source": [
    "sales.mean()"
   ]
  },
  {
   "cell_type": "code",
   "execution_count": 51,
   "id": "d45f8ef8-e8ee-4241-b448-b82d4ba2d7e4",
   "metadata": {},
   "outputs": [
    {
     "data": {
      "text/plain": [
       "array([27, 17, 16, 26, 41, 19], dtype=int32)"
      ]
     },
     "execution_count": 51,
     "metadata": {},
     "output_type": "execute_result"
    }
   ],
   "source": [
    "sales[sales<=sales.mean()]"
   ]
  },
  {
   "cell_type": "code",
   "execution_count": 52,
   "id": "adf84904-2c55-4149-a97b-c125b1903b77",
   "metadata": {},
   "outputs": [],
   "source": [
    "sales=np.random.randint(1,100,(10,5))"
   ]
  },
  {
   "cell_type": "code",
   "execution_count": 53,
   "id": "271da491-2c62-4c34-b161-5bbf6412e833",
   "metadata": {},
   "outputs": [
    {
     "data": {
      "text/plain": [
       "array([[98, 87, 94, 89, 29],\n",
       "       [27, 30, 90, 89, 69],\n",
       "       [86, 87, 93, 82, 60],\n",
       "       [31, 89, 90, 88, 66],\n",
       "       [ 5, 96, 90, 21, 45],\n",
       "       [ 2, 83,  5, 91, 21],\n",
       "       [45, 30, 55, 75, 13],\n",
       "       [42, 13, 93, 27, 41],\n",
       "       [62, 44, 67, 64, 77],\n",
       "       [34, 41, 88, 19, 91]], dtype=int32)"
      ]
     },
     "execution_count": 53,
     "metadata": {},
     "output_type": "execute_result"
    }
   ],
   "source": [
    "sales"
   ]
  },
  {
   "cell_type": "code",
   "execution_count": 54,
   "id": "e7132c79-2939-4de4-8765-3d613a0260bd",
   "metadata": {},
   "outputs": [
    {
     "data": {
      "text/plain": [
       "array([397, 305, 408, 364, 257, 202, 218, 216, 314, 273])"
      ]
     },
     "execution_count": 54,
     "metadata": {},
     "output_type": "execute_result"
    }
   ],
   "source": [
    "sales.sum(axis=1)"
   ]
  },
  {
   "cell_type": "code",
   "execution_count": 55,
   "id": "81aedb97-aa58-4157-acf1-55adc389aeab",
   "metadata": {},
   "outputs": [
    {
     "data": {
      "text/plain": [
       "array([432, 600, 765, 645, 512])"
      ]
     },
     "execution_count": 55,
     "metadata": {},
     "output_type": "execute_result"
    }
   ],
   "source": [
    "sales.sum(axis=0)"
   ]
  },
  {
   "cell_type": "code",
   "execution_count": 56,
   "id": "68986617-3498-4522-9ec0-bc6e7a38e37c",
   "metadata": {},
   "outputs": [
    {
     "data": {
      "text/plain": [
       "array([98, 27, 86, 31,  5,  2, 45, 42, 62, 34], dtype=int32)"
      ]
     },
     "execution_count": 56,
     "metadata": {},
     "output_type": "execute_result"
    }
   ],
   "source": [
    "sales[:,0]"
   ]
  },
  {
   "cell_type": "code",
   "execution_count": 58,
   "id": "57596500-b5d7-418a-96a6-f83d7e8b0842",
   "metadata": {},
   "outputs": [
    {
     "data": {
      "text/plain": [
       "np.int32(98)"
      ]
     },
     "execution_count": 58,
     "metadata": {},
     "output_type": "execute_result"
    }
   ],
   "source": [
    "sales[:,0].max()"
   ]
  },
  {
   "cell_type": "code",
   "execution_count": 59,
   "id": "5c059c21-0d45-48ec-96d3-4a036bdbce14",
   "metadata": {},
   "outputs": [
    {
     "data": {
      "text/plain": [
       "np.int64(1)"
      ]
     },
     "execution_count": 59,
     "metadata": {},
     "output_type": "execute_result"
    }
   ],
   "source": [
    "sales[:,0].argmax()+1"
   ]
  },
  {
   "cell_type": "code",
   "execution_count": 60,
   "id": "2c2c920e-fa42-4313-8f07-40e6e4ef0838",
   "metadata": {},
   "outputs": [
    {
     "data": {
      "text/plain": [
       "array([43.2, 60. , 76.5, 64.5, 51.2])"
      ]
     },
     "execution_count": 60,
     "metadata": {},
     "output_type": "execute_result"
    }
   ],
   "source": [
    "sales.mean(axis=0)"
   ]
  },
  {
   "cell_type": "code",
   "execution_count": 61,
   "id": "5d0ac190-d546-4df5-844e-50503d689d2e",
   "metadata": {},
   "outputs": [
    {
     "data": {
      "text/plain": [
       "np.int64(3)"
      ]
     },
     "execution_count": 61,
     "metadata": {},
     "output_type": "execute_result"
    }
   ],
   "source": [
    "sales.mean(axis=0).argmax()+1"
   ]
  },
  {
   "cell_type": "code",
   "execution_count": 62,
   "id": "a2746f34-3288-4aa5-9971-cc938b814ae5",
   "metadata": {},
   "outputs": [
    {
     "data": {
      "text/plain": [
       "array([[98, 87, 94, 89, 29],\n",
       "       [27, 30, 90, 89, 69],\n",
       "       [86, 87, 93, 82, 60],\n",
       "       [31, 89, 90, 88, 66],\n",
       "       [ 5, 96, 90, 21, 45],\n",
       "       [ 2, 83,  5, 91, 21],\n",
       "       [45, 30, 55, 75, 13],\n",
       "       [42, 13, 93, 27, 41],\n",
       "       [62, 44, 67, 64, 77],\n",
       "       [34, 41, 88, 19, 91]], dtype=int32)"
      ]
     },
     "execution_count": 62,
     "metadata": {},
     "output_type": "execute_result"
    }
   ],
   "source": [
    "sales"
   ]
  },
  {
   "cell_type": "code",
   "execution_count": 63,
   "id": "81f1b2ca-2c5c-474c-99cb-5011dcc996c6",
   "metadata": {},
   "outputs": [
    {
     "data": {
      "text/plain": [
       "np.int64(0)"
      ]
     },
     "execution_count": 63,
     "metadata": {},
     "output_type": "execute_result"
    }
   ],
   "source": [
    "(sales[:,0]/sales[:,2]).argmax()"
   ]
  },
  {
   "cell_type": "code",
   "execution_count": 64,
   "id": "0e0141f1-1e5e-4aa2-8857-0211e6377479",
   "metadata": {},
   "outputs": [
    {
     "data": {
      "text/plain": [
       "array([1, 0, 0, 0, 0, 0, 0, 0, 0, 0])"
      ]
     },
     "execution_count": 64,
     "metadata": {},
     "output_type": "execute_result"
    }
   ],
   "source": [
    "(sales[:,0]/sales[:,2]).astype(int)"
   ]
  },
  {
   "cell_type": "code",
   "execution_count": 65,
   "id": "c72c01bd-9b1a-4d1a-8fdb-cc2eb90039fc",
   "metadata": {},
   "outputs": [
    {
     "name": "stdout",
     "output_type": "stream",
     "text": [
      "[[11 86 30 35 20  0]\n",
      " [63 66  3  1 47  1]\n",
      " [21 52 80 74 71  0]\n",
      " [71 58 79 90 44  1]\n",
      " [35 64 79 23 50  0]\n",
      " [19 42 84 59 59  0]\n",
      " [68 11 27 27 89  1]\n",
      " [99 27  5 14 72  0]\n",
      " [10 96 61 18 80  1]\n",
      " [18 33 18 52 78  0]]\n"
     ]
    }
   ],
   "source": [
    "import numpy as np\n",
    "\n",
    "data = np.array([\n",
    "    [11, 86, 30, 35, 20, 0],\n",
    "    [63, 66, 3, 1, 47, 1],\n",
    "    [21, 52, 80, 74, 71, 0],\n",
    "    [71, 58, 79, 90, 44, 1],\n",
    "    [35, 64, 79, 23, 50, 0],\n",
    "    [19, 42, 84, 59, 59, 0],\n",
    "    [68, 11, 27, 27, 89, 1],\n",
    "    [99, 27, 5, 14, 72, 0],\n",
    "    [10, 96, 61, 18, 80, 1],\n",
    "    [18, 33, 18, 52, 78, 0]\n",
    "])\n",
    "\n",
    "print(data)"
   ]
  },
  {
   "cell_type": "code",
   "execution_count": 66,
   "id": "03ca9cc9-58dc-41c8-b47b-b05faf77427d",
   "metadata": {},
   "outputs": [
    {
     "data": {
      "text/plain": [
       "array([[11, 86, 30, 35, 20,  0],\n",
       "       [21, 52, 80, 74, 71,  0],\n",
       "       [35, 64, 79, 23, 50,  0],\n",
       "       [19, 42, 84, 59, 59,  0],\n",
       "       [99, 27,  5, 14, 72,  0],\n",
       "       [18, 33, 18, 52, 78,  0]])"
      ]
     },
     "execution_count": 66,
     "metadata": {},
     "output_type": "execute_result"
    }
   ],
   "source": [
    "data[data[:,-1]==0]"
   ]
  },
  {
   "cell_type": "code",
   "execution_count": 67,
   "id": "d7256c7d-c0b2-426b-a5a1-a9714d292056",
   "metadata": {},
   "outputs": [
    {
     "data": {
      "text/plain": [
       "array([[63, 66,  3,  1, 47,  1],\n",
       "       [71, 58, 79, 90, 44,  1],\n",
       "       [68, 11, 27, 27, 89,  1],\n",
       "       [10, 96, 61, 18, 80,  1]])"
      ]
     },
     "execution_count": 67,
     "metadata": {},
     "output_type": "execute_result"
    }
   ],
   "source": [
    "data[data[:,-1]==1]"
   ]
  },
  {
   "cell_type": "code",
   "execution_count": 68,
   "id": "354f1402-afd8-47a0-b822-ad7828c62c7f",
   "metadata": {},
   "outputs": [
    {
     "name": "stdout",
     "output_type": "stream",
     "text": [
      "No drive through stores are giving more sales\n"
     ]
    }
   ],
   "source": [
    "if data[data[:,-1]==0].sum()>data[data[:,-1]==1].sum():\n",
    "    print(\"No drive through stores are giving more sales\")\n",
    "else:\n",
    "    print(\"yes\")"
   ]
  },
  {
   "cell_type": "code",
   "execution_count": 69,
   "id": "45c36ca7-8061-47c8-ac07-9d93559d945f",
   "metadata": {},
   "outputs": [
    {
     "data": {
      "text/plain": [
       "np.int64(1410)"
      ]
     },
     "execution_count": 69,
     "metadata": {},
     "output_type": "execute_result"
    }
   ],
   "source": [
    "data[data[:,-1]==0].sum()"
   ]
  },
  {
   "cell_type": "code",
   "execution_count": 70,
   "id": "735b7d08-1ca2-4a73-a9e6-889b10dd38b9",
   "metadata": {},
   "outputs": [
    {
     "data": {
      "text/plain": [
       "np.int64(1013)"
      ]
     },
     "execution_count": 70,
     "metadata": {},
     "output_type": "execute_result"
    }
   ],
   "source": [
    "data[data[:,-1]==1].sum()"
   ]
  }
 ],
 "metadata": {
  "kernelspec": {
   "display_name": "Python 3 (ipykernel)",
   "language": "python",
   "name": "python3"
  },
  "language_info": {
   "codemirror_mode": {
    "name": "ipython",
    "version": 3
   },
   "file_extension": ".py",
   "mimetype": "text/x-python",
   "name": "python",
   "nbconvert_exporter": "python",
   "pygments_lexer": "ipython3",
   "version": "3.13.2"
  }
 },
 "nbformat": 4,
 "nbformat_minor": 5
}
