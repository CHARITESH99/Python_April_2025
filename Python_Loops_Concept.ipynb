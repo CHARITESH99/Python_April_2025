{
 "cells": [
  {
   "cell_type": "code",
   "execution_count": 1,
   "id": "19a01d1c-db0b-45bb-98a4-460dd8cedae1",
   "metadata": {},
   "outputs": [
    {
     "name": "stdout",
     "output_type": "stream",
     "text": [
      "5\n",
      "4\n",
      "8\n"
     ]
    }
   ],
   "source": [
    "x=548\n",
    "for i in str(x):\n",
    "    print(i)"
   ]
  },
  {
   "cell_type": "code",
   "execution_count": 2,
   "id": "211a8938-09d9-47eb-a6ee-94374bf43b6f",
   "metadata": {},
   "outputs": [
    {
     "name": "stdout",
     "output_type": "stream",
     "text": [
      "4\n"
     ]
    }
   ],
   "source": [
    "for i in range(1,10,3):\n",
    "    if i%2==0:\n",
    "        print(i)"
   ]
  },
  {
   "cell_type": "code",
   "execution_count": 3,
   "id": "914ddaa1-e9dc-4327-ba5b-342d646786f5",
   "metadata": {},
   "outputs": [
    {
     "name": "stdout",
     "output_type": "stream",
     "text": [
      "2\n",
      "3\n",
      "4\n",
      "5\n",
      "6\n",
      "7\n"
     ]
    }
   ],
   "source": [
    "x=\"cherry\"\n",
    "for i in range(0,len(x)):\n",
    "    print(i+2)"
   ]
  },
  {
   "cell_type": "code",
   "execution_count": 4,
   "id": "0dcefd7c-a1ca-4a9e-acd6-5d933c4db743",
   "metadata": {},
   "outputs": [],
   "source": [
    "review=\"Very Bad refrigerator recived it looks good from front but from back its screw are loose and looks like a second hand product , and the return process is very slow so much calls are done by me to amazon coustomer care service for the return of this refrigerator and courier service can't came to pick up the product , so Headache 🥴🥴 while purchasing online a refrigerator it Literally waste My so much time , last line is that Don't Buy and waste your time 👍 Very Disappointed 😑😑 \""
   ]
  },
  {
   "cell_type": "code",
   "execution_count": 5,
   "id": "c446d8fa-acf9-44ea-8817-37e1891e8e7f",
   "metadata": {},
   "outputs": [
    {
     "data": {
      "text/plain": [
       "\"Very Bad refrigerator recived it looks good from front but from back its screw are loose and looks like a second hand product , and the return process is very slow so much calls are done by me to amazon coustomer care service for the return of this refrigerator and courier service can't came to pick up the product , so Headache 🥴🥴 while purchasing online a refrigerator it Literally waste My so much time , last line is that Don't Buy and waste your time 👍 Very Disappointed 😑😑 \""
      ]
     },
     "execution_count": 5,
     "metadata": {},
     "output_type": "execute_result"
    }
   ],
   "source": [
    "review"
   ]
  },
  {
   "cell_type": "markdown",
   "id": "651c34e3-cb54-48ff-95cf-eab50d194ca7",
   "metadata": {},
   "source": [
    "#### Total length of the review including special characters like space, emojis"
   ]
  },
  {
   "cell_type": "code",
   "execution_count": 6,
   "id": "c0bc4caa-b0e3-4a39-81ac-cc38991633c2",
   "metadata": {},
   "outputs": [
    {
     "data": {
      "text/plain": [
       "480"
      ]
     },
     "execution_count": 6,
     "metadata": {},
     "output_type": "execute_result"
    }
   ],
   "source": [
    "len(review)"
   ]
  },
  {
   "cell_type": "markdown",
   "id": "dfca95b0-7388-4992-b87d-9bcbdaca6abe",
   "metadata": {},
   "source": [
    "#### Counting the number of special characters like spaces, commas, emojis"
   ]
  },
  {
   "cell_type": "code",
   "execution_count": 10,
   "id": "30e5479e-777a-4e1e-b8a4-543ae4419fc5",
   "metadata": {},
   "outputs": [
    {
     "name": "stdout",
     "output_type": "stream",
     "text": [
      " \n",
      " \n",
      " \n",
      " \n",
      " \n",
      " \n",
      " \n",
      " \n",
      " \n",
      " \n",
      " \n",
      " \n",
      " \n",
      " \n",
      " \n",
      " \n",
      " \n",
      " \n",
      " \n",
      " \n",
      " \n",
      " \n",
      " \n",
      ",\n",
      " \n",
      " \n",
      " \n",
      " \n",
      " \n",
      " \n",
      " \n",
      " \n",
      " \n",
      " \n",
      " \n",
      " \n",
      " \n",
      " \n",
      " \n",
      " \n",
      " \n",
      " \n",
      " \n",
      " \n",
      " \n",
      " \n",
      " \n",
      " \n",
      " \n",
      " \n",
      " \n",
      " \n",
      " \n",
      "'\n",
      " \n",
      " \n",
      " \n",
      " \n",
      " \n",
      " \n",
      " \n",
      ",\n",
      " \n",
      " \n",
      " \n",
      "🥴\n",
      "🥴\n",
      " \n",
      " \n",
      " \n",
      " \n",
      " \n",
      " \n",
      " \n",
      " \n",
      " \n",
      " \n",
      " \n",
      " \n",
      " \n",
      ",\n",
      " \n",
      " \n",
      " \n",
      " \n",
      " \n",
      "'\n",
      " \n",
      " \n",
      " \n",
      " \n",
      " \n",
      " \n",
      "👍\n",
      " \n",
      " \n",
      " \n",
      "😑\n",
      "😑\n",
      " \n",
      "Total number of special characters:  100\n"
     ]
    }
   ],
   "source": [
    "count = 0\n",
    "for i in review:\n",
    "    if not(i.isalnum()):\n",
    "        print(i)\n",
    "        count = count + 1\n",
    "print(\"Total number of special characters: \", count)"
   ]
  },
  {
   "cell_type": "markdown",
   "id": "73bf0090-8b13-40e4-a40b-2ff6bb232562",
   "metadata": {},
   "source": [
    "#### Total number of capital letters in review "
   ]
  },
  {
   "cell_type": "code",
   "execution_count": 12,
   "id": "9638ef4a-5e15-44ba-9eb2-c3a5a6dd7155",
   "metadata": {},
   "outputs": [
    {
     "name": "stdout",
     "output_type": "stream",
     "text": [
      "Total number of capital letters:  9\n"
     ]
    }
   ],
   "source": [
    "count = 0 \n",
    "for i in review:\n",
    "    if i.isupper():\n",
    "        count = count +1 \n",
    "print(\"Total number of capital letters: \" , count)"
   ]
  },
  {
   "cell_type": "markdown",
   "id": "3f1d6a9b-3104-4b0b-952e-4d0dcad6bce0",
   "metadata": {},
   "source": [
    "#### Splitting the paragraph into words and finding the total words by using length function"
   ]
  },
  {
   "cell_type": "code",
   "execution_count": 14,
   "id": "ada679db-c3c5-4345-9cf9-0e00063bda4d",
   "metadata": {},
   "outputs": [
    {
     "data": {
      "text/plain": [
       "90"
      ]
     },
     "execution_count": 14,
     "metadata": {},
     "output_type": "execute_result"
    }
   ],
   "source": [
    "len(review.split())"
   ]
  },
  {
   "cell_type": "markdown",
   "id": "fd178d51-6af3-42c1-b88e-58da0427cfd5",
   "metadata": {},
   "source": [
    "#### Find average length of the words in the paragraph\n",
    "#### Formula : Sum of length of each word / Total number of words"
   ]
  },
  {
   "cell_type": "code",
   "execution_count": 15,
   "id": "445ffaaf-8b3b-444e-bf9d-e94e367e6cfc",
   "metadata": {},
   "outputs": [
    {
     "name": "stdout",
     "output_type": "stream",
     "text": [
      "4 Very\n",
      "3 Bad\n",
      "12 refrigerator\n",
      "7 recived\n",
      "2 it\n",
      "5 looks\n",
      "4 good\n",
      "4 from\n",
      "5 front\n",
      "3 but\n",
      "4 from\n",
      "4 back\n",
      "3 its\n",
      "5 screw\n",
      "3 are\n",
      "5 loose\n",
      "3 and\n",
      "5 looks\n",
      "4 like\n",
      "1 a\n",
      "6 second\n",
      "4 hand\n",
      "7 product\n",
      "1 ,\n",
      "3 and\n",
      "3 the\n",
      "6 return\n",
      "7 process\n",
      "2 is\n",
      "4 very\n",
      "4 slow\n",
      "2 so\n",
      "4 much\n",
      "5 calls\n",
      "3 are\n",
      "4 done\n",
      "2 by\n",
      "2 me\n",
      "2 to\n",
      "6 amazon\n",
      "9 coustomer\n",
      "4 care\n",
      "7 service\n",
      "3 for\n",
      "3 the\n",
      "6 return\n",
      "2 of\n",
      "4 this\n",
      "12 refrigerator\n",
      "3 and\n",
      "7 courier\n",
      "7 service\n",
      "5 can't\n",
      "4 came\n",
      "2 to\n",
      "4 pick\n",
      "2 up\n",
      "3 the\n",
      "7 product\n",
      "1 ,\n",
      "2 so\n",
      "8 Headache\n",
      "2 🥴🥴\n",
      "5 while\n",
      "10 purchasing\n",
      "6 online\n",
      "1 a\n",
      "12 refrigerator\n",
      "2 it\n",
      "9 Literally\n",
      "5 waste\n",
      "2 My\n",
      "2 so\n",
      "4 much\n",
      "4 time\n",
      "1 ,\n",
      "4 last\n",
      "4 line\n",
      "2 is\n",
      "4 that\n",
      "5 Don't\n",
      "3 Buy\n",
      "3 and\n",
      "5 waste\n",
      "4 your\n",
      "4 time\n",
      "1 👍\n",
      "4 Very\n",
      "12 Disappointed\n",
      "2 😑😑\n"
     ]
    }
   ],
   "source": [
    "sum=0\n",
    "for i in review.split():\n",
    "    print(len(i),i)\n",
    "    sum=sum+len(i)"
   ]
  },
  {
   "cell_type": "code",
   "execution_count": 19,
   "id": "69567dce-ff26-433d-950a-ef5c7f46701d",
   "metadata": {},
   "outputs": [
    {
     "data": {
      "text/plain": [
       "390"
      ]
     },
     "execution_count": 19,
     "metadata": {},
     "output_type": "execute_result"
    }
   ],
   "source": [
    "sum"
   ]
  },
  {
   "cell_type": "code",
   "execution_count": 20,
   "id": "2abd867e-fd94-4b5a-bd6e-2eedfc5f4d55",
   "metadata": {},
   "outputs": [
    {
     "data": {
      "text/plain": [
       "90"
      ]
     },
     "execution_count": 20,
     "metadata": {},
     "output_type": "execute_result"
    }
   ],
   "source": [
    "len(review.split())"
   ]
  },
  {
   "cell_type": "code",
   "execution_count": 16,
   "id": "a87e594e-66fa-4345-8abb-fe20c7f832d8",
   "metadata": {},
   "outputs": [],
   "source": [
    "Average = sum/len(review.split())"
   ]
  },
  {
   "cell_type": "code",
   "execution_count": 18,
   "id": "a032b8d6-1c97-4e4d-b285-eece8a2fe7aa",
   "metadata": {},
   "outputs": [
    {
     "data": {
      "text/plain": [
       "4.333333333333333"
      ]
     },
     "execution_count": 18,
     "metadata": {},
     "output_type": "execute_result"
    }
   ],
   "source": [
    "Average"
   ]
  },
  {
   "cell_type": "code",
   "execution_count": 21,
   "id": "fc42c01b-f652-436e-9c52-40e6d41c37a3",
   "metadata": {},
   "outputs": [
    {
     "data": {
      "text/plain": [
       "\"Very Bad refrigerator recived it looks good from front but from back its screw are loose and looks like a second hand product , and the return process is very slow so much calls are done by me to amazon coustomer care service for the return of this refrigerator and courier service can't came to pick up the product , so Headache 🥴🥴 while purchasing online a refrigerator it Literally waste My so much time , last line is that Don't Buy and waste your time 👍 Very Disappointed 😑😑 \""
      ]
     },
     "execution_count": 21,
     "metadata": {},
     "output_type": "execute_result"
    }
   ],
   "source": [
    "review"
   ]
  },
  {
   "cell_type": "markdown",
   "id": "913a6905-cd72-4246-88bb-dbbd83e52ae7",
   "metadata": {},
   "source": [
    "#### Reversing a string "
   ]
  },
  {
   "cell_type": "code",
   "execution_count": 22,
   "id": "8806a77a-62f3-4442-b151-edc92c02798d",
   "metadata": {},
   "outputs": [
    {
     "data": {
      "text/plain": [
       "'atad'"
      ]
     },
     "execution_count": 22,
     "metadata": {},
     "output_type": "execute_result"
    }
   ],
   "source": [
    "x = \"data\"\n",
    "output = x[::-1]"
   ]
  },
  {
   "cell_type": "code",
   "execution_count": 25,
   "id": "c447ac3c-0faf-4e2d-8f97-6e068b4c16f1",
   "metadata": {},
   "outputs": [
    {
     "name": "stdout",
     "output_type": "stream",
     "text": [
      "yreV\n",
      "daB\n",
      "rotaregirfer\n",
      "devicer\n",
      "ti\n",
      "skool\n",
      "doog\n",
      "morf\n",
      "tnorf\n",
      "tub\n",
      "morf\n",
      "kcab\n",
      "sti\n",
      "wercs\n",
      "era\n",
      "esool\n",
      "dna\n",
      "skool\n",
      "ekil\n",
      "a\n",
      "dnoces\n",
      "dnah\n",
      "tcudorp\n",
      ",\n",
      "dna\n",
      "eht\n",
      "nruter\n",
      "ssecorp\n",
      "si\n",
      "yrev\n",
      "wols\n",
      "os\n",
      "hcum\n",
      "sllac\n",
      "era\n",
      "enod\n",
      "yb\n",
      "em\n",
      "ot\n",
      "nozama\n",
      "remotsuoc\n",
      "erac\n",
      "ecivres\n",
      "rof\n",
      "eht\n",
      "nruter\n",
      "fo\n",
      "siht\n",
      "rotaregirfer\n",
      "dna\n",
      "reiruoc\n",
      "ecivres\n",
      "t'nac\n",
      "emac\n",
      "ot\n",
      "kcip\n",
      "pu\n",
      "eht\n",
      "tcudorp\n",
      ",\n",
      "os\n",
      "ehcadaeH\n",
      "🥴🥴\n",
      "elihw\n",
      "gnisahcrup\n",
      "enilno\n",
      "a\n",
      "rotaregirfer\n",
      "ti\n",
      "yllaretiL\n",
      "etsaw\n",
      "yM\n",
      "os\n",
      "hcum\n",
      "emit\n",
      ",\n",
      "tsal\n",
      "enil\n",
      "si\n",
      "taht\n",
      "t'noD\n",
      "yuB\n",
      "dna\n",
      "etsaw\n",
      "ruoy\n",
      "emit\n",
      "👍\n",
      "yreV\n",
      "detnioppasiD\n",
      "😑😑\n"
     ]
    },
    {
     "data": {
      "text/plain": [
       "\"yreV daB rotaregirfer devicer ti skool doog morf tnorf tub morf kcab sti wercs era esool dna skool ekil a dnoces dnah tcudorp , dna eht nruter ssecorp si yrev wols os hcum sllac era enod yb em ot nozama remotsuoc erac ecivres rof eht nruter fo siht rotaregirfer dna reiruoc ecivres t'nac emac ot kcip pu eht tcudorp , os ehcadaeH 🥴🥴 elihw gnisahcrup enilno a rotaregirfer ti yllaretiL etsaw yM os hcum emit , tsal enil si taht t'noD yuB dna etsaw ruoy emit 👍 yreV detnioppasiD 😑😑\""
      ]
     },
     "execution_count": 25,
     "metadata": {},
     "output_type": "execute_result"
    }
   ],
   "source": [
    "output = \"\"\n",
    "for i in review.split():\n",
    "    print(i[::-1])\n",
    "    output=(output+\" \" +i[::-1]).lstrip()\n",
    "output"
   ]
  },
  {
   "cell_type": "code",
   "execution_count": 26,
   "id": "defb51b4-a12d-493e-a0ac-166263f5b454",
   "metadata": {},
   "outputs": [
    {
     "data": {
      "text/plain": [
       "\"Very Bad refrigerator recived it looks good from front but from back its screw are loose and looks like a second hand product , and the return process is very slow so much calls are done by me to amazon coustomer care service for the return of this refrigerator and courier service can't came to pick up the product , so Headache 🥴🥴 while purchasing online a refrigerator it Literally waste My so much time , last line is that Don't Buy and waste your time 👍 Very Disappointed 😑😑 \""
      ]
     },
     "execution_count": 26,
     "metadata": {},
     "output_type": "execute_result"
    }
   ],
   "source": [
    "review"
   ]
  },
  {
   "cell_type": "markdown",
   "id": "f2d256f7-23c6-4b37-96b5-0dd6c5575a6b",
   "metadata": {},
   "source": [
    "#### Predicting whether the review is good or bad based on numbers bad and good words used."
   ]
  },
  {
   "cell_type": "code",
   "execution_count": 33,
   "id": "b94d8931-dea9-4815-b5ef-5187c402702f",
   "metadata": {},
   "outputs": [
    {
     "name": "stdout",
     "output_type": "stream",
     "text": [
      "negative review\n",
      "count of bad:  4\n",
      "count of good:  1\n"
     ]
    }
   ],
   "source": [
    "bad=['bad','horrible','waste','disappointed']\n",
    "good=['good','awesome','happy']\n",
    "count_bad=0\n",
    "count_good=0\n",
    "for i in review.lower().split():\n",
    "    if i in bad:\n",
    "        count_bad=count_bad+1\n",
    "    elif i in good:\n",
    "        count_good=count_good+1\n",
    "    else:\n",
    "        pass\n",
    "if count_bad>count_good:\n",
    "    print(\"negative review\")\n",
    "else:\n",
    "    print(\"positive review\")\n",
    "print(\"count of bad: \",count_bad)\n",
    "print(\"count of good: \",count_good)"
   ]
  }
 ],
 "metadata": {
  "kernelspec": {
   "display_name": "Python 3 (ipykernel)",
   "language": "python",
   "name": "python3"
  },
  "language_info": {
   "codemirror_mode": {
    "name": "ipython",
    "version": 3
   },
   "file_extension": ".py",
   "mimetype": "text/x-python",
   "name": "python",
   "nbconvert_exporter": "python",
   "pygments_lexer": "ipython3",
   "version": "3.13.2"
  }
 },
 "nbformat": 4,
 "nbformat_minor": 5
}
