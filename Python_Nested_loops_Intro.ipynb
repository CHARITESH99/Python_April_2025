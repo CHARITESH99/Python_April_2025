{
 "cells": [
  {
   "cell_type": "markdown",
   "id": "153dbcaa-517a-4000-a14c-44b223806250",
   "metadata": {},
   "source": [
    "### for loop with 1 variable "
   ]
  },
  {
   "cell_type": "code",
   "execution_count": 1,
   "id": "11f47027-b7d1-4a7c-8c59-7d19f59f8cc2",
   "metadata": {},
   "outputs": [
    {
     "name": "stdout",
     "output_type": "stream",
     "text": [
      "1\n",
      "2\n",
      "3\n"
     ]
    }
   ],
   "source": [
    "for i in range(1,4):\n",
    "    print(i)"
   ]
  },
  {
   "cell_type": "markdown",
   "id": "2122db50-1836-44e7-a30d-d6064cd3962b",
   "metadata": {},
   "source": [
    "### for loop with 2 variables / nested loop"
   ]
  },
  {
   "cell_type": "code",
   "execution_count": 2,
   "id": "3d1f72c7-c1c9-47be-b6f5-b7909c3cf9cc",
   "metadata": {},
   "outputs": [
    {
     "name": "stdout",
     "output_type": "stream",
     "text": [
      "1 1\n",
      "1 2\n",
      "1 3\n",
      "2 1\n",
      "2 2\n",
      "2 3\n",
      "3 1\n",
      "3 2\n",
      "3 3\n"
     ]
    }
   ],
   "source": [
    "for i in range(1,4):\n",
    "    for j in range(1,4):\n",
    "        print(i,j)"
   ]
  },
  {
   "cell_type": "markdown",
   "id": "0c092bf2-9e1b-44c9-898c-dbff1110b92c",
   "metadata": {},
   "source": [
    "### for loop with 3 variables "
   ]
  },
  {
   "cell_type": "code",
   "execution_count": 3,
   "id": "bb8919f1-48ef-4678-b44e-313671bf6c6c",
   "metadata": {},
   "outputs": [
    {
     "name": "stdout",
     "output_type": "stream",
     "text": [
      "1 1 1\n",
      "1 1 2\n",
      "1 1 3\n",
      "1 2 1\n",
      "1 2 2\n",
      "1 2 3\n",
      "1 3 1\n",
      "1 3 2\n",
      "1 3 3\n",
      "2 1 1\n",
      "2 1 2\n",
      "2 1 3\n",
      "2 2 1\n",
      "2 2 2\n",
      "2 2 3\n",
      "2 3 1\n",
      "2 3 2\n",
      "2 3 3\n",
      "3 1 1\n",
      "3 1 2\n",
      "3 1 3\n",
      "3 2 1\n",
      "3 2 2\n",
      "3 2 3\n",
      "3 3 1\n",
      "3 3 2\n",
      "3 3 3\n"
     ]
    }
   ],
   "source": [
    "for i in range(1,4):\n",
    "    for j in range(1,4):\n",
    "        for k in range(1,4):\n",
    "            print(i,j,k)"
   ]
  },
  {
   "cell_type": "markdown",
   "id": "d8711844-c19d-407e-bba0-3418dba0d120",
   "metadata": {},
   "source": [
    "#### Continue statement "
   ]
  },
  {
   "cell_type": "code",
   "execution_count": 4,
   "id": "bf6785c0-0688-461e-88fc-c6908c708867",
   "metadata": {},
   "outputs": [
    {
     "name": "stdout",
     "output_type": "stream",
     "text": [
      "1,2,4,5,6,7,8,9,"
     ]
    }
   ],
   "source": [
    "for i in range(1,10):\n",
    "    if i==3:\n",
    "        continue\n",
    "    print(i,end=',')"
   ]
  },
  {
   "cell_type": "markdown",
   "id": "df18ffd8-d136-43be-804d-28a86d8cf1a8",
   "metadata": {},
   "source": [
    "#### Break statement"
   ]
  },
  {
   "cell_type": "code",
   "execution_count": 5,
   "id": "fde39def-0bb0-4ac3-9194-6898d8611c6d",
   "metadata": {},
   "outputs": [
    {
     "name": "stdout",
     "output_type": "stream",
     "text": [
      "1,2,"
     ]
    }
   ],
   "source": [
    "for i in range(1,10):\n",
    "    if i==3:\n",
    "        break\n",
    "    print(i,end=',')"
   ]
  },
  {
   "cell_type": "markdown",
   "id": "71401603-e68e-48fe-be65-a35882aaf762",
   "metadata": {},
   "source": [
    "#### Break statement in nested loop"
   ]
  },
  {
   "cell_type": "code",
   "execution_count": 7,
   "id": "2054eae6-25f7-4182-abb1-f1eccb6798b7",
   "metadata": {},
   "outputs": [
    {
     "name": "stdout",
     "output_type": "stream",
     "text": [
      "1 1\n",
      "1 2\n",
      "2 1\n",
      "2 2\n",
      "3 1\n",
      "3 2\n",
      "4 1\n",
      "4 2\n",
      "5 1\n",
      "5 2\n"
     ]
    }
   ],
   "source": [
    "for i in range(1,6):\n",
    "    for j in range(1,6):\n",
    "        if j==3:\n",
    "            break\n",
    "        print(i,j)"
   ]
  },
  {
   "cell_type": "markdown",
   "id": "d2a838dc-71a6-448f-9bbd-51b4b5d71ac3",
   "metadata": {},
   "source": [
    "#### Continue statement in nested loop"
   ]
  },
  {
   "cell_type": "code",
   "execution_count": 8,
   "id": "8009320a-55b6-45ce-b889-cfca1a274913",
   "metadata": {},
   "outputs": [
    {
     "name": "stdout",
     "output_type": "stream",
     "text": [
      "1 1\n",
      "1 2\n",
      "1 4\n",
      "1 5\n",
      "2 1\n",
      "2 2\n",
      "2 4\n",
      "2 5\n",
      "3 1\n",
      "3 2\n",
      "3 4\n",
      "3 5\n",
      "4 1\n",
      "4 2\n",
      "4 4\n",
      "4 5\n",
      "5 1\n",
      "5 2\n",
      "5 4\n",
      "5 5\n"
     ]
    }
   ],
   "source": [
    "for i in range(1,6):\n",
    "    for j in range(1,6):\n",
    "        if j==3:\n",
    "            continue\n",
    "        print(i,j)"
   ]
  }
 ],
 "metadata": {
  "kernelspec": {
   "display_name": "Python 3 (ipykernel)",
   "language": "python",
   "name": "python3"
  },
  "language_info": {
   "codemirror_mode": {
    "name": "ipython",
    "version": 3
   },
   "file_extension": ".py",
   "mimetype": "text/x-python",
   "name": "python",
   "nbconvert_exporter": "python",
   "pygments_lexer": "ipython3",
   "version": "3.13.2"
  }
 },
 "nbformat": 4,
 "nbformat_minor": 5
}
