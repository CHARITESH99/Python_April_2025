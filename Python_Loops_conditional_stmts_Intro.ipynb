{
 "cells": [
  {
   "cell_type": "markdown",
   "id": "1cbfba7a-b4cb-4d75-aea3-3149a740ede4",
   "metadata": {},
   "source": [
    "# Control Structures or Conditional Statements"
   ]
  },
  {
   "cell_type": "markdown",
   "id": "f0b2a00b-6ae8-4835-9dcc-6ef8828016e4",
   "metadata": {},
   "source": [
    "## \"if\" , \"if else\", \"if elif else\""
   ]
  },
  {
   "cell_type": "code",
   "execution_count": null,
   "id": "30f8350c-4c75-4fbc-9e82-37d8500c76cc",
   "metadata": {},
   "outputs": [],
   "source": [
    "if condition:\n",
    "    print(\"statement\")"
   ]
  },
  {
   "cell_type": "code",
   "execution_count": 4,
   "id": "c318ba8d-d51f-4de0-90ff-e5c8e141d2b5",
   "metadata": {},
   "outputs": [
    {
     "name": "stdout",
     "output_type": "stream",
     "text": [
      "Greater\n",
      "Edukron\n"
     ]
    }
   ],
   "source": [
    "x=10\n",
    "if x>2:\n",
    "    print(\"Greater\")\n",
    "    print(\"Edukron\")"
   ]
  },
  {
   "cell_type": "code",
   "execution_count": 6,
   "id": "59cf66c5-6bb9-4fdd-a065-ea358f5b9551",
   "metadata": {},
   "outputs": [
    {
     "name": "stdout",
     "output_type": "stream",
     "text": [
      "test\n"
     ]
    }
   ],
   "source": [
    "x=\"datascience\"\n",
    "if x.isalpha():\n",
    "    print(\"test\")"
   ]
  },
  {
   "cell_type": "code",
   "execution_count": 8,
   "id": "82943757-4ca7-4299-a3a5-422184e0a265",
   "metadata": {},
   "outputs": [
    {
     "name": "stdout",
     "output_type": "stream",
     "text": [
      "test\n"
     ]
    }
   ],
   "source": [
    "x=\"123\"\n",
    "if x.isalnum() and len(x)<5:\n",
    "    print(\"test\")"
   ]
  },
  {
   "cell_type": "code",
   "execution_count": 9,
   "id": "67762017-cf39-4980-b0ee-7cfb5725f8ae",
   "metadata": {},
   "outputs": [
    {
     "name": "stdout",
     "output_type": "stream",
     "text": [
      "test\n"
     ]
    }
   ],
   "source": [
    "x=\"Data\"\n",
    "if x.startswith(\"d\".upper()):\n",
    "    print(\"test\")\n",
    "else:\n",
    "    print(\"edukron\")"
   ]
  },
  {
   "cell_type": "markdown",
   "id": "d1c0ec1f-b22b-4929-84f5-fbd2738d367c",
   "metadata": {},
   "source": [
    "#### \" To take input from user we need to use input() function.This is also known as dynamic input \""
   ]
  },
  {
   "cell_type": "code",
   "execution_count": 10,
   "id": "5cffbb3e-c6f4-4590-aca1-26a15ebf3495",
   "metadata": {},
   "outputs": [
    {
     "name": "stdin",
     "output_type": "stream",
     "text": [
      " admin\n",
      " admin1233\n"
     ]
    },
    {
     "name": "stdout",
     "output_type": "stream",
     "text": [
      "Invalid credentials\n"
     ]
    }
   ],
   "source": [
    "username = input()\n",
    "password = input()\n",
    "\n",
    "if username == \"admin\" and password == \"admin123\":\n",
    "    print(\"Login successful\")\n",
    "else:\n",
    "    print(\"Invalid credentials\")"
   ]
  },
  {
   "cell_type": "code",
   "execution_count": 11,
   "id": "b54d937a-64c8-4579-8c1d-d84f5a974bfb",
   "metadata": {},
   "outputs": [
    {
     "name": "stdout",
     "output_type": "stream",
     "text": [
      "1 201\n"
     ]
    }
   ],
   "source": [
    "x=1\n",
    "y=20\n",
    "if x>2:\n",
    "    x=x+200\n",
    "else:\n",
    "    y=200+x\n",
    "print(x,y)"
   ]
  },
  {
   "cell_type": "code",
   "execution_count": 12,
   "id": "e30a7687-96da-45e5-8182-84cc483a3230",
   "metadata": {},
   "outputs": [
    {
     "name": "stdout",
     "output_type": "stream",
     "text": [
      "2 22\n"
     ]
    }
   ],
   "source": [
    "x=1\n",
    "y=20\n",
    "if x>5:\n",
    "    x=x+5\n",
    "    y=x-2\n",
    "    x=y+2\n",
    "else:\n",
    "    x=x+1\n",
    "    y=y+2\n",
    "print(x,y)"
   ]
  },
  {
   "cell_type": "markdown",
   "id": "fdc91bed-161f-4a8f-aae9-e5ffd3b5a816",
   "metadata": {},
   "source": [
    "## Examples for practice"
   ]
  },
  {
   "cell_type": "markdown",
   "id": "8581a547-d4a3-4fc0-8e00-d0c4e0b80c04",
   "metadata": {},
   "source": [
    "### Example 1 "
   ]
  },
  {
   "cell_type": "code",
   "execution_count": 16,
   "id": "945489fb-6408-4bf5-8a7f-b49839e640bf",
   "metadata": {},
   "outputs": [
    {
     "name": "stdout",
     "output_type": "stream",
     "text": [
      "Example 1: 2 22\n"
     ]
    }
   ],
   "source": [
    "x = 1\n",
    "y = 20\n",
    "if x > 5:\n",
    "    x = x + 5\n",
    "    y = x - 2\n",
    "    x = y + 2\n",
    "else:\n",
    "    x = x + 1\n",
    "    y = y + 2\n",
    "print(\"Example 1:\", x, y)"
   ]
  },
  {
   "cell_type": "markdown",
   "id": "f6166534-a7cc-49fe-8821-c6a4fb14fd3a",
   "metadata": {},
   "source": [
    "### Example 2 "
   ]
  },
  {
   "cell_type": "code",
   "execution_count": 19,
   "id": "fcebbdf3-54ab-45eb-872b-942aa68ea1a3",
   "metadata": {},
   "outputs": [
    {
     "name": "stdout",
     "output_type": "stream",
     "text": [
      "Example 2: 8 10\n"
     ]
    }
   ],
   "source": [
    "a = 10\n",
    "b = 5\n",
    "if a < b:\n",
    "    a += 2\n",
    "    b += 3\n",
    "else:\n",
    "    a -= 2\n",
    "    b *= 2\n",
    "print(\"Example 2:\", a, b)"
   ]
  },
  {
   "cell_type": "markdown",
   "id": "1c948ea0-bc29-431c-b144-96c07d04e3a3",
   "metadata": {},
   "source": [
    "### Example 3"
   ]
  },
  {
   "cell_type": "code",
   "execution_count": 22,
   "id": "3c97013d-ccb3-4304-86ca-b303ecb49296",
   "metadata": {},
   "outputs": [
    {
     "name": "stdout",
     "output_type": "stream",
     "text": [
      "Example 3: 7 10\n"
     ]
    }
   ],
   "source": [
    "x = 3\n",
    "y = 7\n",
    "if x * 2 > y:\n",
    "    x = x * 2\n",
    "    y = y - 1\n",
    "else:\n",
    "    y = y + 3\n",
    "    x = y - x\n",
    "print(\"Example 3:\", x, y)"
   ]
  },
  {
   "cell_type": "markdown",
   "id": "48727114-b750-409e-9bf4-b3a7f793765a",
   "metadata": {},
   "source": [
    "### Example 4 "
   ]
  },
  {
   "cell_type": "code",
   "execution_count": 25,
   "id": "c3372652-5431-4b08-814c-d78e94e88c3a",
   "metadata": {},
   "outputs": [
    {
     "name": "stdout",
     "output_type": "stream",
     "text": [
      "Example 4: 15 3\n"
     ]
    }
   ],
   "source": [
    "p = 12\n",
    "q = 3\n",
    "if p / q == 4:\n",
    "    p = p + q\n",
    "else:\n",
    "    p = p - q\n",
    "print(\"Example 4:\", p, q)"
   ]
  },
  {
   "cell_type": "markdown",
   "id": "61707d9a-3513-447e-9f89-6bc071f4b185",
   "metadata": {},
   "source": [
    "### Example 5"
   ]
  },
  {
   "cell_type": "code",
   "execution_count": 26,
   "id": "f78e5d98-e2a2-4849-b034-d1bb1561d425",
   "metadata": {},
   "outputs": [
    {
     "name": "stdout",
     "output_type": "stream",
     "text": [
      "Example 5: 13 6\n"
     ]
    }
   ],
   "source": [
    "x = 11\n",
    "y = 8\n",
    "if x % 2 == 0:\n",
    "    y = y + 1\n",
    "else:\n",
    "    x = x + 2\n",
    "    y = y - 2\n",
    "print(\"Example 5:\", x, y)"
   ]
  },
  {
   "cell_type": "markdown",
   "id": "54d80a70-0ddb-42ed-89bd-54b8281189b0",
   "metadata": {},
   "source": [
    "### Example 6 "
   ]
  },
  {
   "cell_type": "code",
   "execution_count": 49,
   "id": "290e2141-e322-4a61-8adf-a00352add9fc",
   "metadata": {},
   "outputs": [
    {
     "name": "stdout",
     "output_type": "stream",
     "text": [
      "Example 6: 10 10\n"
     ]
    }
   ],
   "source": [
    "a = 5\n",
    "b = 15\n",
    "if a > 2 and b < 20:\n",
    "    a = a * 2\n",
    "    b = b - 5\n",
    "else:\n",
    "    a = a + b\n",
    "print(\"Example 6:\", a, b)"
   ]
  },
  {
   "cell_type": "markdown",
   "id": "189b1a3b-d864-4fc6-a61a-c4141fb287b0",
   "metadata": {},
   "source": [
    "### Example 7 "
   ]
  },
  {
   "cell_type": "code",
   "execution_count": 30,
   "id": "60d43c4c-78c5-4092-bf87-0567519485f0",
   "metadata": {},
   "outputs": [
    {
     "name": "stdout",
     "output_type": "stream",
     "text": [
      "Example 7: 13 -4\n"
     ]
    }
   ],
   "source": [
    "x = 4\n",
    "y = 9\n",
    "if y > x:\n",
    "    x = x + y\n",
    "    y = y - x\n",
    "else:\n",
    "    x = x - y\n",
    "print(\"Example 7:\", x, y)"
   ]
  },
  {
   "cell_type": "markdown",
   "id": "85741502-47da-4072-9a31-77efde6fe760",
   "metadata": {},
   "source": [
    "### Example 8 "
   ]
  },
  {
   "cell_type": "code",
   "execution_count": 31,
   "id": "c1b5fc7b-16a1-427b-b254-63c4bf147390",
   "metadata": {},
   "outputs": [
    {
     "name": "stdout",
     "output_type": "stream",
     "text": [
      "Example 8: 8 4\n"
     ]
    }
   ],
   "source": [
    "a = 8\n",
    "b = 12\n",
    "if a == b:\n",
    "    a = a * b\n",
    "else:\n",
    "    b = b - a\n",
    "print(\"Example 8:\", a, b)"
   ]
  },
  {
   "cell_type": "markdown",
   "id": "4be54009-a473-40b7-aaea-522fcbd3683e",
   "metadata": {},
   "source": [
    "### Example 9 "
   ]
  },
  {
   "cell_type": "code",
   "execution_count": 32,
   "id": "4b9f509a-c204-48c1-9b46-ab7a1dacbebf",
   "metadata": {},
   "outputs": [
    {
     "name": "stdout",
     "output_type": "stream",
     "text": [
      "Example 9: 36 7\n"
     ]
    }
   ],
   "source": [
    "x = 6\n",
    "y = 6\n",
    "if x >= y:\n",
    "    x = x ** 2\n",
    "    y = y + 1\n",
    "else:\n",
    "    y = y ** 2\n",
    "print(\"Example 9:\", x, y)"
   ]
  },
  {
   "cell_type": "markdown",
   "id": "faddd163-3f02-4441-8e56-b539665a9dac",
   "metadata": {},
   "source": [
    "### Example 10 "
   ]
  },
  {
   "cell_type": "code",
   "execution_count": 33,
   "id": "08304620-a798-47fc-8131-b23257694eb4",
   "metadata": {},
   "outputs": [
    {
     "name": "stdout",
     "output_type": "stream",
     "text": [
      "Example 10: 2 9\n"
     ]
    }
   ],
   "source": [
    "a = 2\n",
    "b = 18\n",
    "if b % a == 0:\n",
    "    b = b // a\n",
    "else:\n",
    "    a = b % a\n",
    "print(\"Example 10:\", a, b)"
   ]
  },
  {
   "cell_type": "markdown",
   "id": "cd84f496-dbd9-446e-918b-7d42b3c33d46",
   "metadata": {},
   "source": [
    "# Loops"
   ]
  },
  {
   "cell_type": "markdown",
   "id": "d92d539d-d6dd-4f4f-b671-b236102c4ee1",
   "metadata": {},
   "source": [
    "### For Loop (Strings, lists, tuples)"
   ]
  },
  {
   "cell_type": "code",
   "execution_count": 35,
   "id": "77f73bae-d45d-49e8-b250-5096819e958a",
   "metadata": {},
   "outputs": [
    {
     "name": "stdout",
     "output_type": "stream",
     "text": [
      "True,True,True,True,False,"
     ]
    }
   ],
   "source": [
    "x=\"data7\"\n",
    "for i in x:\n",
    "    print(i.isalpha(),end = ',')"
   ]
  },
  {
   "cell_type": "code",
   "execution_count": 36,
   "id": "c2c720fa-2d30-45f9-b31b-abf1992ec09e",
   "metadata": {},
   "outputs": [
    {
     "name": "stdout",
     "output_type": "stream",
     "text": [
      "1\n",
      "1\n",
      "2\n",
      "1\n",
      "3\n",
      "1\n",
      "data\n",
      "4\n",
      "[4, 5, 6, 'Data']\n",
      "17\n"
     ]
    }
   ],
   "source": [
    "x=[1,2,3,\"data\",[4,5,6,\"Data\"]]\n",
    "for i in x:\n",
    "    print(i)\n",
    "    print(len(str(i)))"
   ]
  },
  {
   "cell_type": "code",
   "execution_count": 37,
   "id": "5c0b281a-567e-4943-b237-1094f49e60a7",
   "metadata": {},
   "outputs": [
    {
     "name": "stdout",
     "output_type": "stream",
     "text": [
      "4\n",
      "7\n",
      "3\n",
      "4\n",
      "11\n"
     ]
    }
   ],
   "source": [
    "x=\"Data science and data engineering\"\n",
    "for i in x.split():\n",
    "    print(len(i))"
   ]
  },
  {
   "cell_type": "code",
   "execution_count": 48,
   "id": "873a739c-d07c-4edc-a5d4-4a7f11a85303",
   "metadata": {},
   "outputs": [
    {
     "name": "stdout",
     "output_type": "stream",
     "text": [
      "1,2,3,4,5,"
     ]
    }
   ],
   "source": [
    "for i in range(1,6):\n",
    "    print(i,end=',')"
   ]
  },
  {
   "cell_type": "code",
   "execution_count": 40,
   "id": "55fe5aca-e431-4f98-a852-2e01774b39f0",
   "metadata": {},
   "outputs": [
    {
     "name": "stdout",
     "output_type": "stream",
     "text": [
      "1\n",
      "2\n",
      "3\n",
      "4\n",
      "5\n"
     ]
    }
   ],
   "source": [
    "for i in range(1,6):\n",
    "    print(i,end='\\n')"
   ]
  },
  {
   "cell_type": "code",
   "execution_count": 41,
   "id": "fd0c7720-2efe-4769-bc35-acdb86566cf1",
   "metadata": {},
   "outputs": [
    {
     "name": "stdout",
     "output_type": "stream",
     "text": [
      "1,3,5,"
     ]
    }
   ],
   "source": [
    "for i in range(1,6,2):\n",
    "    print(i,end=',')"
   ]
  },
  {
   "cell_type": "code",
   "execution_count": 42,
   "id": "f0e2e418-03ae-4509-823b-7b79bfcf668b",
   "metadata": {},
   "outputs": [
    {
     "name": "stdout",
     "output_type": "stream",
     "text": [
      "1,3,5,7,9,11,13,15,17,19,21,23,25,27,29,31,33,35,37,39,41,43,45,47,49,"
     ]
    }
   ],
   "source": [
    "for i in range(1,50,2):\n",
    "    print(i,end=',')"
   ]
  },
  {
   "cell_type": "code",
   "execution_count": 47,
   "id": "252334c2-102c-46ab-ba7e-4ad8349be13f",
   "metadata": {},
   "outputs": [
    {
     "name": "stdout",
     "output_type": "stream",
     "text": [
      "49,47,45,43,41,39,37,35,33,31,29,27,25,23,21,19,17,15,13,11,9,7,5,3,1,"
     ]
    }
   ],
   "source": [
    "for i in range(49,0,-2):\n",
    "    print(i,end=',')"
   ]
  },
  {
   "cell_type": "markdown",
   "id": "ee764527-d88d-47ff-b316-2169066f7d70",
   "metadata": {},
   "source": [
    "# Pattern Program Examples"
   ]
  },
  {
   "cell_type": "code",
   "execution_count": 50,
   "id": "e1563609-5641-4bcb-a493-b0200ddb159d",
   "metadata": {},
   "outputs": [
    {
     "data": {
      "text/plain": [
       "'****'"
      ]
     },
     "execution_count": 50,
     "metadata": {},
     "output_type": "execute_result"
    }
   ],
   "source": [
    "\"*\"*4"
   ]
  },
  {
   "cell_type": "code",
   "execution_count": 51,
   "id": "c84a0e7f-527c-4d6f-b330-48e961d21c84",
   "metadata": {},
   "outputs": [
    {
     "name": "stdout",
     "output_type": "stream",
     "text": [
      "*\n",
      "**\n",
      "***\n",
      "****\n",
      "*****\n"
     ]
    }
   ],
   "source": [
    "for i in [1,2,3,4,5]:\n",
    "    print(i*\"*\")"
   ]
  },
  {
   "cell_type": "code",
   "execution_count": 52,
   "id": "ddb22c8c-b700-4117-95dd-1fc20e49812d",
   "metadata": {},
   "outputs": [
    {
     "name": "stdout",
     "output_type": "stream",
     "text": [
      "*****\n",
      "****\n",
      "***\n",
      "**\n",
      "*\n"
     ]
    }
   ],
   "source": [
    "for i in [1,2,3,4,5]:\n",
    "    print(\"*\"*(6-i))"
   ]
  },
  {
   "cell_type": "code",
   "execution_count": 57,
   "id": "53979c78-584e-439d-a643-9380d06f235f",
   "metadata": {},
   "outputs": [
    {
     "name": "stdout",
     "output_type": "stream",
     "text": [
      "*\n",
      "**\n",
      "***\n",
      "****\n",
      "*****\n",
      "*****\n",
      "****\n",
      "***\n",
      "**\n",
      "*\n"
     ]
    }
   ],
   "source": [
    "for i in [1,2,3,4,5]:\n",
    "    print(\"*\"*(i))\n",
    "for i in [1,2,3,4,5]:\n",
    "    print(\"*\"*(6-i))\n",
    "    "
   ]
  },
  {
   "cell_type": "code",
   "execution_count": 59,
   "id": "c8693937-e735-4ae5-a7d1-d5a10b8b948c",
   "metadata": {},
   "outputs": [
    {
     "name": "stdout",
     "output_type": "stream",
     "text": [
      "     !\n",
      "    !!\n",
      "   !!!\n",
      "  !!!!\n",
      " !!!!!\n"
     ]
    }
   ],
   "source": [
    "for i in range(1,6):\n",
    "    print((6-i)*\" \"+i*\"!\")"
   ]
  }
 ],
 "metadata": {
  "kernelspec": {
   "display_name": "Python 3 (ipykernel)",
   "language": "python",
   "name": "python3"
  },
  "language_info": {
   "codemirror_mode": {
    "name": "ipython",
    "version": 3
   },
   "file_extension": ".py",
   "mimetype": "text/x-python",
   "name": "python",
   "nbconvert_exporter": "python",
   "pygments_lexer": "ipython3",
   "version": "3.13.2"
  }
 },
 "nbformat": 4,
 "nbformat_minor": 5
}
